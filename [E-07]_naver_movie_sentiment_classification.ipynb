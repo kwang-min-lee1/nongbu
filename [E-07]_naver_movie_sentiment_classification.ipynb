{
 "cells": [
  {
   "cell_type": "markdown",
   "id": "3d32ed56",
   "metadata": {},
   "source": [
    "# 네이버 영화리뷰 감성분석"
   ]
  },
  {
   "cell_type": "markdown",
   "id": "829a17b6",
   "metadata": {},
   "source": [
    "## 1.데이터 준비와 확인"
   ]
  },
  {
   "cell_type": "code",
   "execution_count": 1,
   "id": "ea220a52",
   "metadata": {},
   "outputs": [
    {
     "data": {
      "text/html": [
       "<div>\n",
       "<style scoped>\n",
       "    .dataframe tbody tr th:only-of-type {\n",
       "        vertical-align: middle;\n",
       "    }\n",
       "\n",
       "    .dataframe tbody tr th {\n",
       "        vertical-align: top;\n",
       "    }\n",
       "\n",
       "    .dataframe thead th {\n",
       "        text-align: right;\n",
       "    }\n",
       "</style>\n",
       "<table border=\"1\" class=\"dataframe\">\n",
       "  <thead>\n",
       "    <tr style=\"text-align: right;\">\n",
       "      <th></th>\n",
       "      <th>id</th>\n",
       "      <th>document</th>\n",
       "      <th>label</th>\n",
       "    </tr>\n",
       "  </thead>\n",
       "  <tbody>\n",
       "    <tr>\n",
       "      <th>0</th>\n",
       "      <td>9976970</td>\n",
       "      <td>아 더빙.. 진짜 짜증나네요 목소리</td>\n",
       "      <td>0</td>\n",
       "    </tr>\n",
       "    <tr>\n",
       "      <th>1</th>\n",
       "      <td>3819312</td>\n",
       "      <td>흠...포스터보고 초딩영화줄....오버연기조차 가볍지 않구나</td>\n",
       "      <td>1</td>\n",
       "    </tr>\n",
       "    <tr>\n",
       "      <th>2</th>\n",
       "      <td>10265843</td>\n",
       "      <td>너무재밓었다그래서보는것을추천한다</td>\n",
       "      <td>0</td>\n",
       "    </tr>\n",
       "    <tr>\n",
       "      <th>3</th>\n",
       "      <td>9045019</td>\n",
       "      <td>교도소 이야기구먼 ..솔직히 재미는 없다..평점 조정</td>\n",
       "      <td>0</td>\n",
       "    </tr>\n",
       "    <tr>\n",
       "      <th>4</th>\n",
       "      <td>6483659</td>\n",
       "      <td>사이몬페그의 익살스런 연기가 돋보였던 영화!스파이더맨에서 늙어보이기만 했던 커스틴 ...</td>\n",
       "      <td>1</td>\n",
       "    </tr>\n",
       "  </tbody>\n",
       "</table>\n",
       "</div>"
      ],
      "text/plain": [
       "         id                                           document  label\n",
       "0   9976970                                아 더빙.. 진짜 짜증나네요 목소리      0\n",
       "1   3819312                  흠...포스터보고 초딩영화줄....오버연기조차 가볍지 않구나      1\n",
       "2  10265843                                  너무재밓었다그래서보는것을추천한다      0\n",
       "3   9045019                      교도소 이야기구먼 ..솔직히 재미는 없다..평점 조정      0\n",
       "4   6483659  사이몬페그의 익살스런 연기가 돋보였던 영화!스파이더맨에서 늙어보이기만 했던 커스틴 ...      1"
      ]
     },
     "execution_count": 1,
     "metadata": {},
     "output_type": "execute_result"
    }
   ],
   "source": [
    "import pandas as pd\n",
    "import numpy as np\n",
    "import tensorflow as tf\n",
    "from tensorflow import keras\n",
    "from tensorflow.keras.preprocessing.text import Tokenizer\n",
    "from tensorflow.keras.preprocessing.sequence import pad_sequences\n",
    "import os\n",
    "import re\n",
    "import matplotlib.pyplot as plt\n",
    "\n",
    "# 데이터를 읽어봅시다. \n",
    "train_data = pd.read_table('~/aiffel/sentiment_classification/data/ratings_train.txt')\n",
    "test_data = pd.read_table('~/aiffel/sentiment_classification/data/ratings_test.txt')\n",
    "\n",
    "train_data.head()"
   ]
  },
  {
   "cell_type": "markdown",
   "id": "f0dc67cb",
   "metadata": {},
   "source": [
    "## 2. 데이터로더 구성"
   ]
  },
  {
   "cell_type": "markdown",
   "id": "4595af99",
   "metadata": {},
   "source": [
    "### nsmc 데이터셋의 텍스트를 가공하여 data_loader를 만들기.  \n",
    "1)데이터의 중복 제거  \n",
    "2)NaN 결측치 제거  \n",
    "3)한국어 토크나이저로 토큰화  \n",
    "4)불용어(Stopwords) 제거  \n",
    "5)사전word_to_index 구성  \n",
    "6)텍스트 스트링을 사전 인덱스 스트링으로 변환  \n",
    "7)X_train, y_train, X_test, y_test, word_to_index 리턴  "
   ]
  },
  {
   "cell_type": "code",
   "execution_count": 2,
   "id": "80bd1258",
   "metadata": {},
   "outputs": [],
   "source": [
    "from konlpy.tag import Mecab\n",
    "from collections import Counter\n",
    "\n",
    "tokenizer = Mecab()\n",
    "stopwords = ['의','가','이','은','들','는','좀','잘','걍','과','도','를','으로','자','에','와','한','하다']\n",
    "\n",
    "def load_data(train_data, test_data, num_words=10000):\n",
    "    train_data.drop_duplicates(subset=['document'], inplace=True) # 중복 제거\n",
    "    train_data = train_data.dropna(how = 'any') \n",
    "    test_data.drop_duplicates(subset=['document'], inplace=True) # 중복 제거\n",
    "    test_data = test_data.dropna(how = 'any') \n",
    "    \n",
    "    X_train = []\n",
    "    for sentence in train_data['document']:\n",
    "        temp_X = tokenizer.morphs(sentence) # 토큰화\n",
    "        temp_X = [word for word in temp_X if not word in stopwords] # 불용어 제거\n",
    "        X_train.append(temp_X)\n",
    "\n",
    "    X_test = []\n",
    "    for sentence in test_data['document']:\n",
    "        temp_X = tokenizer.morphs(sentence) # 토큰화\n",
    "        temp_X = [word for word in temp_X if not word in stopwords] # 불용어 제거\n",
    "        X_test.append(temp_X)\n",
    "    \n",
    "    words = np.concatenate(X_train).tolist()\n",
    "    counter = Counter(words)\n",
    "    counter = counter.most_common(10000-4)\n",
    "    vocab = ['<PAD>', '<BOS>', '<UNK>', '<UNUSED>'] + [key for key, _ in counter]\n",
    "    word_to_index = {word:index for index, word in enumerate(vocab)}\n",
    "        \n",
    "    def wordlist_to_indexlist(wordlist):\n",
    "        return [word_to_index[word] if word in word_to_index else word_to_index['<UNK>'] for word in wordlist]\n",
    "        \n",
    "    X_train = list(map(wordlist_to_indexlist, X_train))\n",
    "    X_test = list(map(wordlist_to_indexlist, X_test))\n",
    "        \n",
    "    return X_train, np.array(list(train_data['label'])), X_test, np.array(list(test_data['label'])), word_to_index\n",
    "    \n",
    "X_train, y_train, X_test, y_test, word_to_index = load_data(train_data, test_data) "
   ]
  },
  {
   "cell_type": "code",
   "execution_count": 3,
   "id": "3047edf0",
   "metadata": {},
   "outputs": [
    {
     "name": "stdout",
     "output_type": "stream",
     "text": [
      "train data 개수: 146182, test data 개수: 49157\n"
     ]
    }
   ],
   "source": [
    "X_train, y_train, X_test, y_test, word_to_index = load_data(train_data, test_data) \n",
    "print(f'train data 개수: {len(X_train)}, test data 개수: {len(X_test)}')"
   ]
  },
  {
   "cell_type": "code",
   "execution_count": 4,
   "id": "22436051",
   "metadata": {},
   "outputs": [],
   "source": [
    "index_to_word = {index:word for word, index in word_to_index.items()}"
   ]
  },
  {
   "cell_type": "markdown",
   "id": "7a9ce5db",
   "metadata": {},
   "source": [
    "기능을 수행하는 함수들을 정의"
   ]
  },
  {
   "cell_type": "code",
   "execution_count": 5,
   "id": "01a89608",
   "metadata": {},
   "outputs": [],
   "source": [
    "# 문장 1개를 활용할 딕셔너리와 함께 주면, 단어 인덱스 리스트 벡터로 변환해 주는 함수\n",
    "# 단, 모든 문장은 <BOS>로 시작\n",
    "def get_encoded_sentence(sentence, word_to_index): \n",
    "    return [word_to_index['<BOS>']]+[word_to_index[word] if word in word_to_index else word_to_index['<UNK>'] for word in sentence.split()]\n",
    "\n",
    "# 여러 개의 문장 리스트를 한꺼번에 단어 인덱스 리스트 벡터로 encode해 주는 함수 \n",
    "def get_encoded_sentences(sentences, word_to_index):\n",
    "    return [get_encoded_sentence(sentence, word_to_index) for sentence in sentences]\n",
    "\n",
    "# 숫자 벡터로 encode된 문장을 원래대로 decode하는 함수 \n",
    "def get_decoded_sentence(encoded_sentence, index_to_word):\n",
    "    return ' '.join(index_to_word[index] if index in index_to_word else '<UNK>' for index in encoded_sentence[1:])  #[1:]를 통해 <BOS>를 제외\n",
    "\n",
    "# 여러 개의 숫자 벡터로 encode된 문장을 한꺼번에 원래대로 decode하는 함수. \n",
    "def get_decoded_sentences(encoded_sentences, index_to_word):\n",
    "    return [get_decoded_sentence(encoded_sentence, index_to_word) for encoded_sentence in encoded_sentences]"
   ]
  },
  {
   "cell_type": "markdown",
   "id": "7ceafc74",
   "metadata": {},
   "source": [
    "## 3 모델 구성을 위한 데이터 분석 및 가공"
   ]
  },
  {
   "cell_type": "markdown",
   "id": "f2c0902a",
   "metadata": {},
   "source": [
    "1)데이터셋 내 문장 길이 분포  \n",
    "2)적절한 최대 문장 길이 지정  \n",
    "3)keras.preprocessing.sequence.pad_sequences 을 활용한 패딩 추가  "
   ]
  },
  {
   "cell_type": "markdown",
   "id": "df27c836",
   "metadata": {},
   "source": [
    "문장 최대 길이 maxlen의 값 설정도 전체 모델 성능에 영향을 주기 때문에,   \n",
    "적절한 값을 찾기 위해서는 전체 데이터셋의 분포를 확인할 것."
   ]
  },
  {
   "cell_type": "code",
   "execution_count": 6,
   "id": "795345f3",
   "metadata": {},
   "outputs": [
    {
     "name": "stdout",
     "output_type": "stream",
     "text": [
      "문장길이 평균 :  15.96940191154864\n",
      "문장길이 최대 :  116\n",
      "문장길이 표준편차 :  12.843571191092\n",
      "pad_sequences maxlen :  41\n",
      "전체 문장의 0.9342988343341575%가 maxlen 설정값 이내에 포함됩니다. \n"
     ]
    }
   ],
   "source": [
    "total_data_text = list(X_train) + list(X_test)\n",
    "# 텍스트데이터 문장길이의 리스트를 생성한 후\n",
    "num_tokens = [len(tokens) for tokens in total_data_text]\n",
    "num_tokens = np.array(num_tokens)\n",
    "# 문장길이의 평균값, 최대값, 표준편차를 계산해 본다. \n",
    "print('문장길이 평균 : ', np.mean(num_tokens))\n",
    "print('문장길이 최대 : ', np.max(num_tokens))\n",
    "print('문장길이 표준편차 : ', np.std(num_tokens))\n",
    "\n",
    "# 예를들어, 최대 길이를 (평균 + 2*표준편차)로 한다면,  \n",
    "max_tokens = np.mean(num_tokens) + 2 * np.std(num_tokens)\n",
    "maxlen = int(max_tokens)\n",
    "print('pad_sequences maxlen : ', maxlen)\n",
    "print('전체 문장의 {}%가 maxlen 설정값 이내에 포함됩니다. '.format(np.sum(num_tokens < max_tokens) / len(num_tokens)))"
   ]
  },
  {
   "cell_type": "markdown",
   "id": "fffa6537",
   "metadata": {},
   "source": [
    "적절한 최대 문장 길이는 41로 지정한다."
   ]
  },
  {
   "cell_type": "markdown",
   "id": "dd83c993",
   "metadata": {},
   "source": [
    "keras.preprocessing.sequence.pad_sequences 을 활용한 패딩 추가할때,  \n",
    "padding 방식을 문장 뒤쪽('post')과 앞쪽('pre') 중 어느 쪽으로 하느냐에 따라  \n",
    "RNN을 이용한 딥러닝 적용 시 성능 차이가 발생한다   \n",
    "결과적으로 'pre'가 훨씬 유리한데 그 이유는  \n",
    "입력데이터가 순차적으로 처리 되므로, 마지막 입력이 무의미한 padding으로 채워지는 것은 비효율적이기 때문이다."
   ]
  },
  {
   "cell_type": "code",
   "execution_count": 7,
   "id": "8f353bbf",
   "metadata": {},
   "outputs": [
    {
     "name": "stdout",
     "output_type": "stream",
     "text": [
      "(146182, 41)\n"
     ]
    }
   ],
   "source": [
    "X_train_post = tf.keras.preprocessing.sequence.pad_sequences(X_train,\n",
    "                                                        value=word_to_index[\"<PAD>\"],\n",
    "                                                        padding='post', # 혹은 'pre'\n",
    "                                                        maxlen=maxlen)\n",
    "\n",
    "X_test_post = tf.keras.preprocessing.sequence.pad_sequences(X_test,\n",
    "                                                       value=word_to_index[\"<PAD>\"],\n",
    "                                                       padding='post', # 혹은 'pre'\n",
    "                                                       maxlen=maxlen)\n",
    "\n",
    "print(X_train_post.shape)"
   ]
  },
  {
   "cell_type": "code",
   "execution_count": 8,
   "id": "f77ce14d",
   "metadata": {},
   "outputs": [
    {
     "name": "stdout",
     "output_type": "stream",
     "text": [
      "(146182, 41)\n"
     ]
    }
   ],
   "source": [
    "X_train_pre = tf.keras.preprocessing.sequence.pad_sequences(X_train,\n",
    "                                                        value=word_to_index[\"<PAD>\"],\n",
    "                                                        padding='pre', \n",
    "                                                        maxlen=maxlen)\n",
    "\n",
    "X_test_pre = tf.keras.preprocessing.sequence.pad_sequences(X_test,\n",
    "                                                       value=word_to_index[\"<PAD>\"],\n",
    "                                                       padding='pre', \n",
    "                                                       maxlen=maxlen)\n",
    "\n",
    "print(X_train_pre.shape)"
   ]
  },
  {
   "cell_type": "markdown",
   "id": "adcbc699",
   "metadata": {},
   "source": [
    "## 4. 모델 구성 및 validation set 구성"
   ]
  },
  {
   "cell_type": "markdown",
   "id": "0c79a9f9",
   "metadata": {},
   "source": [
    "### 모델 생성"
   ]
  },
  {
   "cell_type": "markdown",
   "id": "6a4a044f",
   "metadata": {},
   "source": [
    "### a. RNN 모델 (Recurrent Neural Network)"
   ]
  },
  {
   "cell_type": "code",
   "execution_count": 9,
   "id": "bb668433",
   "metadata": {},
   "outputs": [
    {
     "name": "stdout",
     "output_type": "stream",
     "text": [
      "Model: \"sequential\"\n",
      "_________________________________________________________________\n",
      "Layer (type)                 Output Shape              Param #   \n",
      "=================================================================\n",
      "embedding (Embedding)        (None, None, 16)          160000    \n",
      "_________________________________________________________________\n",
      "lstm (LSTM)                  (None, 8)                 800       \n",
      "_________________________________________________________________\n",
      "dense (Dense)                (None, 8)                 72        \n",
      "_________________________________________________________________\n",
      "dense_1 (Dense)              (None, 1)                 9         \n",
      "=================================================================\n",
      "Total params: 160,881\n",
      "Trainable params: 160,881\n",
      "Non-trainable params: 0\n",
      "_________________________________________________________________\n"
     ]
    }
   ],
   "source": [
    "vocab_size = 10000    # 어휘 사전의 크기입니다(10,000개의 단어)\n",
    "word_vector_dim = 16  # 워드 벡터의 차원 수 (변경 가능한 하이퍼파라미터)\n",
    "\n",
    "# model 설계\n",
    "model_rnn = tf.keras.Sequential()\n",
    "model_rnn.add(tf.keras.layers.Embedding(vocab_size, word_vector_dim, input_shape=(None,)))\n",
    "model_rnn.add(tf.keras.layers.LSTM(8))   # 가장 널리 쓰이는 RNN인 LSTM 레이어를 사용. 이때 LSTM state 벡터의 차원수는 8. (변경 가능)\n",
    "model_rnn.add(tf.keras.layers.Dense(8, activation='relu'))\n",
    "model_rnn.add(tf.keras.layers.Dense(1, activation='sigmoid'))  # 최종 출력은 긍정/부정을 나타내는 1dim \n",
    "\n",
    "model_rnn.summary()"
   ]
  },
  {
   "cell_type": "markdown",
   "id": "dca90135",
   "metadata": {},
   "source": [
    "### b. CNN 모델"
   ]
  },
  {
   "cell_type": "markdown",
   "id": "8f78464e",
   "metadata": {},
   "source": [
    "1-D Convolution Neural Network(1-D CNN)를 사용할 수 있음  \n",
    "이미지는 시퀀스 데이터가 아니라서,이미지 분류기 모델에는 이미지 전체가 한꺼번에 입력으로 사용  \n",
    "1-D CNN은 문장 전체를 한꺼번에 한 방향으로 길이 7짜리 필터로 스캐닝 하면서  \n",
    "7단어 이내에서 발견되는 특징을 추출하여 그것으로 문장을 분류하는 방식으로 사용  \n",
    "RNN 못지않은 효율  \n",
    "CNN 계열은 RNN 계열보다 병렬처리가 효율적이기 때문에 학습 속도도 훨씬 빠르게 진행된다는 장점"
   ]
  },
  {
   "cell_type": "code",
   "execution_count": 10,
   "id": "45c0e764",
   "metadata": {},
   "outputs": [
    {
     "name": "stdout",
     "output_type": "stream",
     "text": [
      "Model: \"sequential_1\"\n",
      "_________________________________________________________________\n",
      "Layer (type)                 Output Shape              Param #   \n",
      "=================================================================\n",
      "embedding_1 (Embedding)      (None, None, 16)          160000    \n",
      "_________________________________________________________________\n",
      "conv1d (Conv1D)              (None, None, 16)          1808      \n",
      "_________________________________________________________________\n",
      "max_pooling1d (MaxPooling1D) (None, None, 16)          0         \n",
      "_________________________________________________________________\n",
      "conv1d_1 (Conv1D)            (None, None, 16)          1808      \n",
      "_________________________________________________________________\n",
      "global_max_pooling1d (Global (None, 16)                0         \n",
      "_________________________________________________________________\n",
      "dense_2 (Dense)              (None, 8)                 136       \n",
      "_________________________________________________________________\n",
      "dense_3 (Dense)              (None, 1)                 9         \n",
      "=================================================================\n",
      "Total params: 163,761\n",
      "Trainable params: 163,761\n",
      "Non-trainable params: 0\n",
      "_________________________________________________________________\n"
     ]
    }
   ],
   "source": [
    "vocab_size = 10000  # 어휘 사전의 크기(10000개의 단어)\n",
    "word_vector_dim = 16   # 단어 하나를 표현하는 임베딩 벡터의 차원 수. \n",
    "\n",
    "model_cnn = tf.keras.Sequential()\n",
    "model_cnn.add(tf.keras.layers.Embedding(vocab_size, word_vector_dim, input_shape=(None,)))\n",
    "model_cnn.add(tf.keras.layers.Conv1D(16, 7, activation='relu'))\n",
    "model_cnn.add(tf.keras.layers.MaxPooling1D(5))\n",
    "model_cnn.add(tf.keras.layers.Conv1D(16, 7, activation='relu'))\n",
    "model_cnn.add(tf.keras.layers.GlobalMaxPooling1D())\n",
    "model_cnn.add(tf.keras.layers.Dense(8, activation='relu'))\n",
    "model_cnn.add(tf.keras.layers.Dense(1, activation='sigmoid'))  # 최종 출력은 긍정/부정을 나타내는 1dim .\n",
    "\n",
    "model_cnn.summary()"
   ]
  },
  {
   "cell_type": "markdown",
   "id": "93daad2d",
   "metadata": {},
   "source": [
    "### c. GlobalMaxPooling1D() 레이어"
   ]
  },
  {
   "cell_type": "markdown",
   "id": "f3642f53",
   "metadata": {},
   "source": [
    "레이어 하나만 사용하는 방법  \n",
    "전체 문장 중에서 단 하나의 가장 중요한 단어만 피처로 추출하여 그것으로 문장의 긍정/부정을 평가하는 방식"
   ]
  },
  {
   "cell_type": "code",
   "execution_count": 11,
   "id": "1a81816f",
   "metadata": {},
   "outputs": [
    {
     "name": "stdout",
     "output_type": "stream",
     "text": [
      "Model: \"sequential_2\"\n",
      "_________________________________________________________________\n",
      "Layer (type)                 Output Shape              Param #   \n",
      "=================================================================\n",
      "embedding_2 (Embedding)      (None, None, 16)          160000    \n",
      "_________________________________________________________________\n",
      "global_max_pooling1d_1 (Glob (None, 16)                0         \n",
      "_________________________________________________________________\n",
      "dense_4 (Dense)              (None, 8)                 136       \n",
      "_________________________________________________________________\n",
      "dense_5 (Dense)              (None, 1)                 9         \n",
      "=================================================================\n",
      "Total params: 160,145\n",
      "Trainable params: 160,145\n",
      "Non-trainable params: 0\n",
      "_________________________________________________________________\n"
     ]
    }
   ],
   "source": [
    "# GlobalMaxPooling1D() 레이어 하나만 사용하여 모델 설계\n",
    "vocab_size = 10000  # 어휘 사전의 크기(10000개의 단어)\n",
    "word_vector_dim = 16   # 단어 하나를 표현하는 임베딩 벡터의 차원 수 \n",
    "\n",
    "model_glob = tf.keras.Sequential()\n",
    "model_glob.add(tf.keras.layers.Embedding(vocab_size, word_vector_dim, input_shape=(None,)))\n",
    "model_glob.add(tf.keras.layers.GlobalMaxPooling1D())\n",
    "model_glob.add(tf.keras.layers.Dense(8, activation='relu'))\n",
    "model_glob.add(tf.keras.layers.Dense(1, activation='sigmoid'))  # 최종 출력은 긍정/부정을 나타내는 1dim .\n",
    "\n",
    "model_glob.summary()"
   ]
  },
  {
   "cell_type": "markdown",
   "id": "2253a91a",
   "metadata": {},
   "source": [
    "### validation set 구성"
   ]
  },
  {
   "cell_type": "code",
   "execution_count": 12,
   "id": "8195e59b",
   "metadata": {},
   "outputs": [
    {
     "name": "stdout",
     "output_type": "stream",
     "text": [
      "(10000, 41)\n",
      "(10000,)\n",
      "(136182, 41)\n",
      "(136182,)\n"
     ]
    }
   ],
   "source": [
    "# 훈련용 데이터셋 146182건 중 10000건을 분리하여 검증셋(validation set)으로 사용\n",
    "X_val = X_train_pre[:10000]   \n",
    "y_val = y_train[:10000]\n",
    "\n",
    "# validation set을 제외한 나머지 \n",
    "partial_X_train = X_train_pre[10000:]  \n",
    "partial_y_train = y_train[10000:]\n",
    "\n",
    "print(X_val.shape)\n",
    "print(y_val.shape)\n",
    "print(partial_X_train.shape)\n",
    "print(partial_y_train.shape)"
   ]
  },
  {
   "cell_type": "markdown",
   "id": "db4d961b",
   "metadata": {},
   "source": [
    "## 5. 모델 훈련 및 그래프"
   ]
  },
  {
   "cell_type": "markdown",
   "id": "db70cc67",
   "metadata": {},
   "source": [
    "### a-1 RNN 모델 훈련"
   ]
  },
  {
   "cell_type": "code",
   "execution_count": 13,
   "id": "2c58e2c5",
   "metadata": {},
   "outputs": [
    {
     "name": "stdout",
     "output_type": "stream",
     "text": [
      "Epoch 1/10\n",
      "266/266 [==============================] - 5s 7ms/step - loss: 0.4940 - accuracy: 0.7843 - val_loss: 0.3602 - val_accuracy: 0.8444\n",
      "Epoch 2/10\n",
      "266/266 [==============================] - 1s 5ms/step - loss: 0.3393 - accuracy: 0.8574 - val_loss: 0.3391 - val_accuracy: 0.8528\n",
      "Epoch 3/10\n",
      "266/266 [==============================] - 1s 5ms/step - loss: 0.3157 - accuracy: 0.8678 - val_loss: 0.3384 - val_accuracy: 0.8521\n",
      "Epoch 4/10\n",
      "266/266 [==============================] - 1s 5ms/step - loss: 0.3032 - accuracy: 0.8734 - val_loss: 0.3349 - val_accuracy: 0.8537\n",
      "Epoch 5/10\n",
      "266/266 [==============================] - 1s 5ms/step - loss: 0.2933 - accuracy: 0.8783 - val_loss: 0.3351 - val_accuracy: 0.8542\n",
      "Epoch 6/10\n",
      "266/266 [==============================] - 1s 5ms/step - loss: 0.2829 - accuracy: 0.8838 - val_loss: 0.3412 - val_accuracy: 0.8526\n",
      "Epoch 7/10\n",
      "266/266 [==============================] - 1s 5ms/step - loss: 0.2742 - accuracy: 0.8875 - val_loss: 0.3447 - val_accuracy: 0.8531\n",
      "Epoch 8/10\n",
      "266/266 [==============================] - 1s 5ms/step - loss: 0.2649 - accuracy: 0.8920 - val_loss: 0.3524 - val_accuracy: 0.8517\n",
      "Epoch 9/10\n",
      "266/266 [==============================] - 1s 5ms/step - loss: 0.2566 - accuracy: 0.8966 - val_loss: 0.3539 - val_accuracy: 0.8508\n",
      "Epoch 10/10\n",
      "266/266 [==============================] - 1s 5ms/step - loss: 0.2486 - accuracy: 0.8998 - val_loss: 0.3574 - val_accuracy: 0.8508\n"
     ]
    }
   ],
   "source": [
    "# 모델 학습\n",
    "model_rnn.compile(optimizer='adam',\n",
    "              loss='binary_crossentropy',\n",
    "              metrics=['accuracy'])\n",
    "              \n",
    "epochs=10  # 몇 epoch를 훈련하면 좋을지 결과를 보면서 바꾸어 봅시다. \n",
    "\n",
    "history_rnn = model_rnn.fit(partial_X_train,\n",
    "                    partial_y_train,\n",
    "                    epochs=epochs,\n",
    "                    batch_size=512,\n",
    "                    validation_data=(X_val, y_val),\n",
    "                    verbose=1)"
   ]
  },
  {
   "cell_type": "markdown",
   "id": "6d65ded4",
   "metadata": {},
   "source": [
    "### a-2 RNN 모델  Loss, Accuracy  그래프 시각화 "
   ]
  },
  {
   "cell_type": "code",
   "execution_count": 14,
   "id": "312b774e",
   "metadata": {},
   "outputs": [
    {
     "data": {
      "image/png": "[encoded data removed]",
      "text/plain": [
       "<Figure size 432x288 with 1 Axes>"
      ]
     },
     "metadata": {
      "needs_background": "light"
     },
     "output_type": "display_data"
    }
   ],
   "source": [
    "history_rnn_dict = history_rnn.history\n",
    "\n",
    "# Training and validation loss 그래프 그리기\n",
    "acc = history_rnn_dict['accuracy']\n",
    "val_acc = history_rnn_dict['val_accuracy']\n",
    "loss = history_rnn_dict['loss']\n",
    "val_loss = history_rnn_dict['val_loss']\n",
    "\n",
    "epochs = range(1, len(acc) + 1)\n",
    "\n",
    "# \"bo\"는 \"파란색 점\"입니다\n",
    "plt.plot(epochs, loss, 'bo', label='Training loss')\n",
    "# b는 \"파란 실선\"입니다\n",
    "plt.plot(epochs, val_loss, 'b', label='Validation loss')\n",
    "plt.title('Training and validation loss')\n",
    "plt.xlabel('Epochs')\n",
    "plt.ylabel('Loss')\n",
    "plt.legend()\n",
    "\n",
    "plt.show()"
   ]
  },
  {
   "cell_type": "code",
   "execution_count": 15,
   "id": "71fe7ab0",
   "metadata": {},
   "outputs": [
    {
     "data": {
      "image/png": "[encoded data removed]",
      "text/plain": [
       "<Figure size 432x288 with 1 Axes>"
      ]
     },
     "metadata": {
      "needs_background": "light"
     },
     "output_type": "display_data"
    }
   ],
   "source": [
    "# Training and validation accuracy 그래프 그리기\n",
    "plt.clf()   # 그림을 초기화합니다\n",
    "\n",
    "plt.plot(epochs, acc, 'bo', label='Training acc')\n",
    "plt.plot(epochs, val_acc, 'b', label='Validation acc')\n",
    "plt.title('Training and validation accuracy')\n",
    "plt.xlabel('Epochs')\n",
    "plt.ylabel('Accuracy')\n",
    "plt.legend()\n",
    "\n",
    "plt.show()"
   ]
  },
  {
   "cell_type": "markdown",
   "id": "5bf8fe96",
   "metadata": {},
   "source": [
    "### a-3 RNN 모델의 test set 으로 평가"
   ]
  },
  {
   "cell_type": "code",
   "execution_count": 16,
   "id": "99850757",
   "metadata": {},
   "outputs": [
    {
     "name": "stdout",
     "output_type": "stream",
     "text": [
      "1537/1537 - 3s - loss: 0.3700 - accuracy: 0.8461\n",
      "[0.3700120747089386, 0.8461460471153259]\n"
     ]
    }
   ],
   "source": [
    "results = model_rnn.evaluate(X_test_pre,  y_test, verbose=2)\n",
    "\n",
    "print(results)"
   ]
  },
  {
   "cell_type": "markdown",
   "id": "2ff733cd",
   "metadata": {},
   "source": [
    "### b-1 CNN 모델 훈련 "
   ]
  },
  {
   "cell_type": "code",
   "execution_count": 17,
   "id": "58f297e0",
   "metadata": {},
   "outputs": [
    {
     "name": "stdout",
     "output_type": "stream",
     "text": [
      "Epoch 1/10\n",
      "266/266 [==============================] - 1s 5ms/step - loss: 0.2397 - accuracy: 0.9040 - val_loss: 0.3674 - val_accuracy: 0.8510\n",
      "Epoch 2/10\n",
      "266/266 [==============================] - 1s 5ms/step - loss: 0.2320 - accuracy: 0.9072 - val_loss: 0.3718 - val_accuracy: 0.8497\n",
      "Epoch 3/10\n",
      "266/266 [==============================] - 1s 5ms/step - loss: 0.2251 - accuracy: 0.9099 - val_loss: 0.3984 - val_accuracy: 0.8497\n",
      "Epoch 4/10\n",
      "266/266 [==============================] - 1s 5ms/step - loss: 0.2166 - accuracy: 0.9137 - val_loss: 0.4078 - val_accuracy: 0.8501\n",
      "Epoch 5/10\n",
      "266/266 [==============================] - 1s 5ms/step - loss: 0.2090 - accuracy: 0.9174 - val_loss: 0.4130 - val_accuracy: 0.8496\n",
      "Epoch 6/10\n",
      "266/266 [==============================] - 1s 5ms/step - loss: 0.2013 - accuracy: 0.9205 - val_loss: 0.4279 - val_accuracy: 0.8470\n",
      "Epoch 7/10\n",
      "266/266 [==============================] - 1s 5ms/step - loss: 0.1960 - accuracy: 0.9223 - val_loss: 0.4443 - val_accuracy: 0.8469\n",
      "Epoch 8/10\n",
      "266/266 [==============================] - 1s 5ms/step - loss: 0.1873 - accuracy: 0.9260 - val_loss: 0.4566 - val_accuracy: 0.8451\n",
      "Epoch 9/10\n",
      "266/266 [==============================] - 1s 5ms/step - loss: 0.1836 - accuracy: 0.9273 - val_loss: 0.4765 - val_accuracy: 0.8440\n",
      "Epoch 10/10\n",
      "266/266 [==============================] - 1s 5ms/step - loss: 0.1757 - accuracy: 0.9309 - val_loss: 0.4896 - val_accuracy: 0.8452\n"
     ]
    }
   ],
   "source": [
    "# 모델 학습\n",
    "model_cnn.compile(optimizer='adam',\n",
    "              loss='binary_crossentropy',\n",
    "              metrics=['accuracy'])\n",
    "              \n",
    "epochs=10  # 몇 epoch를 훈련하면 좋을지 결과를 보면서 바꾸어 봅시다. \n",
    "\n",
    "history_cnn = model_rnn.fit(partial_X_train,\n",
    "                    partial_y_train,\n",
    "                    epochs=epochs,\n",
    "                    batch_size=512,\n",
    "                    validation_data=(X_val, y_val),\n",
    "                    verbose=1)"
   ]
  },
  {
   "cell_type": "markdown",
   "id": "2a01664c",
   "metadata": {},
   "source": [
    "### b-2 CNN 모델 Loss, Accuracy 그래프 시각화"
   ]
  },
  {
   "cell_type": "code",
   "execution_count": 18,
   "id": "01c87ed1",
   "metadata": {},
   "outputs": [
    {
     "data": {
      "image/png": "[encoded data removed]",
      "text/plain": [
       "<Figure size 432x288 with 1 Axes>"
      ]
     },
     "metadata": {
      "needs_background": "light"
     },
     "output_type": "display_data"
    }
   ],
   "source": [
    "history_cnn_dict = history_cnn.history\n",
    "\n",
    "# Training and validation loss 그래프 그리기\n",
    "acc = history_cnn_dict['accuracy']\n",
    "val_acc = history_cnn_dict['val_accuracy']\n",
    "loss = history_cnn_dict['loss']\n",
    "val_loss = history_cnn_dict['val_loss']\n",
    "\n",
    "epochs = range(1, len(acc) + 1)\n",
    "\n",
    "# \"bo\"는 \"파란색 점\"입니다\n",
    "plt.plot(epochs, loss, 'bo', label='Training loss')\n",
    "# b는 \"파란 실선\"입니다\n",
    "plt.plot(epochs, val_loss, 'b', label='Validation loss')\n",
    "plt.title('Training and validation loss')\n",
    "plt.xlabel('Epochs')\n",
    "plt.ylabel('Loss')\n",
    "plt.legend()\n",
    "\n",
    "plt.show()"
   ]
  },
  {
   "cell_type": "code",
   "execution_count": 19,
   "id": "7fbd063e",
   "metadata": {},
   "outputs": [
    {
     "data": {
      "image/png": "[encoded data removed]",
      "text/plain": [
       "<Figure size 432x288 with 1 Axes>"
      ]
     },
     "metadata": {
      "needs_background": "light"
     },
     "output_type": "display_data"
    }
   ],
   "source": [
    "# Training and validation accuracy 그래프 그리기\n",
    "plt.clf()   # 그림을 초기화합니다\n",
    "\n",
    "plt.plot(epochs, acc, 'bo', label='Training acc')\n",
    "plt.plot(epochs, val_acc, 'b', label='Validation acc')\n",
    "plt.title('Training and validation accuracy')\n",
    "plt.xlabel('Epochs')\n",
    "plt.ylabel('Accuracy')\n",
    "plt.legend()\n",
    "\n",
    "plt.show()"
   ]
  },
  {
   "cell_type": "markdown",
   "id": "8630206e",
   "metadata": {},
   "source": [
    "### b-3 CNN 모델의 test set 으로 평가"
   ]
  },
  {
   "cell_type": "code",
   "execution_count": 20,
   "id": "aef2caf7",
   "metadata": {},
   "outputs": [
    {
     "name": "stdout",
     "output_type": "stream",
     "text": [
      "1537/1537 - 3s - loss: 0.6932 - accuracy: 0.5027\n",
      "[0.6932086944580078, 0.5026547312736511]\n"
     ]
    }
   ],
   "source": [
    "results = model_cnn.evaluate(X_test_pre,  y_test, verbose=2)\n",
    "\n",
    "print(results)"
   ]
  },
  {
   "cell_type": "markdown",
   "id": "90ca30ae",
   "metadata": {},
   "source": [
    "### c-1 GlobalMaxPooling1D() 레이어 모델 훈련 "
   ]
  },
  {
   "cell_type": "code",
   "execution_count": 21,
   "id": "635cdb32",
   "metadata": {},
   "outputs": [
    {
     "name": "stdout",
     "output_type": "stream",
     "text": [
      "Epoch 1/10\n",
      "266/266 [==============================] - 1s 6ms/step - loss: 0.1686 - accuracy: 0.9342 - val_loss: 0.4967 - val_accuracy: 0.8390\n",
      "Epoch 2/10\n",
      "266/266 [==============================] - 1s 5ms/step - loss: 0.1637 - accuracy: 0.9365 - val_loss: 0.5346 - val_accuracy: 0.8401\n",
      "Epoch 3/10\n",
      "266/266 [==============================] - 1s 5ms/step - loss: 0.1575 - accuracy: 0.9391 - val_loss: 0.5559 - val_accuracy: 0.8399\n",
      "Epoch 4/10\n",
      "266/266 [==============================] - 1s 5ms/step - loss: 0.1528 - accuracy: 0.9410 - val_loss: 0.5547 - val_accuracy: 0.8413\n",
      "Epoch 5/10\n",
      "266/266 [==============================] - 1s 5ms/step - loss: 0.1492 - accuracy: 0.9429 - val_loss: 0.5656 - val_accuracy: 0.8399\n",
      "Epoch 6/10\n",
      "266/266 [==============================] - 1s 5ms/step - loss: 0.1449 - accuracy: 0.9444 - val_loss: 0.5928 - val_accuracy: 0.8391\n",
      "Epoch 7/10\n",
      "266/266 [==============================] - 1s 5ms/step - loss: 0.1386 - accuracy: 0.9470 - val_loss: 0.6140 - val_accuracy: 0.8363\n",
      "Epoch 8/10\n",
      "266/266 [==============================] - 1s 5ms/step - loss: 0.1346 - accuracy: 0.9491 - val_loss: 0.6222 - val_accuracy: 0.8384\n",
      "Epoch 9/10\n",
      "266/266 [==============================] - 1s 5ms/step - loss: 0.1305 - accuracy: 0.9511 - val_loss: 0.6537 - val_accuracy: 0.8349\n",
      "Epoch 10/10\n",
      "266/266 [==============================] - 1s 5ms/step - loss: 0.1282 - accuracy: 0.9519 - val_loss: 0.6989 - val_accuracy: 0.8372\n"
     ]
    }
   ],
   "source": [
    "# 모델 학습\n",
    "model_glob.compile(optimizer='adam',\n",
    "              loss='binary_crossentropy',\n",
    "              metrics=['accuracy'])\n",
    "              \n",
    "epochs=10  # 몇 epoch를 훈련하면 좋을지 결과를 보면서 바꾸어 봅시다. \n",
    "\n",
    "history_glob = model_rnn.fit(partial_X_train,\n",
    "                    partial_y_train,\n",
    "                    epochs=epochs,\n",
    "                    batch_size=512,\n",
    "                    validation_data=(X_val, y_val),\n",
    "                    verbose=1)"
   ]
  },
  {
   "cell_type": "markdown",
   "id": "9ca9d3d0",
   "metadata": {},
   "source": [
    "### c-2 GlobalMaxPooling1D() 레이어 모델 Loss, Accuracy 그래프 시각화"
   ]
  },
  {
   "cell_type": "code",
   "execution_count": 22,
   "id": "2710439b",
   "metadata": {},
   "outputs": [
    {
     "data": {
      "image/png": "[encoded data removed]",
      "text/plain": [
       "<Figure size 432x288 with 1 Axes>"
      ]
     },
     "metadata": {
      "needs_background": "light"
     },
     "output_type": "display_data"
    }
   ],
   "source": [
    "history_glob_dict = history_glob.history\n",
    "\n",
    "# Training and validation loss 그래프 그리기\n",
    "acc = history_glob_dict['accuracy']\n",
    "val_acc = history_glob_dict['val_accuracy']\n",
    "loss = history_glob_dict['loss']\n",
    "val_loss = history_glob_dict['val_loss']\n",
    "\n",
    "epochs = range(1, len(acc) + 1)\n",
    "\n",
    "# \"bo\"는 \"파란색 점\"입니다\n",
    "plt.plot(epochs, loss, 'bo', label='Training loss')\n",
    "# b는 \"파란 실선\"입니다\n",
    "plt.plot(epochs, val_loss, 'b', label='Validation loss')\n",
    "plt.title('Training and validation loss')\n",
    "plt.xlabel('Epochs')\n",
    "plt.ylabel('Loss')\n",
    "plt.legend()\n",
    "\n",
    "plt.show()"
   ]
  },
  {
   "cell_type": "code",
   "execution_count": 23,
   "id": "79df5db8",
   "metadata": {},
   "outputs": [
    {
     "data": {
      "image/png": "[encoded data removed]",
      "text/plain": [
       "<Figure size 432x288 with 1 Axes>"
      ]
     },
     "metadata": {
      "needs_background": "light"
     },
     "output_type": "display_data"
    }
   ],
   "source": [
    "# Training and validation accuracy 그래프 그리기\n",
    "plt.clf()   # 그림을 초기화합니다\n",
    "\n",
    "plt.plot(epochs, acc, 'bo', label='Training acc')\n",
    "plt.plot(epochs, val_acc, 'b', label='Validation acc')\n",
    "plt.title('Training and validation accuracy')\n",
    "plt.xlabel('Epochs')\n",
    "plt.ylabel('Accuracy')\n",
    "plt.legend()\n",
    "\n",
    "plt.show()"
   ]
  },
  {
   "cell_type": "markdown",
   "id": "212afed9",
   "metadata": {},
   "source": [
    "### c-3 GlobalMaxPooling1D() 레이어 모델의 test set 으로 평가 "
   ]
  },
  {
   "cell_type": "code",
   "execution_count": 24,
   "id": "172fa058",
   "metadata": {},
   "outputs": [
    {
     "name": "stdout",
     "output_type": "stream",
     "text": [
      "1537/1537 - 2s - loss: 0.6931 - accuracy: 0.4996\n",
      "[0.6931010484695435, 0.499582976102829]\n"
     ]
    }
   ],
   "source": [
    "results = model_glob.evaluate(X_test_pre,  y_test, verbose=2)\n",
    "\n",
    "print(results)"
   ]
  },
  {
   "cell_type": "markdown",
   "id": "2d6d6910",
   "metadata": {},
   "source": [
    "### 정확도 비교  \n",
    "RNN : 0.8453  \n",
    "CNN :  0.4976  \n",
    "GlobalMaxPooling1D() 레이어 :  0.5051  \n",
    "RNN 모델의 정확도가 가장 높게 나왔다."
   ]
  },
  {
   "cell_type": "markdown",
   "id": "13cb4679",
   "metadata": {},
   "source": [
    "## 6. 학습된 Embedding 레이어 분석"
   ]
  },
  {
   "cell_type": "markdown",
   "id": "660054e4",
   "metadata": {},
   "source": [
    "모델 중에 가장 성능이 좋게 나온 RNN 모델로,  \n",
    "gensim을 사용하여 워드 벡터가 의미 벡터 공간상에 유의미하게 학습되었는지   \n",
    "확인 단어를 하나 주고 그와 가장 유사한 단어와 그 유사도를 확인한다.  "
   ]
  },
  {
   "cell_type": "code",
   "execution_count": 25,
   "id": "ea1a1ab2",
   "metadata": {},
   "outputs": [
    {
     "name": "stdout",
     "output_type": "stream",
     "text": [
      "(10000, 16)\n"
     ]
    }
   ],
   "source": [
    "embedding_layer = model_rnn.layers[0]\n",
    "weights = embedding_layer.get_weights()[0]\n",
    "print(weights.shape)    # shape: (vocab_size, embedding_dim)"
   ]
  },
  {
   "cell_type": "code",
   "execution_count": 26,
   "id": "371d5466",
   "metadata": {},
   "outputs": [],
   "source": [
    "# 학습한 Embedding 파라미터를 파일에 써서 저장. \n",
    "word2vec_file_path = os.getenv('HOME')+'/aiffel/sentiment_classification/data/word2vec.txt'\n",
    "f = open(word2vec_file_path, 'w')\n",
    "f.write('{} {}\\n'.format(vocab_size-4, word_vector_dim))  # 몇개의 벡터를 얼마 사이즈로 기재할지 타이틀을 씁니다.\n",
    "\n",
    "# 단어 개수(에서 특수문자 4개는 제외하고)만큼의 워드 벡터를 파일에 기록합니다. \n",
    "vectors = model_rnn.get_weights()[0]\n",
    "for i in range(4,vocab_size):\n",
    "    f.write('{} {}\\n'.format(index_to_word[i], ' '.join(map(str, list(vectors[i, :])))))\n",
    "f.close()"
   ]
  },
  {
   "cell_type": "code",
   "execution_count": 27,
   "id": "22684c1e",
   "metadata": {},
   "outputs": [
    {
     "data": {
      "text/plain": [
       "[('깊', 0.9619878530502319),\n",
       " ('경이', 0.9505525827407837),\n",
       " ('먹먹', 0.9500730633735657),\n",
       " ('재미있', 0.9496873617172241),\n",
       " ('재', 0.9458176493644714),\n",
       " ('괜찮', 0.9449944496154785),\n",
       " ('울리', 0.9447662234306335),\n",
       " ('귀여운', 0.9347087144851685),\n",
       " ('기도', 0.9343037009239197),\n",
       " ('돌아보', 0.9324631690979004)]"
      ]
     },
     "execution_count": 27,
     "metadata": {},
     "output_type": "execute_result"
    }
   ],
   "source": [
    "from gensim.models.keyedvectors import Word2VecKeyedVectors\n",
    "\n",
    "word_vectors = Word2VecKeyedVectors.load_word2vec_format(word2vec_file_path, binary=False)\n",
    "word_vectors.similar_by_word(\"사랑\")"
   ]
  },
  {
   "cell_type": "code",
   "execution_count": 28,
   "id": "6772cfba",
   "metadata": {},
   "outputs": [
    {
     "data": {
      "text/plain": [
       "[('환상', 0.9547414779663086),\n",
       " ('퍼펙트', 0.9514039754867554),\n",
       " ('오래', 0.9490424394607544),\n",
       " ('답니다', 0.9457382559776306),\n",
       " ('다시금', 0.9428828358650208),\n",
       " ('틀린', 0.9408677816390991),\n",
       " ('젊', 0.9373092651367188),\n",
       " ('잠수함', 0.9372954964637756),\n",
       " ('뭉클', 0.9372777938842773),\n",
       " ('음미', 0.9365115165710449)]"
      ]
     },
     "execution_count": 28,
     "metadata": {},
     "output_type": "execute_result"
    }
   ],
   "source": [
    "word_vectors.similar_by_word(\"운명\")"
   ]
  },
  {
   "cell_type": "code",
   "execution_count": 29,
   "id": "84daf49c",
   "metadata": {},
   "outputs": [
    {
     "data": {
      "text/plain": [
       "[('오글오글', 0.978541374206543),\n",
       " ('지겨워', 0.9777795076370239),\n",
       " ('장난질', 0.9766854047775269),\n",
       " ('퓨전', 0.9756454229354858),\n",
       " ('미라', 0.9756125211715698),\n",
       " ('고갈', 0.9753183722496033),\n",
       " ('와요', 0.9747272729873657),\n",
       " ('뒷모습', 0.9730966091156006),\n",
       " ('둠', 0.9720144271850586),\n",
       " ('토나', 0.9719832539558411)]"
      ]
     },
     "execution_count": 29,
     "metadata": {},
     "output_type": "execute_result"
    }
   ],
   "source": [
    "word_vectors.similar_by_word(\"졸림\")"
   ]
  },
  {
   "cell_type": "markdown",
   "id": "e68dff97",
   "metadata": {},
   "source": [
    "위에서 다룬 정도의 훈련 데이터로는 워드 벡터를 정교하게 학습시키기 어렵다"
   ]
  },
  {
   "cell_type": "markdown",
   "id": "d1a20230",
   "metadata": {},
   "source": [
    "## 7. 한국어 Word2Vec 임베딩 활용하여 성능 개선"
   ]
  },
  {
   "cell_type": "markdown",
   "id": "d2e65772",
   "metadata": {},
   "source": [
    "Pre-trained word vectors of 30+ languages 에서 한국어 Word2Vec 데이터를 불러옴  \n",
    "오류를 막기 위해 gensim 버전을 3.x.x로 낮춤  \n",
    "pip install --upgrade gensim==3.8.3"
   ]
  },
  {
   "cell_type": "code",
   "execution_count": null,
   "id": "1b772910",
   "metadata": {},
   "outputs": [],
   "source": [
    "!pip install --upgrade gensim==3.8.3"
   ]
  },
  {
   "cell_type": "code",
   "execution_count": 30,
   "id": "84dd1a81",
   "metadata": {},
   "outputs": [
    {
     "data": {
      "text/plain": [
       "'3.8.3'"
      ]
     },
     "execution_count": 30,
     "metadata": {},
     "output_type": "execute_result"
    }
   ],
   "source": [
    "import gensim\n",
    "from gensim.models import KeyedVectors\n",
    "gensim.__version__"
   ]
  },
  {
   "cell_type": "code",
   "execution_count": 31,
   "id": "1b32c643",
   "metadata": {},
   "outputs": [
    {
     "name": "stderr",
     "output_type": "stream",
     "text": [
      "/tmp/ipykernel_1202/1005516468.py:7: DeprecationWarning: Call to deprecated `__getitem__` (Method will be removed in 4.0.0, use self.wv.__getitem__() instead).\n",
      "  vector = word2vec['사랑']\n"
     ]
    },
    {
     "data": {
      "text/plain": [
       "(200,)"
      ]
     },
     "execution_count": 31,
     "metadata": {},
     "output_type": "execute_result"
    }
   ],
   "source": [
    "import gensim\n",
    "from gensim.models import KeyedVectors\n",
    "\n",
    "word2vec_path = os.getenv('HOME')+'/aiffel/sentiment_classification/data/ko.bin'\n",
    "\n",
    "word2vec = gensim.models.Word2Vec.load(word2vec_path)\n",
    "vector = word2vec['사랑']\n",
    "vector.shape     # 200dim의 워드 벡터"
   ]
  },
  {
   "cell_type": "code",
   "execution_count": 32,
   "id": "7900656c",
   "metadata": {},
   "outputs": [
    {
     "name": "stderr",
     "output_type": "stream",
     "text": [
      "/tmp/ipykernel_1202/285623575.py:1: DeprecationWarning: Call to deprecated `similar_by_word` (Method will be removed in 4.0.0, use self.wv.similar_by_word() instead).\n",
      "  word2vec.similar_by_word(\"가족\")\n"
     ]
    },
    {
     "data": {
      "text/plain": [
       "[('친지', 0.6574771404266357),\n",
       " ('유족', 0.6132265329360962),\n",
       " ('부부', 0.5933582782745361),\n",
       " ('부모님', 0.5929263234138489),\n",
       " ('부모', 0.5834078192710876),\n",
       " ('식구', 0.5739837288856506),\n",
       " ('친족', 0.5737326741218567),\n",
       " ('노인', 0.5734318494796753),\n",
       " ('자녀', 0.5686265230178833),\n",
       " ('부유층', 0.5621210336685181)]"
      ]
     },
     "execution_count": 32,
     "metadata": {},
     "output_type": "execute_result"
    }
   ],
   "source": [
    "word2vec.similar_by_word(\"가족\")"
   ]
  },
  {
   "cell_type": "code",
   "execution_count": 33,
   "id": "ad033ba5",
   "metadata": {},
   "outputs": [
    {
     "name": "stderr",
     "output_type": "stream",
     "text": [
      "/tmp/ipykernel_1202/2203783932.py:1: DeprecationWarning: Call to deprecated `similar_by_word` (Method will be removed in 4.0.0, use self.wv.similar_by_word() instead).\n",
      "  word2vec.similar_by_word(\"정의\")\n"
     ]
    },
    {
     "data": {
      "text/plain": [
       "[('해석', 0.5746661424636841),\n",
       " ('구분', 0.56290602684021),\n",
       " ('명시', 0.5549163222312927),\n",
       " ('설명', 0.5451807379722595),\n",
       " ('표현', 0.5412321090698242),\n",
       " ('구현', 0.5403377413749695),\n",
       " ('규정', 0.5310025215148926),\n",
       " ('판별', 0.5225785970687866),\n",
       " ('추상화', 0.5148452520370483),\n",
       " ('인식', 0.5117997527122498)]"
      ]
     },
     "execution_count": 33,
     "metadata": {},
     "output_type": "execute_result"
    }
   ],
   "source": [
    "word2vec.similar_by_word(\"정의\")"
   ]
  },
  {
   "cell_type": "markdown",
   "id": "92585e66",
   "metadata": {},
   "source": [
    "Word2Vec에서 제공하는 워드 임베딩 벡터들끼리는 제대로 학습된다.  \n",
    "이전 스텝에서 학습했던 모델의 임베딩 레이어를 Word2Vec의 것으로 교체하여  \n",
    "RNN 모델(pre padding) 을 학습시킨다."
   ]
  },
  {
   "cell_type": "markdown",
   "id": "de063a54",
   "metadata": {},
   "source": [
    "### RNN 모델 생성"
   ]
  },
  {
   "cell_type": "code",
   "execution_count": 34,
   "id": "89af5632",
   "metadata": {},
   "outputs": [
    {
     "name": "stderr",
     "output_type": "stream",
     "text": [
      "/tmp/ipykernel_1202/4247654489.py:8: DeprecationWarning: Call to deprecated `__contains__` (Method will be removed in 4.0.0, use self.wv.__contains__() instead).\n",
      "  if index_to_word[i] in word2vec:\n",
      "/tmp/ipykernel_1202/4247654489.py:9: DeprecationWarning: Call to deprecated `__getitem__` (Method will be removed in 4.0.0, use self.wv.__getitem__() instead).\n",
      "  embedding_matrix[i] = word2vec[index_to_word[i]]\n"
     ]
    }
   ],
   "source": [
    "vocab_size = 10000    # 어휘 사전의 크기입니다(10,000개의 단어)\n",
    "word_vector_dim = 200  # 워드 벡터의 차원수 (변경가능한 하이퍼파라미터)\n",
    "\n",
    "embedding_matrix = np.random.rand(vocab_size, word_vector_dim)\n",
    "\n",
    "# embedding_matrix에 Word2Vec 워드 벡터를 단어 하나씩마다 차례차례 카피한다.\n",
    "for i in range(4,vocab_size):\n",
    "    if index_to_word[i] in word2vec:\n",
    "        embedding_matrix[i] = word2vec[index_to_word[i]]"
   ]
  },
  {
   "cell_type": "code",
   "execution_count": 35,
   "id": "ec14696c",
   "metadata": {},
   "outputs": [
    {
     "name": "stdout",
     "output_type": "stream",
     "text": [
      "Model: \"sequential_3\"\n",
      "_________________________________________________________________\n",
      "Layer (type)                 Output Shape              Param #   \n",
      "=================================================================\n",
      "embedding_3 (Embedding)      (None, 41, 200)           2000000   \n",
      "_________________________________________________________________\n",
      "conv1d_2 (Conv1D)            (None, 35, 16)            22416     \n",
      "_________________________________________________________________\n",
      "max_pooling1d_1 (MaxPooling1 (None, 7, 16)             0         \n",
      "_________________________________________________________________\n",
      "conv1d_3 (Conv1D)            (None, 1, 16)             1808      \n",
      "_________________________________________________________________\n",
      "global_max_pooling1d_2 (Glob (None, 16)                0         \n",
      "_________________________________________________________________\n",
      "dense_6 (Dense)              (None, 8)                 136       \n",
      "_________________________________________________________________\n",
      "dense_7 (Dense)              (None, 1)                 9         \n",
      "=================================================================\n",
      "Total params: 2,024,369\n",
      "Trainable params: 2,024,369\n",
      "Non-trainable params: 0\n",
      "_________________________________________________________________\n"
     ]
    }
   ],
   "source": [
    "from tensorflow.keras.initializers import Constant\n",
    "\n",
    "vocab_size = 10000    # 어휘 사전의 크기입니다(10,000개의 단어)\n",
    "word_vector_dim = 200  # 워드 벡터의 차원 수 \n",
    "\n",
    "# 모델 구성\n",
    "model_ko = tf.keras.Sequential()\n",
    "model_ko.add(tf.keras.layers.Embedding(vocab_size, \n",
    "                                 word_vector_dim, \n",
    "                                 embeddings_initializer=Constant(embedding_matrix),  # 카피한 임베딩을 여기서 활용\n",
    "                                 input_length=maxlen, \n",
    "                                 trainable=True))   # trainable을 True로 주면 Fine-tuning\n",
    "model_ko.add(tf.keras.layers.Conv1D(16, 7, activation='relu'))\n",
    "model_ko.add(tf.keras.layers.MaxPooling1D(5))\n",
    "model_ko.add(tf.keras.layers.Conv1D(16, 7, activation='relu'))\n",
    "model_ko.add(tf.keras.layers.GlobalMaxPooling1D())\n",
    "model_ko.add(tf.keras.layers.Dense(8, activation='relu'))\n",
    "model_ko.add(tf.keras.layers.Dense(1, activation='sigmoid')) \n",
    "\n",
    "model_ko.summary()"
   ]
  },
  {
   "cell_type": "markdown",
   "id": "89d34c9e",
   "metadata": {},
   "source": [
    "### 모델 학습 및 시각화"
   ]
  },
  {
   "cell_type": "code",
   "execution_count": 37,
   "id": "62d415d4",
   "metadata": {},
   "outputs": [
    {
     "name": "stdout",
     "output_type": "stream",
     "text": [
      "Epoch 1/10\n",
      "266/266 [==============================] - 6s 8ms/step - loss: 0.5394 - accuracy: 0.7131 - val_loss: 0.4186 - val_accuracy: 0.8104\n",
      "Epoch 2/10\n",
      "266/266 [==============================] - 2s 6ms/step - loss: 0.3735 - accuracy: 0.8356 - val_loss: 0.3613 - val_accuracy: 0.8418\n",
      "Epoch 3/10\n",
      "266/266 [==============================] - 2s 6ms/step - loss: 0.3218 - accuracy: 0.8630 - val_loss: 0.3487 - val_accuracy: 0.8480\n",
      "Epoch 4/10\n",
      "266/266 [==============================] - 2s 6ms/step - loss: 0.2898 - accuracy: 0.8797 - val_loss: 0.3435 - val_accuracy: 0.8537\n",
      "Epoch 5/10\n",
      "266/266 [==============================] - 2s 6ms/step - loss: 0.2644 - accuracy: 0.8926 - val_loss: 0.3477 - val_accuracy: 0.8524\n",
      "Epoch 6/10\n",
      "266/266 [==============================] - 2s 6ms/step - loss: 0.2439 - accuracy: 0.9023 - val_loss: 0.3600 - val_accuracy: 0.8501\n",
      "Epoch 7/10\n",
      "266/266 [==============================] - 2s 6ms/step - loss: 0.2248 - accuracy: 0.9121 - val_loss: 0.3739 - val_accuracy: 0.8482\n",
      "Epoch 8/10\n",
      "266/266 [==============================] - 2s 6ms/step - loss: 0.2052 - accuracy: 0.9216 - val_loss: 0.3806 - val_accuracy: 0.8479\n",
      "Epoch 9/10\n",
      "266/266 [==============================] - 2s 6ms/step - loss: 0.1863 - accuracy: 0.9307 - val_loss: 0.4058 - val_accuracy: 0.8444\n",
      "Epoch 10/10\n",
      "266/266 [==============================] - 2s 6ms/step - loss: 0.1658 - accuracy: 0.9410 - val_loss: 0.4336 - val_accuracy: 0.8448\n"
     ]
    }
   ],
   "source": [
    "# 학습의 진행\n",
    "model_ko.compile(optimizer='adam',\n",
    "              loss='binary_crossentropy',\n",
    "              metrics=['accuracy'])\n",
    "              \n",
    "epochs=10  # 몇 epoch를 훈련하면 좋을지 결과를 보면서 바꾸어 봅시다. \n",
    "\n",
    "history_ko = model_ko.fit(partial_X_train,\n",
    "                    partial_y_train,\n",
    "                    epochs=epochs,\n",
    "                    batch_size=512,\n",
    "                    validation_data=(X_val, y_val),\n",
    "                    verbose=1)"
   ]
  },
  {
   "cell_type": "code",
   "execution_count": 38,
   "id": "d3125229",
   "metadata": {},
   "outputs": [
    {
     "data": {
      "image/png": "[encoded data removed]",
      "text/plain": [
       "<Figure size 432x288 with 1 Axes>"
      ]
     },
     "metadata": {
      "needs_background": "light"
     },
     "output_type": "display_data"
    }
   ],
   "source": [
    "history_ko_dict = history_ko.history\n",
    "\n",
    "# Training and validation loss 그래프 그리기\n",
    "acc = history_ko_dict['accuracy']\n",
    "val_acc = history_ko_dict['val_accuracy']\n",
    "loss = history_ko_dict['loss']\n",
    "val_loss = history_ko_dict['val_loss']\n",
    "\n",
    "epochs = range(1, len(acc) + 1)\n",
    "\n",
    "# \"bo\"는 \"파란색 점\"입니다\n",
    "plt.plot(epochs, loss, 'bo', label='Training loss')\n",
    "# b는 \"파란 실선\"입니다\n",
    "plt.plot(epochs, val_loss, 'b', label='Validation loss')\n",
    "plt.title('Training and validation loss')\n",
    "plt.xlabel('Epochs')\n",
    "plt.ylabel('Loss')\n",
    "plt.legend()\n",
    "\n",
    "plt.show()"
   ]
  },
  {
   "cell_type": "code",
   "execution_count": 39,
   "id": "1aac6bbd",
   "metadata": {},
   "outputs": [
    {
     "data": {
      "image/png": "[encoded data removed]",
      "text/plain": [
       "<Figure size 432x288 with 1 Axes>"
      ]
     },
     "metadata": {
      "needs_background": "light"
     },
     "output_type": "display_data"
    }
   ],
   "source": [
    "# Training and validation accuracy 그래프 그리기\n",
    "plt.clf()   # 그림을 초기화합니다\n",
    "\n",
    "plt.plot(epochs, acc, 'bo', label='Training acc')\n",
    "plt.plot(epochs, val_acc, 'b', label='Validation acc')\n",
    "plt.title('Training and validation accuracy')\n",
    "plt.xlabel('Epochs')\n",
    "plt.ylabel('Accuracy')\n",
    "plt.legend()\n",
    "\n",
    "plt.show()"
   ]
  },
  {
   "cell_type": "markdown",
   "id": "8bc42ef1",
   "metadata": {},
   "source": [
    "### 모델의 test set 으로 평가 "
   ]
  },
  {
   "cell_type": "code",
   "execution_count": 40,
   "id": "fab1e9ce",
   "metadata": {},
   "outputs": [
    {
     "name": "stdout",
     "output_type": "stream",
     "text": [
      "1537/1537 - 3s - loss: 0.4527 - accuracy: 0.8400\n",
      "[0.45267391204833984, 0.8399820923805237]\n"
     ]
    }
   ],
   "source": [
    "results = model_ko.evaluate(X_test_pre,  y_test, verbose=2)\n",
    "\n",
    "print(results)"
   ]
  },
  {
   "cell_type": "markdown",
   "id": "6541f306",
   "metadata": {},
   "source": [
    "### 새로 모델을 생성한 결과 test set 에서의 정확도는 0.8400"
   ]
  },
  {
   "cell_type": "markdown",
   "id": "febbcb87",
   "metadata": {},
   "source": [
    "## 8. 회고\n",
    "영화리뷰를 전처리하여 분석하는 과정이 흥미러웠고 배웠던 이론을 실전에 적용하는 과정이 재미있었다.  \n",
    "영어를 넘어 한글을 적용해보는 경험을 통해 다양한 언어에 적용하는 방법을 배울 수 있었다.  \n",
    "여러가지 모델을 통해 학습 적용을 해 봄을 통해 다양한 모델에 대해 공부할 수 있었고  \n",
    "한국어 Word2Vec 임베딩 활용하여 성능 개선의 방법을 배울수 있었다.  \n",
    "하지만 적용한 결과 RNN에서는 정확도가 0.8453이 나왔지만  \n",
    "새로 모델을 적용한 결과 정확도가  0.8400로 오히려 줄어드는 결과가 나와서 당황하였다.  \n",
    "앞으로 원인을 찾고 새로운 개선방법을 공부해 볼 생각이다.  "
   ]
  }
 ],
 "metadata": {
  "kernelspec": {
   "display_name": "Python 3 (ipykernel)",
   "language": "python",
   "name": "python3"
  },
  "language_info": {
   "codemirror_mode": {
    "name": "ipython",
    "version": 3
   },
   "file_extension": ".py",
   "mimetype": "text/x-python",
   "name": "python",
   "nbconvert_exporter": "python",
   "pygments_lexer": "ipython3",
   "version": "3.9.7"
  }
 },
 "nbformat": 4,
 "nbformat_minor": 5
}
