{
 "cells": [
  {
   "cell_type": "markdown",
   "id": "3a2a7e9b",
   "metadata": {},
   "source": [
    "# 8.프로젝트: 뉴스기사 요약해보기"
   ]
  },
  {
   "cell_type": "markdown",
   "id": "23480768",
   "metadata": {},
   "source": [
    "# Step 0. 데이터 준비하기"
   ]
  },
  {
   "cell_type": "code",
   "execution_count": 44,
   "id": "80172702",
   "metadata": {},
   "outputs": [
    {
     "name": "stderr",
     "output_type": "stream",
     "text": [
      "[nltk_data] Downloading package stopwords to /aiffel/nltk_data...\n",
      "[nltk_data]   Package stopwords is already up-to-date!\n"
     ]
    }
   ],
   "source": [
    "import nltk\n",
    "nltk.download('stopwords')\n",
    "\n",
    "import numpy as np\n",
    "import pandas as pd\n",
    "import os\n",
    "import re\n",
    "import matplotlib.pyplot as plt\n",
    "from nltk.corpus import stopwords\n",
    "from bs4 import BeautifulSoup \n",
    "from tensorflow.keras.preprocessing.text import Tokenizer \n",
    "from tensorflow.keras.preprocessing.sequence import pad_sequences\n",
    "import urllib.request\n",
    "import warnings\n",
    "warnings.filterwarnings(\"ignore\", category=UserWarning, module='bs4')"
   ]
  },
  {
   "cell_type": "markdown",
   "id": "d222fa0d",
   "metadata": {},
   "source": [
    "# Step 1. 데이터 수집하기"
   ]
  },
  {
   "cell_type": "markdown",
   "id": "488f2f37",
   "metadata": {},
   "source": [
    "뉴스 기사 데이터(news_summary_more.csv)를 다운로드"
   ]
  },
  {
   "cell_type": "code",
   "execution_count": 45,
   "id": "8bec9fe5",
   "metadata": {},
   "outputs": [],
   "source": [
    "import urllib.request\n",
    "urllib.request.urlretrieve(\"https://raw.githubusercontent.com/sunnysai12345/News_Summary/master/news_summary_more.csv\", filename=\"news_summary_more.csv\")\n",
    "data = pd.read_csv('news_summary_more.csv', encoding='iso-8859-1')"
   ]
  },
  {
   "cell_type": "code",
   "execution_count": 46,
   "id": "dae6f5cb",
   "metadata": {},
   "outputs": [
    {
     "name": "stdout",
     "output_type": "stream",
     "text": [
      "전체 데이터 수 : 98401\n"
     ]
    }
   ],
   "source": [
    "print('전체 데이터 수 :', (len(data)))"
   ]
  },
  {
   "cell_type": "markdown",
   "id": "b6153dc4",
   "metadata": {},
   "source": [
    "다운로드 받은 데이터(news_summary_more.csv)는 총 98401개"
   ]
  },
  {
   "cell_type": "code",
   "execution_count": 47,
   "id": "ca437fb5",
   "metadata": {},
   "outputs": [
    {
     "data": {
      "text/html": [
       "<div>\n",
       "<style scoped>\n",
       "    .dataframe tbody tr th:only-of-type {\n",
       "        vertical-align: middle;\n",
       "    }\n",
       "\n",
       "    .dataframe tbody tr th {\n",
       "        vertical-align: top;\n",
       "    }\n",
       "\n",
       "    .dataframe thead th {\n",
       "        text-align: right;\n",
       "    }\n",
       "</style>\n",
       "<table border=\"1\" class=\"dataframe\">\n",
       "  <thead>\n",
       "    <tr style=\"text-align: right;\">\n",
       "      <th></th>\n",
       "      <th>headlines</th>\n",
       "      <th>text</th>\n",
       "    </tr>\n",
       "  </thead>\n",
       "  <tbody>\n",
       "    <tr>\n",
       "      <th>87284</th>\n",
       "      <td>Will Smith's son Jaden claims hotel kicked him...</td>\n",
       "      <td>Hollywood actor Will Smith's son Jaden Smith h...</td>\n",
       "    </tr>\n",
       "    <tr>\n",
       "      <th>782</th>\n",
       "      <td>India 1st to use final stage of rocket as orbi...</td>\n",
       "      <td>India on Thursday became the first country to ...</td>\n",
       "    </tr>\n",
       "    <tr>\n",
       "      <th>67051</th>\n",
       "      <td>18 farmers die after inhaling pesticides in Ma...</td>\n",
       "      <td>At least 18 farmers died and over 400 farm lab...</td>\n",
       "    </tr>\n",
       "    <tr>\n",
       "      <th>77418</th>\n",
       "      <td>Only treated sewage to flow into water from 20...</td>\n",
       "      <td>Bengaluru Development Minister K J George has ...</td>\n",
       "    </tr>\n",
       "    <tr>\n",
       "      <th>34581</th>\n",
       "      <td>Amazon added more jobs in '17 than Google pare...</td>\n",
       "      <td>E-commerce giant Amazon's CEO Jeff Bezos has s...</td>\n",
       "    </tr>\n",
       "    <tr>\n",
       "      <th>24077</th>\n",
       "      <td>NHRC notice to Delhi, Centre over death of 3 m...</td>\n",
       "      <td>The National Human Rights Commission (NHRC) ha...</td>\n",
       "    </tr>\n",
       "    <tr>\n",
       "      <th>21932</th>\n",
       "      <td>Harvard Business School dean Nohria to quit Ta...</td>\n",
       "      <td>Harvard Business School's India-born dean Niti...</td>\n",
       "    </tr>\n",
       "    <tr>\n",
       "      <th>53797</th>\n",
       "      <td>Was a bit afraid of wearing panty, pad in 'Pad...</td>\n",
       "      <td>Akshay Kumar, on being asked if he had any res...</td>\n",
       "    </tr>\n",
       "    <tr>\n",
       "      <th>78352</th>\n",
       "      <td>US Senate clears new sanctions against Russia,...</td>\n",
       "      <td>The US Senate on Thursday voted 98-2 to impose...</td>\n",
       "    </tr>\n",
       "    <tr>\n",
       "      <th>88930</th>\n",
       "      <td>Rajinikanth's next film not based on Haji Mast...</td>\n",
       "      <td>The makers of Rajinikanth's yet-untitled next ...</td>\n",
       "    </tr>\n",
       "  </tbody>\n",
       "</table>\n",
       "</div>"
      ],
      "text/plain": [
       "                                               headlines  \\\n",
       "87284  Will Smith's son Jaden claims hotel kicked him...   \n",
       "782    India 1st to use final stage of rocket as orbi...   \n",
       "67051  18 farmers die after inhaling pesticides in Ma...   \n",
       "77418  Only treated sewage to flow into water from 20...   \n",
       "34581  Amazon added more jobs in '17 than Google pare...   \n",
       "24077  NHRC notice to Delhi, Centre over death of 3 m...   \n",
       "21932  Harvard Business School dean Nohria to quit Ta...   \n",
       "53797  Was a bit afraid of wearing panty, pad in 'Pad...   \n",
       "78352  US Senate clears new sanctions against Russia,...   \n",
       "88930  Rajinikanth's next film not based on Haji Mast...   \n",
       "\n",
       "                                                    text  \n",
       "87284  Hollywood actor Will Smith's son Jaden Smith h...  \n",
       "782    India on Thursday became the first country to ...  \n",
       "67051  At least 18 farmers died and over 400 farm lab...  \n",
       "77418  Bengaluru Development Minister K J George has ...  \n",
       "34581  E-commerce giant Amazon's CEO Jeff Bezos has s...  \n",
       "24077  The National Human Rights Commission (NHRC) ha...  \n",
       "21932  Harvard Business School's India-born dean Niti...  \n",
       "53797  Akshay Kumar, on being asked if he had any res...  \n",
       "78352  The US Senate on Thursday voted 98-2 to impose...  \n",
       "88930  The makers of Rajinikanth's yet-untitled next ...  "
      ]
     },
     "execution_count": 47,
     "metadata": {},
     "output_type": "execute_result"
    }
   ],
   "source": [
    "data.sample(10)"
   ]
  },
  {
   "cell_type": "markdown",
   "id": "fa1167b2",
   "metadata": {},
   "source": [
    "이 데이터는 기사의 본문에 해당되는 text와 headlines 두 가지 열로 구성  \n",
    "추상적 요약을 하는 경우에는 text를 본문, headlines를 이미 요약된 데이터로 삼아서 모델을 학습  \n",
    "추출적 요약의 경우는 오직 text열만을 사용"
   ]
  },
  {
   "cell_type": "markdown",
   "id": "512deda2",
   "metadata": {},
   "source": [
    "# Step 2. 데이터 전처리하기 (추상적 요약)"
   ]
  },
  {
   "cell_type": "markdown",
   "id": "5874dcb4",
   "metadata": {},
   "source": [
    "## 2-1 데이터 정리하기"
   ]
  },
  {
   "cell_type": "markdown",
   "id": "8018ada1",
   "metadata": {},
   "source": [
    "### 중복 샘플과 NULL 값이 존재하는 샘플 제거"
   ]
  },
  {
   "cell_type": "markdown",
   "id": "a10ad64a",
   "metadata": {},
   "source": [
    "데이터의 중복 샘플 유무를 확인"
   ]
  },
  {
   "cell_type": "code",
   "execution_count": 48,
   "id": "93459632",
   "metadata": {},
   "outputs": [
    {
     "name": "stdout",
     "output_type": "stream",
     "text": [
      "text 열에서 중복을 배제한 유일한 샘플의 수 : 98360\n",
      "headlines 열에서 중복을 배제한 유일한 샘플의 수 : 98280\n"
     ]
    }
   ],
   "source": [
    "print('text 열에서 중복을 배제한 유일한 샘플의 수 :', data['text'].nunique())\n",
    "print('headlines 열에서 중복을 배제한 유일한 샘플의 수 :', data['headlines'].nunique())"
   ]
  },
  {
   "cell_type": "markdown",
   "id": "debdc697",
   "metadata": {},
   "source": [
    "전체 데이터 수 : 98401로 text 열에서 41개 중복, headlines 열에서 121개 중복이 존재함을 알 수 있다."
   ]
  },
  {
   "cell_type": "markdown",
   "id": "306cf178",
   "metadata": {},
   "source": [
    "데이터프레임의 drop_duplicates()를 사용, 중복 샘플을 제거"
   ]
  },
  {
   "cell_type": "code",
   "execution_count": 49,
   "id": "61fc26e1",
   "metadata": {},
   "outputs": [
    {
     "name": "stdout",
     "output_type": "stream",
     "text": [
      "전체 샘플수 : 98360\n"
     ]
    }
   ],
   "source": [
    "# inplace=True 를 설정하면 DataFrame 타입 값을 return 하지 않고 data 내부를 직접적으로 바꿉니다\n",
    "data.drop_duplicates(subset = ['text'], inplace=True)\n",
    "print('전체 샘플수 :', (len(data)))"
   ]
  },
  {
   "cell_type": "markdown",
   "id": "ca47803c",
   "metadata": {},
   "source": [
    "만약 데이터 Null 값을 가지는 샘플이 있었다면, Null 값 한 개가 남아있게 됨  \n",
    "데이터프레임에 Null 값이 있는지 확인하는 방법은 .isnull().sum()을 사용"
   ]
  },
  {
   "cell_type": "code",
   "execution_count": 50,
   "id": "604ccc7b",
   "metadata": {},
   "outputs": [
    {
     "name": "stdout",
     "output_type": "stream",
     "text": [
      "headlines    0\n",
      "text         0\n",
      "dtype: int64\n"
     ]
    }
   ],
   "source": [
    "print(data.isnull().sum())"
   ]
  },
  {
   "cell_type": "markdown",
   "id": "940b190f",
   "metadata": {},
   "source": [
    "Null 값이 없음을 확인 (만약 Null 값이 있을 경우는 dropna() 함수를 사용하여 제거한다.)"
   ]
  },
  {
   "cell_type": "markdown",
   "id": "b9a42e9a",
   "metadata": {},
   "source": [
    "### 텍스트 정규화와 불용어 제거"
   ]
  },
  {
   "cell_type": "markdown",
   "id": "9d9b8695",
   "metadata": {},
   "source": [
    "살아남은 98360개의 샘플에는 같은 의미인데도 다른 표현으로 쓰여 마치 다른 단어들처럼 간주되는 경우들이 있다.  \n",
    "\n",
    "텍스트 정규화(text normalization)  \n",
    "기계가 굳이 이들을 마치 다른 단어로 간주하게 해서 연산량을 늘리는 것보다는,  \n",
    "기계 학습 전에 미리 같은 표현으로 통일시켜주는 것이 기계의 연산량을 줄일 수 있는 방법"
   ]
  },
  {
   "cell_type": "markdown",
   "id": "96699096",
   "metadata": {},
   "source": [
    "텍스트 정규화를 위한 사전(dictionary)을 아래와 같이 구성"
   ]
  },
  {
   "cell_type": "code",
   "execution_count": 51,
   "id": "0d92cc37",
   "metadata": {},
   "outputs": [
    {
     "name": "stdout",
     "output_type": "stream",
     "text": [
      "정규화 사전의 수:  120\n"
     ]
    }
   ],
   "source": [
    "contractions = {\"ain't\": \"is not\", \"aren't\": \"are not\",\"can't\": \"cannot\", \"'cause\": \"because\", \"could've\": \"could have\", \"couldn't\": \"could not\",\n",
    "                           \"didn't\": \"did not\",  \"doesn't\": \"does not\", \"don't\": \"do not\", \"hadn't\": \"had not\", \"hasn't\": \"has not\", \"haven't\": \"have not\",\n",
    "                           \"he'd\": \"he would\",\"he'll\": \"he will\", \"he's\": \"he is\", \"how'd\": \"how did\", \"how'd'y\": \"how do you\", \"how'll\": \"how will\", \"how's\": \"how is\",\n",
    "                           \"I'd\": \"I would\", \"I'd've\": \"I would have\", \"I'll\": \"I will\", \"I'll've\": \"I will have\",\"I'm\": \"I am\", \"I've\": \"I have\", \"i'd\": \"i would\",\n",
    "                           \"i'd've\": \"i would have\", \"i'll\": \"i will\",  \"i'll've\": \"i will have\",\"i'm\": \"i am\", \"i've\": \"i have\", \"isn't\": \"is not\", \"it'd\": \"it would\",\n",
    "                           \"it'd've\": \"it would have\", \"it'll\": \"it will\", \"it'll've\": \"it will have\",\"it's\": \"it is\", \"let's\": \"let us\", \"ma'am\": \"madam\",\n",
    "                           \"mayn't\": \"may not\", \"might've\": \"might have\",\"mightn't\": \"might not\",\"mightn't've\": \"might not have\", \"must've\": \"must have\",\n",
    "                           \"mustn't\": \"must not\", \"mustn't've\": \"must not have\", \"needn't\": \"need not\", \"needn't've\": \"need not have\",\"o'clock\": \"of the clock\",\n",
    "                           \"oughtn't\": \"ought not\", \"oughtn't've\": \"ought not have\", \"shan't\": \"shall not\", \"sha'n't\": \"shall not\", \"shan't've\": \"shall not have\",\n",
    "                           \"she'd\": \"she would\", \"she'd've\": \"she would have\", \"she'll\": \"she will\", \"she'll've\": \"she will have\", \"she's\": \"she is\",\n",
    "                           \"should've\": \"should have\", \"shouldn't\": \"should not\", \"shouldn't've\": \"should not have\", \"so've\": \"so have\",\"so's\": \"so as\",\n",
    "                           \"this's\": \"this is\",\"that'd\": \"that would\", \"that'd've\": \"that would have\", \"that's\": \"that is\", \"there'd\": \"there would\",\n",
    "                           \"there'd've\": \"there would have\", \"there's\": \"there is\", \"here's\": \"here is\",\"they'd\": \"they would\", \"they'd've\": \"they would have\",\n",
    "                           \"they'll\": \"they will\", \"they'll've\": \"they will have\", \"they're\": \"they are\", \"they've\": \"they have\", \"to've\": \"to have\",\n",
    "                           \"wasn't\": \"was not\", \"we'd\": \"we would\", \"we'd've\": \"we would have\", \"we'll\": \"we will\", \"we'll've\": \"we will have\", \"we're\": \"we are\",\n",
    "                           \"we've\": \"we have\", \"weren't\": \"were not\", \"what'll\": \"what will\", \"what'll've\": \"what will have\", \"what're\": \"what are\",\n",
    "                           \"what's\": \"what is\", \"what've\": \"what have\", \"when's\": \"when is\", \"when've\": \"when have\", \"where'd\": \"where did\", \"where's\": \"where is\",\n",
    "                           \"where've\": \"where have\", \"who'll\": \"who will\", \"who'll've\": \"who will have\", \"who's\": \"who is\", \"who've\": \"who have\",\n",
    "                           \"why's\": \"why is\", \"why've\": \"why have\", \"will've\": \"will have\", \"won't\": \"will not\", \"won't've\": \"will not have\",\n",
    "                           \"would've\": \"would have\", \"wouldn't\": \"would not\", \"wouldn't've\": \"would not have\", \"y'all\": \"you all\",\n",
    "                           \"y'all'd\": \"you all would\",\"y'all'd've\": \"you all would have\",\"y'all're\": \"you all are\",\"y'all've\": \"you all have\",\n",
    "                           \"you'd\": \"you would\", \"you'd've\": \"you would have\", \"you'll\": \"you will\", \"you'll've\": \"you will have\",\n",
    "                           \"you're\": \"you are\", \"you've\": \"you have\"}\n",
    "\n",
    "print(\"정규화 사전의 수: \", len(contractions))"
   ]
  },
  {
   "cell_type": "markdown",
   "id": "3671c465",
   "metadata": {},
   "source": [
    "불용어(stopwords)  \n",
    "텍스트에는 자주 등장하지만 자연어 처리를 할 때 실질적으로 별 도움이 되지 않는 단어  \n",
    "여기서는 NLTK에서 제공하는 불용어 리스트를 참조해, 샘플에서 불용어를 제거"
   ]
  },
  {
   "cell_type": "code",
   "execution_count": 52,
   "id": "bb5cc9e5",
   "metadata": {},
   "outputs": [
    {
     "name": "stdout",
     "output_type": "stream",
     "text": [
      "불용어 개수 : 179\n",
      "['i', 'me', 'my', 'myself', 'we', 'our', 'ours', 'ourselves', 'you', \"you're\", \"you've\", \"you'll\", \"you'd\", 'your', 'yours', 'yourself', 'yourselves', 'he', 'him', 'his', 'himself', 'she', \"she's\", 'her', 'hers', 'herself', 'it', \"it's\", 'its', 'itself', 'they', 'them', 'their', 'theirs', 'themselves', 'what', 'which', 'who', 'whom', 'this', 'that', \"that'll\", 'these', 'those', 'am', 'is', 'are', 'was', 'were', 'be', 'been', 'being', 'have', 'has', 'had', 'having', 'do', 'does', 'did', 'doing', 'a', 'an', 'the', 'and', 'but', 'if', 'or', 'because', 'as', 'until', 'while', 'of', 'at', 'by', 'for', 'with', 'about', 'against', 'between', 'into', 'through', 'during', 'before', 'after', 'above', 'below', 'to', 'from', 'up', 'down', 'in', 'out', 'on', 'off', 'over', 'under', 'again', 'further', 'then', 'once', 'here', 'there', 'when', 'where', 'why', 'how', 'all', 'any', 'both', 'each', 'few', 'more', 'most', 'other', 'some', 'such', 'no', 'nor', 'not', 'only', 'own', 'same', 'so', 'than', 'too', 'very', 's', 't', 'can', 'will', 'just', 'don', \"don't\", 'should', \"should've\", 'now', 'd', 'll', 'm', 'o', 're', 've', 'y', 'ain', 'aren', \"aren't\", 'couldn', \"couldn't\", 'didn', \"didn't\", 'doesn', \"doesn't\", 'hadn', \"hadn't\", 'hasn', \"hasn't\", 'haven', \"haven't\", 'isn', \"isn't\", 'ma', 'mightn', \"mightn't\", 'mustn', \"mustn't\", 'needn', \"needn't\", 'shan', \"shan't\", 'shouldn', \"shouldn't\", 'wasn', \"wasn't\", 'weren', \"weren't\", 'won', \"won't\", 'wouldn', \"wouldn't\"]\n"
     ]
    }
   ],
   "source": [
    "print('불용어 개수 :', len(stopwords.words('english') ))\n",
    "print(stopwords.words('english'))"
   ]
  },
  {
   "cell_type": "markdown",
   "id": "522b9fc7",
   "metadata": {},
   "source": [
    "LTK에서 미리 정의하여 제공하고 있는 불용어는 총 179개  \n",
    "이를 사용하여 불용어를 제거  \n",
    "모든 영어 문자는 소문자로 만들기  \n",
    "섞여있는 html 태그를 제거  \n",
    "정규 표현식을 통해 각종 특수문자를 제거  "
   ]
  },
  {
   "cell_type": "markdown",
   "id": "49ffde0f",
   "metadata": {},
   "source": [
    "함수의 하단을 보면, NLTK를 이용해 불용어를 제거시  \n",
    "text 전처리 시에서만 호출하고 이미 상대적으로 문장 길이가 짧은 headlines 전처리할 때는 호출하지 않는다.  \n",
    "Abstractive한 문장 요약 결과문이 자연스러운 문장이 되려면 이 불용어들이 headlines 에는 남아 있는 게 낫기 때문.  "
   ]
  },
  {
   "cell_type": "code",
   "execution_count": 53,
   "id": "c7b35be2",
   "metadata": {},
   "outputs": [],
   "source": [
    "# 데이터 전처리 함수\n",
    "def preprocess_sentence(sentence, remove_stopwords=True):\n",
    "    sentence = sentence.lower() # 텍스트 소문자화\n",
    "    sentence = BeautifulSoup(sentence, \"lxml\").text # <br />, <a href = ...> 등의 html 태그 제거\n",
    "    sentence = re.sub(r'\\([^)]*\\)', '', sentence) # 괄호로 닫힌 문자열 (...) 제거 Ex) my husband (and myself!) for => my husband for\n",
    "    sentence = re.sub('\"','', sentence) # 쌍따옴표 \" 제거\n",
    "    sentence = ' '.join([contractions[t] if t in contractions else t for t in sentence.split(\" \")]) # 약어 정규화\n",
    "    sentence = re.sub(r\"'s\\b\",\"\", sentence) # 소유격 제거. Ex) roland's -> roland\n",
    "    sentence = re.sub(\"[^a-zA-Z]\", \" \", sentence) # 영어 외 문자(숫자, 특수문자 등) 공백으로 변환\n",
    "    sentence = re.sub('[m]{2,}', 'mm', sentence) # m이 3개 이상이면 2개로 변경. Ex) ummmmmmm yeah -> umm yeah\n",
    "    \n",
    "    # 불용어 제거 (Text)\n",
    "    if remove_stopwords:\n",
    "        tokens = ' '.join(word for word in sentence.split() if not word in stopwords.words('english') if len(word) > 1)\n",
    "    # 불용어 미제거 (Summary)\n",
    "    else:\n",
    "        tokens = ' '.join(word for word in sentence.split() if len(word) > 1)\n",
    "    return tokens"
   ]
  },
  {
   "cell_type": "markdown",
   "id": "eb1006f4",
   "metadata": {},
   "source": [
    "훈련 데이터 전체에 대해서 전처리를 수행"
   ]
  },
  {
   "cell_type": "markdown",
   "id": "cf8d0f76",
   "metadata": {},
   "source": [
    "먼저 text를 전처리하고, 결과를 확인하기 위해서 상위 5개의 줄을 출력"
   ]
  },
  {
   "cell_type": "code",
   "execution_count": 54,
   "id": "e2578cb6",
   "metadata": {},
   "outputs": [
    {
     "name": "stdout",
     "output_type": "stream",
     "text": [
      "text 전처리 후 결과:  ['saurav kant alumnus upgrad iiit pg program machine learning artificial intelligence sr systems engineer infosys almost years work experience program upgrad degree career support helped transition data scientist tech mahindra salary hike upgrad online power learning powered lakh careers', 'kunal shah credit card bill payment platform cred gave users chance win free food swiggy one year pranav kaushik delhi techie bagged reward spending cred coins users get one cred coin per rupee bill paid used avail rewards brands like ixigo bookmyshow ubereats cult fit', 'new zealand defeated india wickets fourth odi hamilton thursday win first match five match odi series india lost international match rohit sharma captaincy consecutive victories dating back march match witnessed india getting seventh lowest total odi cricket history', 'aegon life iterm insurance plan customers enjoy tax benefits premiums paid save taxes plan provides life cover age years also customers options insure critical illnesses disability accidental death benefit rider life cover age years', 'speaking sexual harassment allegations rajkumar hirani sonam kapoor said known hirani many years true metoo movement get derailed metoo movement always believe woman case need reserve judgment added hirani accused assistant worked sanju']\n"
     ]
    }
   ],
   "source": [
    "clean_text = []\n",
    "# 전체 Text 데이터에 대한 전처리 : 10분 이상 시간이 걸릴 수 있습니다. \n",
    "for s in data['text']:\n",
    "    clean_text.append(preprocess_sentence(s))\n",
    "\n",
    "# 전처리 후 출력\n",
    "print(\"text 전처리 후 결과: \", clean_text[:5])"
   ]
  },
  {
   "cell_type": "markdown",
   "id": "090cecda",
   "metadata": {},
   "source": [
    "headlines 에 대해서 전처리 함수를 호출해 줄 때는, 불용어 제거를 수행하지 않는다는 의미에서 두 번째 인자로 False를 넣는다."
   ]
  },
  {
   "cell_type": "code",
   "execution_count": 55,
   "id": "0601d80d",
   "metadata": {},
   "outputs": [
    {
     "name": "stdout",
     "output_type": "stream",
     "text": [
      "headlines 전처리 후 결과:  ['upgrad learner switches to career in ml al with salary hike', 'delhi techie wins free food from swiggy for one year on cred', 'new zealand end rohit sharma led india match winning streak', 'aegon life iterm insurance plan helps customers save tax', 'have known hirani for yrs what if metoo claims are not true sonam']\n"
     ]
    }
   ],
   "source": [
    "clean_headlines = []\n",
    "# 전체 headlines 데이터에 대한 전처리 : 5분 이상 시간이 걸릴 수 있습니다. \n",
    "for s in data['headlines']:\n",
    "    clean_headlines.append(preprocess_sentence(s, False))\n",
    "\n",
    "print(\"headlines 전처리 후 결과: \", clean_headlines[:5])"
   ]
  },
  {
   "cell_type": "markdown",
   "id": "84800fe9",
   "metadata": {},
   "source": [
    "쉽게 확인하기 위해 데이터들을 데이터프레임에 재저장  \n",
    "빈(empty) 값을 가진 샘플들이 있다면, 모두 Null 값을 가진 샘플로 대체"
   ]
  },
  {
   "cell_type": "code",
   "execution_count": 56,
   "id": "f51c8a5c",
   "metadata": {},
   "outputs": [],
   "source": [
    "data['text'] = clean_text\n",
    "data['headlines'] = clean_headlines\n",
    "\n",
    "# 빈 값을 Null 값으로 변환\n",
    "data.replace('', np.nan, inplace=True)"
   ]
  },
  {
   "cell_type": "markdown",
   "id": "924335cb",
   "metadata": {},
   "source": [
    ".isnull().sum()을 사용해서 Null 값이 생겼는지 확인"
   ]
  },
  {
   "cell_type": "code",
   "execution_count": 57,
   "id": "a35ccd27",
   "metadata": {},
   "outputs": [
    {
     "data": {
      "text/plain": [
       "headlines    0\n",
       "text         0\n",
       "dtype: int64"
      ]
     },
     "execution_count": 57,
     "metadata": {},
     "output_type": "execute_result"
    }
   ],
   "source": [
    "data.isnull().sum()"
   ]
  },
  {
   "cell_type": "markdown",
   "id": "0d1a4b65",
   "metadata": {},
   "source": [
    "둘다 Null 값이 없음을 확인"
   ]
  },
  {
   "cell_type": "markdown",
   "id": "d550d80e",
   "metadata": {},
   "source": [
    "## 2-2 훈련데이터와 테스트데이터 나누기"
   ]
  },
  {
   "cell_type": "markdown",
   "id": "723b65de",
   "metadata": {},
   "source": [
    "학습에 사용할 데이터의 크기를 결정  \n",
    "문장의 시작과 끝을 표시하기"
   ]
  },
  {
   "cell_type": "markdown",
   "id": "923bc0b3",
   "metadata": {},
   "source": [
    "#### 샘플의 최대 길이 정하기  \n",
    "훈련에 사용할 샘플의 최대 길이를 정해줄 차례    \n",
    "text와 headlines의 최소, 최대, 평균 길이를 구하고 또한 길이 분포를 시각화 하기"
   ]
  },
  {
   "cell_type": "code",
   "execution_count": 58,
   "id": "296c6138",
   "metadata": {},
   "outputs": [
    {
     "name": "stdout",
     "output_type": "stream",
     "text": [
      "텍스트의 최소 길이 : 1\n",
      "텍스트의 최대 길이 : 60\n",
      "텍스트의 평균 길이 : 35.09968483123221\n",
      "headlines의 최소 길이 : 1\n",
      "headlines의 최대 길이 : 16\n",
      "headlines의 평균 길이 : 9.299532330215534\n"
     ]
    },
    {
     "data": {
      "image/png": "[encoded data removed]",
      "text/plain": [
       "<Figure size 432x288 with 2 Axes>"
      ]
     },
     "metadata": {
      "needs_background": "light"
     },
     "output_type": "display_data"
    },
    {
     "data": {
      "image/png": "[encoded data removed]",
      "text/plain": [
       "<Figure size 432x288 with 1 Axes>"
      ]
     },
     "metadata": {
      "needs_background": "light"
     },
     "output_type": "display_data"
    },
    {
     "data": {
      "image/png": "[encoded data removed]",
      "text/plain": [
       "<Figure size 432x288 with 1 Axes>"
      ]
     },
     "metadata": {
      "needs_background": "light"
     },
     "output_type": "display_data"
    }
   ],
   "source": [
    "# 길이 분포 출력\n",
    "import matplotlib.pyplot as plt\n",
    "\n",
    "text_len = [len(s.split()) for s in data['text']]\n",
    "headlines_len = [len(s.split()) for s in data['headlines']]\n",
    "\n",
    "print('텍스트의 최소 길이 : {}'.format(np.min(text_len)))\n",
    "print('텍스트의 최대 길이 : {}'.format(np.max(text_len)))\n",
    "print('텍스트의 평균 길이 : {}'.format(np.mean(text_len)))\n",
    "print('headlines의 최소 길이 : {}'.format(np.min(headlines_len)))\n",
    "print('headlines의 최대 길이 : {}'.format(np.max(headlines_len)))\n",
    "print('headlines의 평균 길이 : {}'.format(np.mean(headlines_len)))\n",
    "\n",
    "plt.subplot(1,2,1)\n",
    "plt.boxplot(headlines_len)\n",
    "plt.title('headlines')\n",
    "plt.subplot(1,2,2)\n",
    "plt.boxplot(text_len)\n",
    "plt.title('text')\n",
    "plt.tight_layout()\n",
    "plt.show()\n",
    "\n",
    "plt.title('headlines')\n",
    "plt.hist(headlines_len, bins = 40)\n",
    "plt.xlabel('length of samples')\n",
    "plt.ylabel('number of samples')\n",
    "plt.show()\n",
    "\n",
    "plt.title('text')\n",
    "plt.hist(text_len, bins = 40)\n",
    "plt.xlabel('length of samples')\n",
    "plt.ylabel('number of samples')\n",
    "plt.show()"
   ]
  },
  {
   "cell_type": "markdown",
   "id": "d7b03a2c",
   "metadata": {},
   "source": [
    "text 와 headlines 의 최대 길이는 모든 데이터가 포함 될수 있도록 지정한다.  "
   ]
  },
  {
   "cell_type": "code",
   "execution_count": 59,
   "id": "d740732d",
   "metadata": {},
   "outputs": [],
   "source": [
    "text_max_len = 60  \n",
    "headlines_max_len = 16"
   ]
  },
  {
   "cell_type": "markdown",
   "id": "507b8eee",
   "metadata": {},
   "source": [
    "각각 60과 16로 정했는데 이 길이를 선택했을 때, 얼마나 많은 샘플들을 자르지 않고 포함할 수 있는지 통계로 확인하는 편이  \n",
    "객관적으로 길이를 결정하는 데 도움"
   ]
  },
  {
   "cell_type": "markdown",
   "id": "33ef27dd",
   "metadata": {},
   "source": [
    "훈련 데이터와 샘플의 길이를 입력하면, 데이터의 몇 %가 해당하는지 계산하는 함수를 만들어서 좀 더 정확하게 판단"
   ]
  },
  {
   "cell_type": "code",
   "execution_count": 60,
   "id": "8bd156d2",
   "metadata": {},
   "outputs": [],
   "source": [
    "def below_threshold_len(max_len, nested_list):\n",
    "  cnt = 0\n",
    "  for s in nested_list:\n",
    "    if(len(s.split()) <= max_len):\n",
    "        cnt = cnt + 1\n",
    "  print('전체 샘플 중 길이가 %s 이하인 샘플의 비율: %s'%(max_len, (cnt / len(nested_list))))"
   ]
  },
  {
   "cell_type": "markdown",
   "id": "1c57277c",
   "metadata": {},
   "source": [
    "함수를 text와 headlines에 적용해 우리가 결정한 임의의 길이가 몇%의 샘플까지 포함하는지 볼 수 있다."
   ]
  },
  {
   "cell_type": "code",
   "execution_count": 61,
   "id": "3ddde81f",
   "metadata": {},
   "outputs": [
    {
     "name": "stdout",
     "output_type": "stream",
     "text": [
      "전체 샘플 중 길이가 60 이하인 샘플의 비율: 1.0\n",
      "전체 샘플 중 길이가 16 이하인 샘플의 비율: 1.0\n"
     ]
    }
   ],
   "source": [
    "below_threshold_len(text_max_len, data['text'])\n",
    "below_threshold_len(headlines_max_len,  data['headlines'])"
   ]
  },
  {
   "cell_type": "markdown",
   "id": "c9992488",
   "metadata": {},
   "source": [
    "### 시작 토큰과 종료 토큰 추가하기"
   ]
  },
  {
   "cell_type": "markdown",
   "id": "589e6042",
   "metadata": {},
   "source": [
    "디코더는 시작 토큰을 입력받아 문장을 생성하기 시작하고, 종료 토큰을 예측한 순간에 문장 생성을 멈춘다.  \n",
    "seq2seq 훈련을 위해서는 디코더의 입력과 레이블에 시작 토큰과 종료 토큰을 추가  \n",
    "\n",
    "이번 실습에서는 시작 토큰은 sostoken, 종료 토큰은 eostoken이라 임의로 명명하고 앞, 뒤로 추가  \n",
    "\n",
    "디코더의 입력에 해당하면서 시작 토큰이 맨 앞에 있는 문장의 이름을 decoder_input,  \n",
    "디코더의 출력 또는 레이블에 해당되면서 종료 토큰이 맨 뒤에 붙는 문장의 이름을 decoder_target라고 정하기  \n",
    "\n",
    "두 개의 문장 모두 headlines 열로부터 만들기  "
   ]
  },
  {
   "cell_type": "code",
   "execution_count": 62,
   "id": "ec5e0f19",
   "metadata": {},
   "outputs": [
    {
     "data": {
      "text/html": [
       "<div>\n",
       "<style scoped>\n",
       "    .dataframe tbody tr th:only-of-type {\n",
       "        vertical-align: middle;\n",
       "    }\n",
       "\n",
       "    .dataframe tbody tr th {\n",
       "        vertical-align: top;\n",
       "    }\n",
       "\n",
       "    .dataframe thead th {\n",
       "        text-align: right;\n",
       "    }\n",
       "</style>\n",
       "<table border=\"1\" class=\"dataframe\">\n",
       "  <thead>\n",
       "    <tr style=\"text-align: right;\">\n",
       "      <th></th>\n",
       "      <th>headlines</th>\n",
       "      <th>text</th>\n",
       "      <th>decoder_input</th>\n",
       "      <th>decoder_target</th>\n",
       "    </tr>\n",
       "  </thead>\n",
       "  <tbody>\n",
       "    <tr>\n",
       "      <th>0</th>\n",
       "      <td>upgrad learner switches to career in ml al wit...</td>\n",
       "      <td>saurav kant alumnus upgrad iiit pg program mac...</td>\n",
       "      <td>sostoken upgrad learner switches to career in ...</td>\n",
       "      <td>upgrad learner switches to career in ml al wit...</td>\n",
       "    </tr>\n",
       "    <tr>\n",
       "      <th>1</th>\n",
       "      <td>delhi techie wins free food from swiggy for on...</td>\n",
       "      <td>kunal shah credit card bill payment platform c...</td>\n",
       "      <td>sostoken delhi techie wins free food from swig...</td>\n",
       "      <td>delhi techie wins free food from swiggy for on...</td>\n",
       "    </tr>\n",
       "    <tr>\n",
       "      <th>2</th>\n",
       "      <td>new zealand end rohit sharma led india match w...</td>\n",
       "      <td>new zealand defeated india wickets fourth odi ...</td>\n",
       "      <td>sostoken new zealand end rohit sharma led indi...</td>\n",
       "      <td>new zealand end rohit sharma led india match w...</td>\n",
       "    </tr>\n",
       "    <tr>\n",
       "      <th>3</th>\n",
       "      <td>aegon life iterm insurance plan helps customer...</td>\n",
       "      <td>aegon life iterm insurance plan customers enjo...</td>\n",
       "      <td>sostoken aegon life iterm insurance plan helps...</td>\n",
       "      <td>aegon life iterm insurance plan helps customer...</td>\n",
       "    </tr>\n",
       "    <tr>\n",
       "      <th>4</th>\n",
       "      <td>have known hirani for yrs what if metoo claims...</td>\n",
       "      <td>speaking sexual harassment allegations rajkuma...</td>\n",
       "      <td>sostoken have known hirani for yrs what if met...</td>\n",
       "      <td>have known hirani for yrs what if metoo claims...</td>\n",
       "    </tr>\n",
       "  </tbody>\n",
       "</table>\n",
       "</div>"
      ],
      "text/plain": [
       "                                           headlines  \\\n",
       "0  upgrad learner switches to career in ml al wit...   \n",
       "1  delhi techie wins free food from swiggy for on...   \n",
       "2  new zealand end rohit sharma led india match w...   \n",
       "3  aegon life iterm insurance plan helps customer...   \n",
       "4  have known hirani for yrs what if metoo claims...   \n",
       "\n",
       "                                                text  \\\n",
       "0  saurav kant alumnus upgrad iiit pg program mac...   \n",
       "1  kunal shah credit card bill payment platform c...   \n",
       "2  new zealand defeated india wickets fourth odi ...   \n",
       "3  aegon life iterm insurance plan customers enjo...   \n",
       "4  speaking sexual harassment allegations rajkuma...   \n",
       "\n",
       "                                       decoder_input  \\\n",
       "0  sostoken upgrad learner switches to career in ...   \n",
       "1  sostoken delhi techie wins free food from swig...   \n",
       "2  sostoken new zealand end rohit sharma led indi...   \n",
       "3  sostoken aegon life iterm insurance plan helps...   \n",
       "4  sostoken have known hirani for yrs what if met...   \n",
       "\n",
       "                                      decoder_target  \n",
       "0  upgrad learner switches to career in ml al wit...  \n",
       "1  delhi techie wins free food from swiggy for on...  \n",
       "2  new zealand end rohit sharma led india match w...  \n",
       "3  aegon life iterm insurance plan helps customer...  \n",
       "4  have known hirani for yrs what if metoo claims...  "
      ]
     },
     "execution_count": 62,
     "metadata": {},
     "output_type": "execute_result"
    }
   ],
   "source": [
    "# 요약 데이터에는 시작 토큰과 종료 토큰을 추가한다.\n",
    "data['decoder_input'] = data['headlines'].apply(lambda x : 'sostoken '+ x)\n",
    "data['decoder_target'] = data['headlines'].apply(lambda x : x + ' eostoken')\n",
    "data.head()"
   ]
  },
  {
   "cell_type": "markdown",
   "id": "6fb9a5fd",
   "metadata": {},
   "source": [
    "인코더의 입력, 디코더의 입력과 레이블을 각각 다시 Numpy 타입으로 저장하기"
   ]
  },
  {
   "cell_type": "code",
   "execution_count": 63,
   "id": "eda99cbf",
   "metadata": {},
   "outputs": [],
   "source": [
    "encoder_input = np.array(data['text']) # 인코더의 입력\n",
    "decoder_input = np.array(data['decoder_input']) # 디코더의 입력\n",
    "decoder_target = np.array(data['decoder_target']) # 디코더의 레이블"
   ]
  },
  {
   "cell_type": "markdown",
   "id": "36e2aab4",
   "metadata": {},
   "source": [
    "### 훈련 데이터와 테스트 데이터를 분리  \n",
    "직접 코딩을 통해서 분리 시작하기"
   ]
  },
  {
   "cell_type": "markdown",
   "id": "f38024eb",
   "metadata": {},
   "source": [
    "우선, encoder_input과 크기와 형태가 같은 순서가 섞인 정수 시퀀스를 만들기"
   ]
  },
  {
   "cell_type": "code",
   "execution_count": 64,
   "id": "799d8db2",
   "metadata": {},
   "outputs": [
    {
     "name": "stdout",
     "output_type": "stream",
     "text": [
      "[93560 54288 48893 ... 93707  8854 85147]\n"
     ]
    }
   ],
   "source": [
    "indices = np.arange(encoder_input.shape[0])\n",
    "np.random.shuffle(indices)\n",
    "print(indices)"
   ]
  },
  {
   "cell_type": "markdown",
   "id": "a9696826",
   "metadata": {},
   "source": [
    "이 정수 시퀀스를 이용해 다시 데이터의 샘플 순서를 정의하여 잘 섞인 샘플 만들기"
   ]
  },
  {
   "cell_type": "code",
   "execution_count": 65,
   "id": "fd000af5",
   "metadata": {},
   "outputs": [],
   "source": [
    "encoder_input = encoder_input[indices]\n",
    "decoder_input = decoder_input[indices]\n",
    "decoder_target = decoder_target[indices]"
   ]
  },
  {
   "cell_type": "markdown",
   "id": "4c7b33f7",
   "metadata": {},
   "source": [
    "섞인 데이터를 8:2의 비율로 훈련 데이터와 테스트 데이터로 분리  \n",
    "전체 데이터의 크기에서 0.2를 곱해서 테스트 데이터의 크기를 정의"
   ]
  },
  {
   "cell_type": "code",
   "execution_count": 66,
   "id": "cb8254e2",
   "metadata": {},
   "outputs": [
    {
     "name": "stdout",
     "output_type": "stream",
     "text": [
      "테스트 데이터의 수 : 19672\n"
     ]
    }
   ],
   "source": [
    "n_of_val = int(len(encoder_input)*0.2)\n",
    "print('테스트 데이터의 수 :', n_of_val)"
   ]
  },
  {
   "cell_type": "markdown",
   "id": "18fcdbdc",
   "metadata": {},
   "source": [
    "테스트 데이터의 개수를 이용해 전체 데이터를 양분 ( :표시의 위치에 주의)"
   ]
  },
  {
   "cell_type": "code",
   "execution_count": 67,
   "id": "f9fae7f5",
   "metadata": {},
   "outputs": [
    {
     "name": "stdout",
     "output_type": "stream",
     "text": [
      "훈련 데이터의 개수 : 78688\n",
      "훈련 레이블의 개수 : 78688\n",
      "테스트 데이터의 개수 : 19672\n",
      "테스트 레이블의 개수 : 19672\n"
     ]
    }
   ],
   "source": [
    "encoder_input_train = encoder_input[:-n_of_val]\n",
    "decoder_input_train = decoder_input[:-n_of_val]\n",
    "decoder_target_train = decoder_target[:-n_of_val]\n",
    "\n",
    "encoder_input_test = encoder_input[-n_of_val:]\n",
    "decoder_input_test = decoder_input[-n_of_val:]\n",
    "decoder_target_test = decoder_target[-n_of_val:]\n",
    "\n",
    "print('훈련 데이터의 개수 :', len(encoder_input_train))\n",
    "print('훈련 레이블의 개수 :', len(decoder_input_train))\n",
    "print('테스트 데이터의 개수 :', len(encoder_input_test))\n",
    "print('테스트 레이블의 개수 :', len(decoder_input_test))"
   ]
  },
  {
   "cell_type": "markdown",
   "id": "70afacc9",
   "metadata": {},
   "source": [
    "훈련 데이터 78,688개  \n",
    "테스트 데이터 19,672개"
   ]
  },
  {
   "cell_type": "markdown",
   "id": "8190169b",
   "metadata": {},
   "source": [
    "##  2-3 정수 인코딩"
   ]
  },
  {
   "cell_type": "markdown",
   "id": "89c91148",
   "metadata": {},
   "source": [
    "### 단어 집합(vocabu lary) 만들기 및 정수 인코딩  \n",
    "기계가 텍스트를 숫자로 처리할 수 있도록 훈련 데이터와 테스트 데이터의 단어들을 모두 정수로 바꾸어 주어야 한다.  \n",
    "이를 위해서는 각 단어에 고유한 정수를 맵핑하는 작업이 필요  \n",
    "이 과정을 단어 집합(vocabulary) 을 만든다고 표현"
   ]
  },
  {
   "cell_type": "markdown",
   "id": "48f49fed",
   "metadata": {},
   "source": [
    "훈련 데이터에 대해서 단어 집합을 만들기  \n",
    "우선, 원문에 해당되는 encoder_input_train에 대해서 단어 집합을 만들어 보기  \n",
    "(Keras의 토크나이저를 사용)"
   ]
  },
  {
   "cell_type": "code",
   "execution_count": 68,
   "id": "46f88415",
   "metadata": {},
   "outputs": [],
   "source": [
    "src_tokenizer = Tokenizer() # 토크나이저 정의\n",
    "src_tokenizer.fit_on_texts(encoder_input_train) # 입력된 데이터로부터 단어 집합 생성"
   ]
  },
  {
   "cell_type": "markdown",
   "id": "36d5e487",
   "metadata": {},
   "source": [
    "이제 단어 집합이 생성되는 동시에 각 단어에 고유한 정수가 부여됨  \n",
    "현재 생성된 단어 집합은 src_tokenizer.word_index에 저장  \n",
    "단어 집합에 있는 모든 단어를 사용하는 것이 아니라, 빈도수가 낮은 단어들은 훈련 데이터에서 제외하고 진행"
   ]
  },
  {
   "cell_type": "markdown",
   "id": "3443b8ee",
   "metadata": {},
   "source": [
    "등장 빈도수가 7회 미만인 단어들이 이 데이터에서 얼만큼의 비중을 차지하는지 확인  \n",
    "src_tokenizer.word_counts.items()에는 단어와 각 단어의 등장 빈도수가 저장돼 있는데, 이를 통해서 통계적인 정보를 얻을 수 있다."
   ]
  },
  {
   "cell_type": "code",
   "execution_count": 69,
   "id": "97c6e315",
   "metadata": {},
   "outputs": [
    {
     "name": "stdout",
     "output_type": "stream",
     "text": [
      "단어 집합(vocabulary)의 크기 : 69604\n",
      "등장 빈도가 6번 이하인 희귀 단어의 수: 47447\n",
      "단어 집합에서 희귀 단어를 제외시킬 경우의 단어 집합의 크기 22157\n",
      "단어 집합에서 희귀 단어의 비율: 68.16705936440435\n",
      "전체 등장 빈도에서 희귀 단어 등장 빈도 비율: 3.490215399853241\n"
     ]
    }
   ],
   "source": [
    "threshold = 7\n",
    "total_cnt = len(src_tokenizer.word_index) # 단어의 수\n",
    "rare_cnt = 0 # 등장 빈도수가 threshold보다 작은 단어의 개수를 카운트\n",
    "total_freq = 0 # 훈련 데이터의 전체 단어 빈도수 총 합\n",
    "rare_freq = 0 # 등장 빈도수가 threshold보다 작은 단어의 등장 빈도수의 총 합\n",
    "\n",
    "# 단어와 빈도수의 쌍(pair)을 key와 value로 받는다.\n",
    "for key, value in src_tokenizer.word_counts.items():\n",
    "    total_freq = total_freq + value\n",
    "\n",
    "    # 단어의 등장 빈도수가 threshold보다 작으면\n",
    "    if(value < threshold):\n",
    "        rare_cnt = rare_cnt + 1\n",
    "        rare_freq = rare_freq + value\n",
    "\n",
    "print('단어 집합(vocabulary)의 크기 :', total_cnt)\n",
    "print('등장 빈도가 %s번 이하인 희귀 단어의 수: %s'%(threshold - 1, rare_cnt))\n",
    "print('단어 집합에서 희귀 단어를 제외시킬 경우의 단어 집합의 크기 %s'%(total_cnt - rare_cnt))\n",
    "print(\"단어 집합에서 희귀 단어의 비율:\", (rare_cnt / total_cnt)*100)\n",
    "print(\"전체 등장 빈도에서 희귀 단어 등장 빈도 비율:\", (rare_freq / total_freq)*100)"
   ]
  },
  {
   "cell_type": "markdown",
   "id": "1ff93235",
   "metadata": {},
   "source": [
    "등장 빈도가 6회 이하인 단어들은 정수 인코딩 과정에서 빼고, 훈련 데이터에서 제거  \n",
    "이를 제외한 단어 집합의 크기를 2만여 개로 계산했는데, 이와 비슷한 값으로 어림잡아 단어 집합의 크기를 20,000으로 제한  \n",
    "토크나이저를 정의할 때 num_words의 값을 정해주면, 단어 집합의 크기를 제한할 수 있다"
   ]
  },
  {
   "cell_type": "code",
   "execution_count": 70,
   "id": "36822cb4",
   "metadata": {},
   "outputs": [],
   "source": [
    "src_vocab = 20000\n",
    "src_tokenizer = Tokenizer(num_words=src_vocab) # 단어 집합의 크기를 20,000으로 제한\n",
    "src_tokenizer.fit_on_texts(encoder_input_train) # 단어 집합 재생성"
   ]
  },
  {
   "cell_type": "markdown",
   "id": "b1de8478",
   "metadata": {},
   "source": [
    "texts_to_sequences()는 생성된 단어 집합에 기반하여 입력으로 주어진 텍스트 데이터의 단어들을 모두 정수로 변환하는 정수 인코딩을 수행"
   ]
  },
  {
   "cell_type": "code",
   "execution_count": 71,
   "id": "0e0f3274",
   "metadata": {},
   "outputs": [
    {
     "name": "stdout",
     "output_type": "stream",
     "text": [
      "[[3194, 4340, 1256, 1755, 129, 1658, 1047, 5703, 1005, 27, 6260, 256, 5003, 69, 108, 1323, 16001, 6332, 1047, 1624, 3503, 586, 417, 6260, 5414, 335, 1175, 9489, 1047, 8677, 17499, 233, 5004, 19470], [1668, 283, 3099, 3206, 3924, 747, 1616, 67, 189, 79, 270, 1638, 1129, 827, 4580, 722, 171, 779, 1, 722, 8042, 5704, 283, 779, 1, 2109, 722, 56, 171], [218, 2885, 311, 255, 1564, 347, 3279, 3954, 3258, 248, 190, 119, 311, 1, 7919, 1505, 1821, 4, 1686, 775, 855, 243, 5005, 351, 7790, 139, 3925, 76, 1243, 311, 1290, 872, 3954, 3258, 4844]]\n"
     ]
    }
   ],
   "source": [
    "# 텍스트 시퀀스를 정수 시퀀스로 변환\n",
    "encoder_input_train = src_tokenizer.texts_to_sequences(encoder_input_train) \n",
    "encoder_input_test = src_tokenizer.texts_to_sequences(encoder_input_test)\n",
    "\n",
    "# 잘 진행되었는지 샘플 출력\n",
    "print(encoder_input_train[:3])"
   ]
  },
  {
   "cell_type": "markdown",
   "id": "211edced",
   "metadata": {},
   "source": [
    "headlines 데이터에 대해서도 동일한 작업을 수행  \n",
    "케라스의 토크나이저를 사용하여 decoder_input_train을 입력으로 전체 단어 집합과 각 단어에 대한 빈도수를 계산"
   ]
  },
  {
   "cell_type": "code",
   "execution_count": 72,
   "id": "0bdc0bbb",
   "metadata": {},
   "outputs": [],
   "source": [
    "tar_tokenizer = Tokenizer()\n",
    "tar_tokenizer.fit_on_texts(decoder_input_train)"
   ]
  },
  {
   "cell_type": "markdown",
   "id": "c90e005f",
   "metadata": {},
   "source": [
    "단어 집합이 생성되는 동시에 각 단어에 고유한 정수가 부여 후 tar_tokenizer.word_index에 저장  \n",
    "tar_tokenizer.word_counts.items()에는 단어와 각 단어의 등장 빈도수가 저장  \n",
    "이를 통해서 통계적인 정보를 얻어서, 등장 빈도수가 6회 미만인 단어들이 이 데이터에서 얼만큼의 비중을 차지하는지 확인"
   ]
  },
  {
   "cell_type": "code",
   "execution_count": 73,
   "id": "97381b12",
   "metadata": {},
   "outputs": [
    {
     "name": "stdout",
     "output_type": "stream",
     "text": [
      "단어 집합(vocabulary)의 크기 : 30126\n",
      "등장 빈도가 5번 이하인 희귀 단어의 수: 19695\n",
      "단어 집합에서 희귀 단어를 제외시킬 경우의 단어 집합의 크기 10431\n",
      "단어 집합에서 희귀 단어의 비율: 65.37542322246564\n",
      "전체 등장 빈도에서 희귀 단어 등장 빈도 비율: 4.650425245200875\n"
     ]
    }
   ],
   "source": [
    "threshold = 6\n",
    "total_cnt = len(tar_tokenizer.word_index) # 단어의 수\n",
    "rare_cnt = 0 # 등장 빈도수가 threshold보다 작은 단어의 개수를 카운트\n",
    "total_freq = 0 # 훈련 데이터의 전체 단어 빈도수 총 합\n",
    "rare_freq = 0 # 등장 빈도수가 threshold보다 작은 단어의 등장 빈도수의 총 합\n",
    "\n",
    "# 단어와 빈도수의 쌍(pair)을 key와 value로 받는다.\n",
    "for key, value in tar_tokenizer.word_counts.items():\n",
    "    total_freq = total_freq + value\n",
    "\n",
    "    # 단어의 등장 빈도수가 threshold보다 작으면\n",
    "    if(value < threshold):\n",
    "        rare_cnt = rare_cnt + 1\n",
    "        rare_freq = rare_freq + value\n",
    "\n",
    "print('단어 집합(vocabulary)의 크기 :', total_cnt)\n",
    "print('등장 빈도가 %s번 이하인 희귀 단어의 수: %s'%(threshold - 1, rare_cnt))\n",
    "print('단어 집합에서 희귀 단어를 제외시킬 경우의 단어 집합의 크기 %s'%(total_cnt - rare_cnt))\n",
    "print(\"단어 집합에서 희귀 단어의 비율:\", (rare_cnt / total_cnt)*100)\n",
    "print(\"전체 등장 빈도에서 희귀 단어 등장 빈도 비율:\", (rare_freq / total_freq)*100)"
   ]
  },
  {
   "cell_type": "markdown",
   "id": "ff0c2a5d",
   "metadata": {},
   "source": [
    "등장 빈도가 5회 이하인 단어들은 단어 집합에서 약 66%를 차지  \n",
    "아까 했던 것과 동일하게 이 단어들은 모두 제거  \n",
    "어림잡아 10,000을 단어 집합의 크기로 제한"
   ]
  },
  {
   "cell_type": "code",
   "execution_count": 74,
   "id": "3a22dba3",
   "metadata": {},
   "outputs": [
    {
     "name": "stdout",
     "output_type": "stream",
     "text": [
      "input\n",
      "input  [[1, 1694, 7672, 1315, 6, 236, 3587, 4, 1650, 5198], [1, 229, 1024, 233, 11, 941, 14, 6832, 1160], [1, 251, 2986, 2733, 4, 5012, 4, 252], [1, 30, 2393, 1181, 7248, 4520, 9542], [1, 338, 4670, 9543, 1144, 110, 37, 1316, 477, 4, 59]]\n",
      "target\n",
      "decoder  [[1694, 7672, 1315, 6, 236, 3587, 4, 1650, 5198, 2], [229, 1024, 233, 11, 941, 14, 6832, 1160, 2], [251, 2986, 2733, 4, 5012, 4, 252, 2], [30, 2393, 1181, 7248, 4520, 9542, 2], [338, 4670, 9543, 1144, 110, 37, 1316, 477, 4, 59, 2]]\n"
     ]
    }
   ],
   "source": [
    "tar_vocab = 10000\n",
    "tar_tokenizer = Tokenizer(num_words=tar_vocab) \n",
    "tar_tokenizer.fit_on_texts(decoder_input_train)\n",
    "tar_tokenizer.fit_on_texts(decoder_target_train)\n",
    "\n",
    "# 텍스트 시퀀스를 정수 시퀀스로 변환\n",
    "decoder_input_train = tar_tokenizer.texts_to_sequences(decoder_input_train) \n",
    "decoder_target_train = tar_tokenizer.texts_to_sequences(decoder_target_train)\n",
    "decoder_input_test = tar_tokenizer.texts_to_sequences(decoder_input_test)\n",
    "decoder_target_test = tar_tokenizer.texts_to_sequences(decoder_target_test)\n",
    "\n",
    "# 잘 변환되었는지 확인\n",
    "print('input')\n",
    "print('input ',decoder_input_train[:5])\n",
    "print('target')\n",
    "print('decoder ',decoder_target_train[:5])"
   ]
  },
  {
   "cell_type": "markdown",
   "id": "4d0c962b",
   "metadata": {},
   "source": [
    "빈도수가 낮은 단어가 삭제되었다는 것은 빈도수가 낮은 단어만으로 구성되었던 샘플들은 이제 빈(empty) 샘플이 되었을 가능성    \n",
    "headlines 경우에는 이 현상이 굉장히 두드러졌을 가능성     \n",
    "요약문인 decoder_input에는 sostoken 또는 decoder_target에는 eostoken이 추가된 상태 길이가 0이 된 요약문의 실제 길이는 1로 나온다."
   ]
  },
  {
   "cell_type": "markdown",
   "id": "a585d63a",
   "metadata": {},
   "source": [
    "훈련 데이터와 테스트 데이터에 대해서 요약문의 길이가 1인 경우의 인덱스를 각각 drop_train과 drop_test에 라는 변수에 저장 이 샘플들은 모두 삭제"
   ]
  },
  {
   "cell_type": "code",
   "execution_count": 75,
   "id": "03bea6f3",
   "metadata": {},
   "outputs": [
    {
     "name": "stdout",
     "output_type": "stream",
     "text": [
      "삭제할 훈련 데이터의 개수 : 0\n",
      "삭제할 테스트 데이터의 개수 : 0\n",
      "훈련 데이터의 개수 : 78688\n",
      "훈련 레이블의 개수 : 78688\n",
      "테스트 데이터의 개수 : 19672\n",
      "테스트 레이블의 개수 : 19672\n"
     ]
    }
   ],
   "source": [
    "drop_train = [index for index, sentence in enumerate(decoder_input_train) if len(sentence) == 1]\n",
    "drop_test = [index for index, sentence in enumerate(decoder_input_test) if len(sentence) == 1]\n",
    "\n",
    "print('삭제할 훈련 데이터의 개수 :', len(drop_train))\n",
    "print('삭제할 테스트 데이터의 개수 :', len(drop_test))\n",
    "\n",
    "encoder_input_train = [sentence for index, sentence in enumerate(encoder_input_train) if index not in drop_train]\n",
    "decoder_input_train = [sentence for index, sentence in enumerate(decoder_input_train) if index not in drop_train]\n",
    "decoder_target_train = [sentence for index, sentence in enumerate(decoder_target_train) if index not in drop_train]\n",
    "\n",
    "encoder_input_test = [sentence for index, sentence in enumerate(encoder_input_test) if index not in drop_test]\n",
    "decoder_input_test = [sentence for index, sentence in enumerate(decoder_input_test) if index not in drop_test]\n",
    "decoder_target_test = [sentence for index, sentence in enumerate(decoder_target_test) if index not in drop_test]\n",
    "\n",
    "print('훈련 데이터의 개수 :', len(encoder_input_train))\n",
    "print('훈련 레이블의 개수 :', len(decoder_input_train))\n",
    "print('테스트 데이터의 개수 :', len(encoder_input_test))\n",
    "print('테스트 레이블의 개수 :', len(decoder_input_test))"
   ]
  },
  {
   "cell_type": "markdown",
   "id": "49584c4b",
   "metadata": {},
   "source": [
    "훈련 데이터와 테스트 데이터 모두 일정량의 샘플들이 제거된 것을 확인"
   ]
  },
  {
   "cell_type": "markdown",
   "id": "0fd985b6",
   "metadata": {},
   "source": [
    "### 패딩하기"
   ]
  },
  {
   "cell_type": "markdown",
   "id": "b9d99a27",
   "metadata": {},
   "source": [
    "텍스트 시퀀스를 정수 시퀀스로 변환했다면,  \n",
    "이제 서로 다른 길이의 샘플들을 병렬 처리하기 위해 같은 길이로 맞춰주는 패딩 작업을 해주어야 한다.  \n",
    "아까 정해두었던 최대 길이로 패딩하기 최대 길이보다 짧은 데이터들은 뒤의 공간에 숫자 0을 넣어 최대 길이로 길이를 맞춰주기"
   ]
  },
  {
   "cell_type": "code",
   "execution_count": 76,
   "id": "6e2f9b8b",
   "metadata": {},
   "outputs": [],
   "source": [
    "encoder_input_train = pad_sequences(encoder_input_train, maxlen=text_max_len, padding='post')\n",
    "encoder_input_test = pad_sequences(encoder_input_test, maxlen=text_max_len, padding='post')\n",
    "decoder_input_train = pad_sequences(decoder_input_train, maxlen=headlines_max_len, padding='post')\n",
    "decoder_target_train = pad_sequences(decoder_target_train, maxlen=headlines_max_len, padding='post')\n",
    "decoder_input_test = pad_sequences(decoder_input_test, maxlen=headlines_max_len, padding='post')\n",
    "decoder_target_test = pad_sequences(decoder_target_test, maxlen=headlines_max_len, padding='post')"
   ]
  },
  {
   "cell_type": "markdown",
   "id": "e61f4eb4",
   "metadata": {},
   "source": [
    "# Step 3. 모델 설계하기"
   ]
  },
  {
   "cell_type": "markdown",
   "id": "38b6e2c6",
   "metadata": {},
   "source": [
    "우선 함수형 API를 이용해서 인코더를 설계"
   ]
  },
  {
   "cell_type": "code",
   "execution_count": 77,
   "id": "afeafc22",
   "metadata": {},
   "outputs": [
    {
     "name": "stdout",
     "output_type": "stream",
     "text": [
      "WARNING:tensorflow:Layer lstm_4 will not use cuDNN kernels since it doesn't meet the criteria. It will use a generic GPU kernel as fallback when running on GPU.\n",
      "WARNING:tensorflow:Layer lstm_5 will not use cuDNN kernels since it doesn't meet the criteria. It will use a generic GPU kernel as fallback when running on GPU.\n",
      "WARNING:tensorflow:Layer lstm_6 will not use cuDNN kernels since it doesn't meet the criteria. It will use a generic GPU kernel as fallback when running on GPU.\n"
     ]
    }
   ],
   "source": [
    "from tensorflow.keras.layers import Input, LSTM, Embedding, Dense, Concatenate, TimeDistributed\n",
    "from tensorflow.keras.models import Model\n",
    "from tensorflow.keras.callbacks import EarlyStopping, ModelCheckpoint\n",
    "\n",
    "\n",
    "# 인코더 설계 시작\n",
    "embedding_dim = 128\n",
    "hidden_size = 256\n",
    "\n",
    "# 인코더\n",
    "encoder_inputs = Input(shape=(text_max_len,))\n",
    "\n",
    "# 인코더의 임베딩 층\n",
    "enc_emb = Embedding(src_vocab, embedding_dim)(encoder_inputs)\n",
    "\n",
    "# 인코더의 LSTM 1\n",
    "encoder_lstm1 = LSTM(hidden_size, return_sequences=True, return_state=True ,dropout = 0.4, recurrent_dropout = 0.4)\n",
    "encoder_output1, state_h1, state_c1 = encoder_lstm1(enc_emb)\n",
    "\n",
    "# 인코더의 LSTM 2\n",
    "encoder_lstm2 = LSTM(hidden_size, return_sequences=True, return_state=True, dropout=0.4, recurrent_dropout=0.4)\n",
    "encoder_output2, state_h2, state_c2 = encoder_lstm2(encoder_output1)\n",
    "\n",
    "# 인코더의 LSTM 3\n",
    "encoder_lstm3 = LSTM(hidden_size, return_state=True, return_sequences=True, dropout=0.4, recurrent_dropout=0.4)\n",
    "encoder_outputs, state_h, state_c= encoder_lstm3(encoder_output2)"
   ]
  },
  {
   "cell_type": "markdown",
   "id": "018c9f1a",
   "metadata": {},
   "source": [
    "임베딩 벡터의 차원은 128로 정의 hidden state의 크기를 256으로 정의,  \n",
    "hidden state는 LSTM에서 얼만큼의 수용력(capacity)를 가질지를 정하는 파라미터  \n",
    "이 파라미터는 LSTM의 용량의 크기나, LSTM에서의 뉴런의 개수라고 이해, 용량을 많이 준다고 해서 성능이 반드시 올라가는 것은 아니다."
   ]
  },
  {
   "cell_type": "markdown",
   "id": "503e673f",
   "metadata": {},
   "source": [
    "인코더의 LSTM은 총 3개의 층으로 구성  \n",
    "3개의 층을 사용하는 것은 모델의 용량을 늘린다고 볼수 있음  \n",
    "3개의 층을 지나서 인코더로부터 나온 출력 벡터는 디코더로 보내줘야 한다."
   ]
  },
  {
   "cell_type": "markdown",
   "id": "dbd6669b",
   "metadata": {},
   "source": [
    "LSTM은 dropout 뿐 아니라 recurrent dropout까지 사용  \n",
    "\n",
    "일반적인 dropout은 레이어의 weight를 랜덤으로 생략하여 모델의 과적합(overfitting)을 해결해주는 방법  \n",
    "\n",
    "반면 recurrent dropout은 dropout을 레이어가 아닌 time step마다 해주는 방식,즉 time step의 입력을 랜덤으로 생략  \n",
    "regularization을 해주는 효과가 있고, 과적합을 방지할 수 있다.  "
   ]
  },
  {
   "cell_type": "markdown",
   "id": "87dfb79d",
   "metadata": {},
   "source": [
    "참고로 recurrent dropout을 사용하면 경고문이 뜬다.  \n",
    "recurrent dropout을 사용할 시 cuDNN을 사용할 수 없어서 recurrent dropout을 사용하지 않을 때보다 학습 시간이 오래 걸린다."
   ]
  },
  {
   "cell_type": "markdown",
   "id": "57926de3",
   "metadata": {},
   "source": [
    "디코더를 설계한다"
   ]
  },
  {
   "cell_type": "code",
   "execution_count": 78,
   "id": "dc3bd234",
   "metadata": {},
   "outputs": [
    {
     "name": "stdout",
     "output_type": "stream",
     "text": [
      "WARNING:tensorflow:Layer lstm_7 will not use cuDNN kernels since it doesn't meet the criteria. It will use a generic GPU kernel as fallback when running on GPU.\n"
     ]
    }
   ],
   "source": [
    "# 디코더 설계\n",
    "decoder_inputs = Input(shape=(None,))\n",
    "\n",
    "# 디코더의 임베딩 층\n",
    "dec_emb_layer = Embedding(tar_vocab, embedding_dim)\n",
    "dec_emb = dec_emb_layer(decoder_inputs)\n",
    "\n",
    "# 디코더의 LSTM\n",
    "decoder_lstm = LSTM(hidden_size, return_sequences=True, return_state=True, dropout=0.4, recurrent_dropout=0.2)\n",
    "decoder_outputs, _, _ = decoder_lstm(dec_emb, initial_state=[state_h, state_c])"
   ]
  },
  {
   "cell_type": "markdown",
   "id": "960cad15",
   "metadata": {},
   "source": [
    "디코더의 임베딩 층과 LSTM을 설계하는 것은 인코더와 거의 동일 LSTM의 입력을 정의할 때,     \n",
    "initial_state의 인자값으로 인코더의 hidden state와 cell state의 값을 넣어줘야 한다."
   ]
  },
  {
   "cell_type": "markdown",
   "id": "96f19b6d",
   "metadata": {},
   "source": [
    "디코더 출력층 설계"
   ]
  },
  {
   "cell_type": "code",
   "execution_count": 79,
   "id": "5a0f382e",
   "metadata": {},
   "outputs": [
    {
     "name": "stdout",
     "output_type": "stream",
     "text": [
      "Model: \"model_2\"\n",
      "__________________________________________________________________________________________________\n",
      "Layer (type)                    Output Shape         Param #     Connected to                     \n",
      "==================================================================================================\n",
      "input_3 (InputLayer)            [(None, 60)]         0                                            \n",
      "__________________________________________________________________________________________________\n",
      "embedding_2 (Embedding)         (None, 60, 128)      2560000     input_3[0][0]                    \n",
      "__________________________________________________________________________________________________\n",
      "lstm_4 (LSTM)                   [(None, 60, 256), (N 394240      embedding_2[0][0]                \n",
      "__________________________________________________________________________________________________\n",
      "input_4 (InputLayer)            [(None, None)]       0                                            \n",
      "__________________________________________________________________________________________________\n",
      "lstm_5 (LSTM)                   [(None, 60, 256), (N 525312      lstm_4[0][0]                     \n",
      "__________________________________________________________________________________________________\n",
      "embedding_3 (Embedding)         (None, None, 128)    1280000     input_4[0][0]                    \n",
      "__________________________________________________________________________________________________\n",
      "lstm_6 (LSTM)                   [(None, 60, 256), (N 525312      lstm_5[0][0]                     \n",
      "__________________________________________________________________________________________________\n",
      "lstm_7 (LSTM)                   [(None, None, 256),  394240      embedding_3[0][0]                \n",
      "                                                                 lstm_6[0][1]                     \n",
      "                                                                 lstm_6[0][2]                     \n",
      "__________________________________________________________________________________________________\n",
      "dense_2 (Dense)                 (None, None, 10000)  2570000     lstm_7[0][0]                     \n",
      "==================================================================================================\n",
      "Total params: 8,249,104\n",
      "Trainable params: 8,249,104\n",
      "Non-trainable params: 0\n",
      "__________________________________________________________________________________________________\n"
     ]
    }
   ],
   "source": [
    "# 디코더의 출력층\n",
    "decoder_softmax_layer = Dense(tar_vocab, activation='softmax')\n",
    "decoder_softmax_outputs = decoder_softmax_layer(decoder_outputs) \n",
    "\n",
    "# 모델 정의\n",
    "model = Model([encoder_inputs, decoder_inputs], decoder_softmax_outputs)\n",
    "model.summary()"
   ]
  },
  {
   "cell_type": "markdown",
   "id": "c5358864",
   "metadata": {},
   "source": [
    "디코더의 출력층에서는 Summary의 단어장인 tar_vocab의 수많은 선택지 중 하나의 단어를 선택하는 다중 클래스 분류 문제를 풀어야 한다.   \n",
    "그렇기 때문에 Dense의 인자로 tar_vocab을 주고   \n",
    "활성화 함수로 소프트맥스 함수를 사용  "
   ]
  },
  {
   "cell_type": "markdown",
   "id": "0591d044",
   "metadata": {},
   "source": [
    "지금까지 설계한 것은 인코더의 hidden state와 cell state를 디코더의 초기 state로 사용하는 가장 기본적인 seq2seq    \n",
    "디코더의 출력층을 설계를 살짝 바꿔서 성능을 높일 수 있는 방법-> 어텐션 메커니즘"
   ]
  },
  {
   "cell_type": "markdown",
   "id": "7571264e",
   "metadata": {},
   "source": [
    "# Step 4.  어텐션 메커니즘 사용하기 (추상적 요약)"
   ]
  },
  {
   "cell_type": "markdown",
   "id": "5e7331f8",
   "metadata": {},
   "source": [
    "### 어텐션 메커니즘"
   ]
  },
  {
   "cell_type": "markdown",
   "id": "34d379df",
   "metadata": {},
   "source": [
    "어텐션 메커니즘을 수행하는 어텐션 함수를 설계하는 것은 또 다른 새로운 신경망을 설계해야 한다는 뜻    \n",
    "여기서는 TensorFlow에 이미 구현된 어텐션 함수를 가져와서 디코더의 출력층에 어떤 방식으로 결합하는지 배워볼 것    \n",
    "참고로 여기서 사용하는 어텐션 함수는 Bahdanau 스타일의 어텐션  "
   ]
  },
  {
   "cell_type": "markdown",
   "id": "de2d88f6",
   "metadata": {},
   "source": [
    "어텐션 층을 만들고, 위에서 설계한 디코더의 출력층을 수정 해보기"
   ]
  },
  {
   "cell_type": "code",
   "execution_count": 80,
   "id": "25d4e021",
   "metadata": {},
   "outputs": [
    {
     "name": "stdout",
     "output_type": "stream",
     "text": [
      "Model: \"model_3\"\n",
      "__________________________________________________________________________________________________\n",
      "Layer (type)                    Output Shape         Param #     Connected to                     \n",
      "==================================================================================================\n",
      "input_3 (InputLayer)            [(None, 60)]         0                                            \n",
      "__________________________________________________________________________________________________\n",
      "embedding_2 (Embedding)         (None, 60, 128)      2560000     input_3[0][0]                    \n",
      "__________________________________________________________________________________________________\n",
      "lstm_4 (LSTM)                   [(None, 60, 256), (N 394240      embedding_2[0][0]                \n",
      "__________________________________________________________________________________________________\n",
      "input_4 (InputLayer)            [(None, None)]       0                                            \n",
      "__________________________________________________________________________________________________\n",
      "lstm_5 (LSTM)                   [(None, 60, 256), (N 525312      lstm_4[0][0]                     \n",
      "__________________________________________________________________________________________________\n",
      "embedding_3 (Embedding)         (None, None, 128)    1280000     input_4[0][0]                    \n",
      "__________________________________________________________________________________________________\n",
      "lstm_6 (LSTM)                   [(None, 60, 256), (N 525312      lstm_5[0][0]                     \n",
      "__________________________________________________________________________________________________\n",
      "lstm_7 (LSTM)                   [(None, None, 256),  394240      embedding_3[0][0]                \n",
      "                                                                 lstm_6[0][1]                     \n",
      "                                                                 lstm_6[0][2]                     \n",
      "__________________________________________________________________________________________________\n",
      "attention_layer (AdditiveAttent (None, None, 256)    256         lstm_7[0][0]                     \n",
      "                                                                 lstm_6[0][0]                     \n",
      "__________________________________________________________________________________________________\n",
      "concat_layer (Concatenate)      (None, None, 512)    0           lstm_7[0][0]                     \n",
      "                                                                 attention_layer[0][0]            \n",
      "__________________________________________________________________________________________________\n",
      "dense_3 (Dense)                 (None, None, 10000)  5130000     concat_layer[0][0]               \n",
      "==================================================================================================\n",
      "Total params: 10,809,360\n",
      "Trainable params: 10,809,360\n",
      "Non-trainable params: 0\n",
      "__________________________________________________________________________________________________\n"
     ]
    }
   ],
   "source": [
    "from tensorflow.keras.layers import AdditiveAttention\n",
    "\n",
    "# 어텐션 층(어텐션 함수)\n",
    "attn_layer = AdditiveAttention(name='attention_layer')\n",
    "\n",
    "# 인코더와 디코더의 모든 time step의 hidden state를 어텐션 층에 전달하고 결과를 리턴\n",
    "attn_out = attn_layer([decoder_outputs, encoder_outputs])\n",
    "\n",
    "\n",
    "# 어텐션의 결과와 디코더의 hidden state들을 연결\n",
    "decoder_concat_input = Concatenate(axis=-1, name='concat_layer')([decoder_outputs, attn_out])\n",
    "\n",
    "# 디코더의 출력층\n",
    "decoder_softmax_layer = Dense(tar_vocab, activation='softmax')\n",
    "decoder_softmax_outputs = decoder_softmax_layer(decoder_concat_input)\n",
    "\n",
    "# 모델 정의\n",
    "model = Model([encoder_inputs, decoder_inputs], decoder_softmax_outputs)\n",
    "model.summary()"
   ]
  },
  {
   "cell_type": "markdown",
   "id": "5aea969e",
   "metadata": {},
   "source": [
    "인코더의 hidden state들과 디코더의 hidden state들을 어텐션 함수의 입력으로 사용  \n",
    "어텐션 함수가 리턴한 값을 예측 시에 디코더의 hidden state와 함께 활용하는 형태로 작동  "
   ]
  },
  {
   "cell_type": "markdown",
   "id": "46db816c",
   "metadata": {},
   "source": [
    "## 모델 훈련하기"
   ]
  },
  {
   "cell_type": "code",
   "execution_count": 81,
   "id": "1cea10b3",
   "metadata": {},
   "outputs": [
    {
     "name": "stdout",
     "output_type": "stream",
     "text": [
      "Epoch 1/50\n",
      "308/308 [==============================] - 260s 819ms/step - loss: 4.2700 - val_loss: 3.9190\n",
      "Epoch 2/50\n",
      "308/308 [==============================] - 249s 808ms/step - loss: 3.8257 - val_loss: 3.6500\n",
      "Epoch 3/50\n",
      "308/308 [==============================] - 249s 808ms/step - loss: 3.5584 - val_loss: 3.4448\n",
      "Epoch 4/50\n",
      "308/308 [==============================] - 249s 809ms/step - loss: 3.3607 - val_loss: 3.2938\n",
      "Epoch 5/50\n",
      "308/308 [==============================] - 248s 807ms/step - loss: 3.2037 - val_loss: 3.1918\n",
      "Epoch 6/50\n",
      "308/308 [==============================] - 248s 805ms/step - loss: 3.0749 - val_loss: 3.1094\n",
      "Epoch 7/50\n",
      "308/308 [==============================] - 249s 807ms/step - loss: 2.9688 - val_loss: 3.0523\n",
      "Epoch 8/50\n",
      "308/308 [==============================] - 249s 809ms/step - loss: 2.8760 - val_loss: 2.9814\n",
      "Epoch 9/50\n",
      "308/308 [==============================] - 249s 808ms/step - loss: 2.7930 - val_loss: 2.9383\n",
      "Epoch 10/50\n",
      "308/308 [==============================] - 248s 807ms/step - loss: 2.7191 - val_loss: 2.9060\n",
      "Epoch 11/50\n",
      "308/308 [==============================] - 250s 812ms/step - loss: 2.6526 - val_loss: 2.8631\n",
      "Epoch 12/50\n",
      "308/308 [==============================] - 253s 820ms/step - loss: 2.5936 - val_loss: 2.8388\n",
      "Epoch 13/50\n",
      "308/308 [==============================] - 253s 820ms/step - loss: 2.5390 - val_loss: 2.8145\n",
      "Epoch 14/50\n",
      "308/308 [==============================] - 256s 830ms/step - loss: 2.4896 - val_loss: 2.8078\n",
      "Epoch 15/50\n",
      "308/308 [==============================] - 256s 830ms/step - loss: 2.4440 - val_loss: 2.7854\n",
      "Epoch 16/50\n",
      "308/308 [==============================] - 256s 833ms/step - loss: 2.4023 - val_loss: 2.7685\n",
      "Epoch 17/50\n",
      "308/308 [==============================] - 257s 833ms/step - loss: 2.3615 - val_loss: 2.7570\n",
      "Epoch 18/50\n",
      "308/308 [==============================] - 260s 844ms/step - loss: 2.3264 - val_loss: 2.7450\n",
      "Epoch 19/50\n",
      "308/308 [==============================] - 258s 837ms/step - loss: 2.2936 - val_loss: 2.7324\n",
      "Epoch 20/50\n",
      "308/308 [==============================] - 257s 834ms/step - loss: 2.2620 - val_loss: 2.7305\n",
      "Epoch 21/50\n",
      "308/308 [==============================] - 255s 829ms/step - loss: 2.2320 - val_loss: 2.7232\n",
      "Epoch 22/50\n",
      "308/308 [==============================] - 255s 829ms/step - loss: 2.2025 - val_loss: 2.7178\n",
      "Epoch 23/50\n",
      "308/308 [==============================] - 255s 829ms/step - loss: 2.1724 - val_loss: 2.7078\n",
      "Epoch 24/50\n",
      "308/308 [==============================] - 256s 831ms/step - loss: 2.1454 - val_loss: 2.7094\n",
      "Epoch 25/50\n",
      "308/308 [==============================] - 258s 837ms/step - loss: 2.1208 - val_loss: 2.7090\n",
      "Epoch 00025: early stopping\n"
     ]
    }
   ],
   "source": [
    "model.compile(optimizer='rmsprop', loss='sparse_categorical_crossentropy')\n",
    "es = EarlyStopping(monitor='val_loss', patience=2, verbose=1)\n",
    "history = model.fit(x=[encoder_input_train, decoder_input_train], y=decoder_target_train, \\\n",
    "          validation_data=([encoder_input_test, decoder_input_test], decoder_target_test), \\\n",
    "          batch_size=256, callbacks=[es], epochs=50)"
   ]
  },
  {
   "cell_type": "markdown",
   "id": "065deb8a",
   "metadata": {},
   "source": [
    "'조기 종료'를 뜻하는 EarlyStopping은 특정 조건이 충족되면 훈련을 멈추는 역할    \n",
    "\n",
    "val_loss(검증 데이터의 손실)을 관찰하다가, 검증 데이터의 손실이 줄어들지 않고 증가하는 현상이 2회(patience=2) 관측되면,  \n",
    "학습을 멈추도록 설정   \n",
    "\n",
    "EarlyStopping이 작동한다면 epochs가 아무리 크게 설정되어 있어도 모델 훈련을 최적점에서 멈출 수 있다."
   ]
  },
  {
   "cell_type": "markdown",
   "id": "f7ba6d01",
   "metadata": {},
   "source": [
    "훈련 데이터의 손실과 검증 데이터의 손실이 줄어드는 과정을 시각화 하기"
   ]
  },
  {
   "cell_type": "code",
   "execution_count": 82,
   "id": "ba3b8bbf",
   "metadata": {},
   "outputs": [
    {
     "data": {
      "image/png": "[encoded data removed]",
      "text/plain": [
       "<Figure size 432x288 with 1 Axes>"
      ]
     },
     "metadata": {
      "needs_background": "light"
     },
     "output_type": "display_data"
    }
   ],
   "source": [
    "plt.plot(history.history['loss'], label='train')\n",
    "plt.plot(history.history['val_loss'], label='test')\n",
    "plt.legend()\n",
    "plt.show()"
   ]
  },
  {
   "cell_type": "markdown",
   "id": "5737673b",
   "metadata": {},
   "source": [
    "## 인퍼런스 모델 구현하기"
   ]
  },
  {
   "cell_type": "markdown",
   "id": "bdd9c856",
   "metadata": {},
   "source": [
    "테스트 단계에서는 정수 인덱스 행렬로 존재하던 텍스트 데이터를 실제 데이터로 복원해야 한다.  \n",
    "필요한 3개의 사전을 아래와 같이 미리 준비한다"
   ]
  },
  {
   "cell_type": "code",
   "execution_count": 83,
   "id": "618f0e9c",
   "metadata": {},
   "outputs": [],
   "source": [
    "src_index_to_word = src_tokenizer.index_word # 원문 단어 집합에서 정수 -> 단어를 얻음  \n",
    "tar_word_to_index = tar_tokenizer.word_index # 요약 단어 집합에서 단어 -> 정수를 얻음  \n",
    "tar_index_to_word = tar_tokenizer.index_word # 요약 단어 집합에서 정수 -> 단어를 얻음"
   ]
  },
  {
   "cell_type": "markdown",
   "id": "12f1d486",
   "metadata": {},
   "source": [
    "seq2seq는 훈련할 때와 실제 동작할 때(인퍼런스 단계)의 방식이 다르므로 그에 맞게 모델 설계를 별개로 진행해야 한다.  \n",
    "\n",
    "훈련 단계에서는  \n",
    "디코더의 입력부에 정답이 되는 문장 전체를 한꺼번에 넣고 디코더의 출력과 한 번에 비교할 수 있으므로,  \n",
    "인코더와 디코더를 엮은 통짜 모델 하나만 준비  \n",
    "\n",
    "인퍼런스 단계에서는 (정답 문장이 없는)  \n",
    "만들어야 할 문장의 길이만큼 디코더가 반복 구조로 동작해야 하기 때문에 부득이하게 인퍼런스를 위한 모델 설계를 별도로 해주어야 한다.  \n",
    "이때는 인코더 모델과 디코더 모델을 분리해서 설계한다.  "
   ]
  },
  {
   "cell_type": "code",
   "execution_count": 84,
   "id": "6fccef4f",
   "metadata": {},
   "outputs": [],
   "source": [
    "# 인코더 설계\n",
    "encoder_model = Model(inputs=encoder_inputs, outputs=[encoder_outputs, state_h, state_c])\n",
    "\n",
    "# 이전 시점의 상태들을 저장하는 텐서\n",
    "decoder_state_input_h = Input(shape=(hidden_size,))\n",
    "decoder_state_input_c = Input(shape=(hidden_size,))\n",
    "\n",
    "dec_emb2 = dec_emb_layer(decoder_inputs)\n",
    "\n",
    "# 문장의 다음 단어를 예측하기 위해서 초기 상태(initial_state)를 이전 시점의 상태로 사용. 이는 뒤의 함수 decode_sequence()에 구현\n",
    "# 훈련 과정에서와 달리 LSTM의 리턴하는 은닉 상태와 셀 상태인 state_h와 state_c를 버리지 않음.\n",
    "decoder_outputs2, state_h2, state_c2 = decoder_lstm(dec_emb2, initial_state=[decoder_state_input_h, decoder_state_input_c])"
   ]
  },
  {
   "cell_type": "markdown",
   "id": "96e2df2e",
   "metadata": {},
   "source": [
    "어텐션 메커니즘을 사용하는 출력층을 설계"
   ]
  },
  {
   "cell_type": "code",
   "execution_count": 85,
   "id": "1318a46a",
   "metadata": {},
   "outputs": [],
   "source": [
    "# 어텐션 함수\n",
    "decoder_hidden_state_input = Input(shape=(text_max_len, hidden_size))\n",
    "attn_out_inf = attn_layer([decoder_outputs2, decoder_hidden_state_input])\n",
    "decoder_inf_concat = Concatenate(axis=-1, name='concat')([decoder_outputs2, attn_out_inf])\n",
    "\n",
    "# 디코더의 출력층\n",
    "decoder_outputs2 = decoder_softmax_layer(decoder_inf_concat) \n",
    "\n",
    "# 최종 디코더 모델\n",
    "decoder_model = Model(\n",
    "    [decoder_inputs] + [decoder_hidden_state_input,decoder_state_input_h, decoder_state_input_c],\n",
    "    [decoder_outputs2] + [state_h2, state_c2])"
   ]
  },
  {
   "cell_type": "markdown",
   "id": "4ad999a4",
   "metadata": {},
   "source": [
    "인퍼런스 단계에서 단어 시퀀스를 완성하는 함수를 만들기"
   ]
  },
  {
   "cell_type": "code",
   "execution_count": 89,
   "id": "7df8772d",
   "metadata": {},
   "outputs": [],
   "source": [
    "def decode_sequence(input_seq):\n",
    "    # 입력으로부터 인코더의 상태를 얻음\n",
    "    e_out, e_h, e_c = encoder_model.predict(input_seq)\n",
    "\n",
    "     # <SOS>에 해당하는 토큰 생성\n",
    "    target_seq = np.zeros((1,1))\n",
    "    target_seq[0, 0] = tar_word_to_index['sostoken']\n",
    "\n",
    "    stop_condition = False\n",
    "    decoded_sentence = ''\n",
    "    while not stop_condition: # stop_condition이 True가 될 때까지 루프 반복\n",
    "\n",
    "        output_tokens, h, c = decoder_model.predict([target_seq] + [e_out, e_h, e_c])\n",
    "        sampled_token_index = np.argmax(output_tokens[0, -1, :])\n",
    "        sampled_token = tar_index_to_word[sampled_token_index]\n",
    "\n",
    "        if (sampled_token!='eostoken'):\n",
    "            decoded_sentence += ' '+sampled_token\n",
    "\n",
    "        #  <eos>에 도달하거나 최대 길이를 넘으면 중단.\n",
    "        if (sampled_token == 'eostoken'  or len(decoded_sentence.split()) >= (headlines_max_len-1)):\n",
    "            stop_condition = True\n",
    "\n",
    "        # 길이가 1인 타겟 시퀀스를 업데이트\n",
    "        target_seq = np.zeros((1,1))\n",
    "        target_seq[0, 0] = sampled_token_index\n",
    "\n",
    "        # 상태를 업데이트 합니다.\n",
    "        e_h, e_c = h, c\n",
    "\n",
    "    return decoded_sentence"
   ]
  },
  {
   "cell_type": "markdown",
   "id": "29f44bf0",
   "metadata": {},
   "source": [
    "## 모델 테스트하기"
   ]
  },
  {
   "cell_type": "markdown",
   "id": "a7c239ea",
   "metadata": {},
   "source": [
    "테스트 단계에서는 정수 시퀀스를 텍스트 시퀀스로 변환하여 결과를 확인하는 것이 편함  \n",
    "주어진 정수 시퀀스를 텍스트 시퀀스로 변환하는 함수를 만들어본다.  \n",
    "\n",
    "함수를 만들 때,  \n",
    "text의 정수 시퀀스에서는 패딩을 위해 사용되는 숫자 0을 제외하고,  \n",
    "headlines의 정수 시퀀스에서는 숫자 0, 시작 토큰의 인덱스, 종료 토큰의 인덱스를 출력에서 제외하도록 만든다."
   ]
  },
  {
   "cell_type": "code",
   "execution_count": 90,
   "id": "5e7144f7",
   "metadata": {},
   "outputs": [],
   "source": [
    "# 원문의 정수 시퀀스를 텍스트 시퀀스로 변환\n",
    "def seq2text(input_seq):\n",
    "    temp=''\n",
    "    for i in input_seq:\n",
    "        if (i!=0):\n",
    "            temp = temp + src_index_to_word[i]+' '\n",
    "    return temp\n",
    "\n",
    "# 요약문의 정수 시퀀스를 텍스트 시퀀스로 변환\n",
    "def seq2headlines(input_seq):\n",
    "    temp=''\n",
    "    for i in input_seq:\n",
    "        if ((i!=0 and i!=tar_word_to_index['sostoken']) and i!=tar_word_to_index['eostoken']):\n",
    "            temp = temp + tar_index_to_word[i] + ' '\n",
    "    return temp\n"
   ]
  },
  {
   "cell_type": "markdown",
   "id": "c7de4fa8",
   "metadata": {},
   "source": [
    "# Step 5. 실제 결과와 요약문 비교하기 (추상적 요약)"
   ]
  },
  {
   "cell_type": "markdown",
   "id": "64c65f32",
   "metadata": {},
   "source": [
    "테스트 데이터 약 50개의 샘플에 대해서 실제 요약과 예측된 요약을 비교해보기"
   ]
  },
  {
   "cell_type": "code",
   "execution_count": 91,
   "id": "24f5c076",
   "metadata": {},
   "outputs": [
    {
     "name": "stdout",
     "output_type": "stream",
     "text": [
      "원문 : mumbai traffic police friday towed away car malad woman seven month old child inside vehicle video incident surfaced social media police officer involved case suspended woman reportedly breast feeding child police decided tow car illegal parking \n",
      "실제 요약 : mumbai cops away car with woman and child inside \n",
      "예측 요약 :  mumbai police rescue woman to save woman who saved her\n",
      "\n",
      "\n",
      "원문 : boy biplab mother father west bengal nadia district took class exams together year three studied subjects school biplab alone took taught father mother finished mother passed father failed year \n",
      "실제 요약 : boy mother father appear for class exams together \n",
      "예측 요약 :  mother of daughter in class mother was not\n",
      "\n",
      "\n",
      "원문 : responding rumoured girlfriend deepika padukone statement way arrive superstar ranveer singh said number one actress hindi cinema today long way go added rate highly actor said wants best actor possible \n",
      "실제 요약 : deepika is no actress of hindi cinema today ranveer singh \n",
      "예측 요약 :  deepika is the best choice for ranveer singh\n",
      "\n",
      "\n",
      "원문 : real madrid barcelona lost sevilla respectively la liga wednesday first time since january real madrid barcelona lost league match day barcelona currently top points table basis goal difference real madrid second \n",
      "실제 요약 : real madrid bar lose league match on same day after months \n",
      "예측 요약 :  real madrid bar real madrid real madrid win real madrid cl\n",
      "\n",
      "\n",
      "원문 : congress mla jitu said aapko meri hai party gayi tel door door campaigning ahead madhya pradesh assembly elections seat second time defeated bjp candidate madhu verma margin votes interestingly bjp candidate jitu election constituency \n",
      "실제 요약 : cong mla who said party gayi wins for nd time in mp \n",
      "예측 요약 :  congress mla who was like congress mla\n",
      "\n",
      "\n",
      "원문 : media entertainment company reliance entertainment thursday said elevated sarkar role group ceo content digital gaming segments previously chief operating officer studio sarkar led process behalf reliance entertainment listing uk based gaming company london stock exchange \n",
      "실제 요약 : reliance entertainment coo sarkar to group ceo \n",
      "예측 요약 :  reliance shah to launch tv show in new york\n",
      "\n",
      "\n",
      "원문 : janata dal given four days ally rashtriya janata dal decide lalu prasad yadav son tejashwi yadav resignation post bihar deputy chief minister notably fir registered tejashwi yadav acquiring benami property bjp demanding sack cabinet \n",
      "실제 요약 : jd gives rjd days to decide on tejashwi resignation \n",
      "예측 요약 :  lalu yadav meets lalu yadav in bihar\n",
      "\n",
      "\n",
      "원문 : australia fell short target runs second test lose test series register heaviest test defeat pakistan terms runs mohammad abbas became first fast bowler take wickets match uae named man match man series \n",
      "실제 요약 : australia lose series after heaviest test defeat vs pakistan \n",
      "예측 요약 :  australia beat australia to win their th test match\n",
      "\n",
      "\n",
      "원문 : uttarakhand high court ordered state government set limit loudspeakers court also disallowed person organisation including religious bodies using loudspeakers without written permission submitting undertaking noise level would exceed court hearing pil toy factory haridwar district \n",
      "실제 요약 : uttarakhand sets limit for loudspeakers in the state \n",
      "예측 요약 :  uttarakhand hc bans uttarakhand hc order on cattle\n",
      "\n",
      "\n",
      "원문 : national company law tribunal admitted insolvency plea filed telecom equipment maker ericsson reliance communications subsidiaries comes ericsson moved tribunal recover unpaid dues crore rcom recently rcom announced plans reduce debt reportedly crore selling wireless infrastructure assets reliance jio \n",
      "실제 요약 : tribunal admits ericsson bankruptcy plea against rcom \n",
      "예측 요약 :  rcom files insolvency plea against rcom over loan\n",
      "\n",
      "\n",
      "원문 : electric vehicle maker tesla co founder elon musk recently joked company different car model names model model model collectively forming word musk initial plan form word sexy tesla cars model names however tesla model renamed model ford sued tesla block model trademark \n",
      "실제 요약 : elon musk jokes about tesla car models forming word \n",
      "예측 요약 :  elon musk tesla car model quits over million\n",
      "\n",
      "\n",
      "원문 : father malayalam actress molested moving train said called inform incident asked thrash incidents stop afraid consequences added arrested police filed complaint \n",
      "실제 요약 : told her to thrash says father of molested actress \n",
      "예측 요약 :  mumbai girl molested by actress molested by\n",
      "\n",
      "\n",
      "원문 : former gangster rai saturday appeared central crime branch pictures family worshipping weapons puja went viral rai extradited uae said weapons leased company based bengaluru rai founder profit organisation jaya karnataka \n",
      "실제 요약 : don turned activist summoned as pics weapons go viral \n",
      "예측 요약 :  ex bride alleges ex girlfriend contestant joins ceremony\n",
      "\n",
      "\n",
      "원문 : bjp cell head amit malviya tweeted karnataka assembly poll dates election commission official announcement congress spokesperson randeep surjewala called bjp super election commission ec issue notice bjp president amit shah register fir bjp head leaking ec confidential information surjewala added \n",
      "실제 요약 : bjp is super election commission congress on poll date leak \n",
      "예측 요약 :  bjp bjp leader amit shah to be bjp candidate for bjp\n",
      "\n",
      "\n",
      "원문 : museum french discovered nearly new collection fake discovery made art historian called paintings mayor said knowing people visited museum seen collection fake bad catastrophe municipality \n",
      "실제 요약 : french museum discovers over half of its collection is fake \n",
      "예측 요약 :  uk eatery to find new eatery for free\n",
      "\n",
      "\n",
      "원문 : vicky kaushal speaking struggling days said time knocked doors film set stood queues hours behind people land role added also faced rejections vicky said cannot wait even three hours shoot scenes \n",
      "실제 요약 : knocked on doors stood in line behind people to get role vicky \n",
      "예측 요약 :  was told to be able to get my own film on debut\n",
      "\n",
      "\n",
      "원문 : actress athiya shetty turned showstopper designers ongoing india couture week walked ramp black skirt golden cape designers new collection princess collection featured european details victorian decorations rich indian heritage \n",
      "실제 요약 : athiya shetty turns showstopper at india couture week \n",
      "예측 요약 :  disha patani to make her debut week\n",
      "\n",
      "\n",
      "원문 : facebook wednesday launched online digital training startup training hubs india digital skills among people facebook said plans train half million people india initiative digital training hub provide free content marketing training startup training hub help technology startups build better products \n",
      "실제 요약 : facebook launches digital startup training in india \n",
      "예측 요약 :  facebook launches app for india first time in mumbai\n",
      "\n",
      "\n",
      "원문 : video surfaced wherein congress mla madhya pradesh labour minister mahendra singh could heard saying workers officers follow instructions kar diya minister made remark interacting party workers state district december \n",
      "실제 요약 : kar mp min on officials not orders \n",
      "예측 요약 :  congress mla posts video of being approached by\n",
      "\n",
      "\n",
      "원문 : apple co founder steve wozniak said sunday leaving facebook following recent data scandal users provide every detail life facebook facebook makes lot advertising money said apple makes money good products added emphasised facebook product \n",
      "실제 요약 : apple co founder steve wozniak says he is leaving facebook \n",
      "예측 요약 :  facebook co founder facebook to be sold for data\n",
      "\n",
      "\n",
      "원문 : year old man nashik santosh pawar allegedly committed suicide house harassed wife police said wednesday pawar suicide note alleged ended life mentally physically harassed wife laws case pawar wife registered \n",
      "실제 요약 : man commits suicide after being harassed by wife in \n",
      "예측 요약 :  man commits suicide after failing to commit suicide\n",
      "\n",
      "\n",
      "원문 : crpf jawan prevented suicide attack crpf camp srinagar karan nagar opening fire two approaching militants militants immediately fled two quick reaction teams dispatched fight although one soldier martyred subsequent action officials said alert year old jawan saved many lives \n",
      "실제 요약 : crpf jawan suicide attack at srinagar camp \n",
      "예측 요약 :  jawan commits suicide in crpf jawan attack\n",
      "\n",
      "\n",
      "원문 : actress janhvi kapoor featured january cover magazine india seen sporting wearing jacket amit aggarwal short tube dress cover story janhvi titled would much rather think world previously appeared cover vogue india \n",
      "실제 요약 : janhvi kapoor features on january cover of india \n",
      "예측 요약 :  janhvi kapoor features on cover of vogue india\n",
      "\n",
      "\n",
      "원문 : donald trump lawyer rudy giuliani saturday said us president committed regime change iran way peace middle east important israeli palestinian deal added earlier year trump said people iran see great support us appropriate time \n",
      "실제 요약 : trump committed to regime change in iran trump lawyer \n",
      "예측 요약 :  trump iran will not be lawyer to iran lawyer\n",
      "\n",
      "\n",
      "원문 : samajwadi party leader party supremo mulayam singh yadav brother shivpal yadav friday announced newly formed samajwadi secular morcha contest lok sabha seats uttar pradesh earlier shivpal urged sp leaders respected join front stating many senior party leaders insulted ignored \n",
      "실제 요약 : my front will contest all lok sabha seats in up shivpal \n",
      "예측 요약 :  mulayam yadav to be mulayam yadav in new party\n",
      "\n",
      "\n",
      "원문 : prisoner released early bihar jail good behaviour sent back jail within month half killed two people following release pawan kumar singh found wife illicit relationship man co prisoner year old killed man cousin \n",
      "실제 요약 : prisoner freed early for good conduct kills sent to same jail \n",
      "예측 요약 :  was forced to jail term for murder cases in jail\n",
      "\n",
      "\n",
      "원문 : paul regional commissioner tanzania dar es salaam city asked public report name person suspected gay also announced creation special team identify social media arrest homosexuality illegal tanzania carrying minimum jail term years \n",
      "실제 요약 : city asks public to report gay people \n",
      "예측 요약 :  spain to host its st transgender woman\n",
      "\n",
      "\n",
      "원문 : nawazuddin siddiqui said surprised approached portray shiv sena founder bal thackeray biopic titled thackeray extremely happy bollywood want play role came added nawazuddin said actor role worth playing \n",
      "실제 요약 : was surprised when was offered thackeray role siddiqui \n",
      "예측 요약 :  nawazuddin is the first choice of thackeray nawazuddin\n",
      "\n",
      "\n",
      "원문 : microsoft said tuesday security patches flaws present processors may slow certain servers personal computers company also said systems running older intel processors experience decrease performance earlier month researchers disclosed flaws affecting nearly every device containing chips intel arm \n",
      "실제 요약 : security for flaws slow pcs microsoft \n",
      "예측 요약 :  microsoft may face recognition tech intel report\n",
      "\n",
      "\n",
      "원문 : dera chief gurmeet ram rahim singh insan appealed cbi court allow adopted daughter honeypreet remain jail also physiotherapist court however refused entertain ram rahim plea notably lookout notice issued honeypreet allegedly conspiring free ram rahim jail \n",
      "실제 요약 : let honeypreet be with me as she is my ram rahim \n",
      "예측 요약 :  honeypreet honeypreet daughter rejected plea for ram rahim\n",
      "\n",
      "\n",
      "원문 : india defeated sri lanka runs second indore friday taking unassailable lead three match series registering fifth consecutive international series victory india bilateral series year match witnessed india highest ever total captain rohit sharma smashing joint fastest hundred \n",
      "실제 요약 : india beat sl in nd to record th series win of \n",
      "예측 요약 :  india beat sl by runs to win their biggest odi series\n",
      "\n",
      "\n",
      "원문 : india foreign secretary vijay gokhale said country open importing oil gas us way expanding trade gokhale added india expected import oil worth billion us year speaking sidelines east asia summit attended pm narendra modi \n",
      "실제 요약 : india says it is ready to import more gas and oil from us \n",
      "예측 요약 :  india will not be able to trade war with us iran\n",
      "\n",
      "\n",
      "원문 : taxi hailing service uber facing fine worth crore california allegedly failing look riders complaints drunken driving consumer protection body found uber conducted follow driver investigation cases complaints reviewed one year period august \n",
      "실제 요약 : uber faces cr fine for ignoring drunk driving complaints \n",
      "예측 요약 :  uber drivers accused of stealing cr from ola uber drivers\n",
      "\n",
      "\n",
      "원문 : dlf audit committee approved transaction promoters sell stake rental arm dlf cyber city developers diamond affiliate singapore based real estate crore march dlf said promoter firms exclusive talks sell dlf cyber city stake help developer reduce debt \n",
      "실제 요약 : promoters to sell stake in rental arm for crore \n",
      "예측 요약 :  govt to acquire stake in jet for crore\n",
      "\n",
      "\n",
      "원문 : sc appointed bcci committee administrators decided switch online financial transactions make direct payments cricketers levels current procedure wherein bcci sends players fees state associations hand cheques end decision comes officials state boards found involved corruption \n",
      "실제 요약 : cricketers to be paid online cheques to be scrapped bcci \n",
      "예측 요약 :  bcci to allow bcci to allow bcci to allow bcci bcci\n",
      "\n",
      "\n",
      "원문 : one every four indians planned retirement according report committee household finance set rbi report stated indians rising health growing old pointing insurance policies received fifth year \n",
      "실제 요약 : only in every indians planned for retirement in \n",
      "예측 요약 :  only of indians in india has highest job govt\n",
      "\n",
      "\n",
      "원문 : people iraqi city mosul celebrated first muslim eid holiday without islamic state since sunday militants ejected much city however expressed sadness destruction year old grand al mosque leaning notably eid prayers allowed islamic state festivities \n",
      "실제 요약 : mosul celebrates first eid without islamic state in years \n",
      "예측 요약 :  iraqi troops in mosul to get married in mosul\n",
      "\n",
      "\n",
      "원문 : technology giant google tuesday rejected us president donald trump claim news search results rigged show bad news stories adding google continually works improve search spokesperson said search used set political agenda bias results toward political ideology \n",
      "실제 요약 : google rejects trump claim of political bias in search \n",
      "예측 요약 :  google search for trump sexual harassment allegations\n",
      "\n",
      "\n",
      "원문 : spinner akshay playing board president xi warm match australia bowled using arms tuesday akshay bowled spin left left arm spin right taking wicket travis head akshay started right arm spinner batted threw left handed coach convinced bowl left arm well \n",
      "실제 요약 : indian spinner bowls with both arms in warm up vs australia \n",
      "예측 요약 :  ex aussie captain spinner charged with kuldeep\n",
      "\n",
      "\n",
      "원문 : google pixel phone inch display starting price india gb variant going gb variant price larger inch pixel xl starts goes pre orders begin october phones go sale november \n",
      "실제 요약 : how much will google pixel pixel xl phones cost in india \n",
      "예측 요약 :  google launches pixel pixel xl in india\n",
      "\n",
      "\n",
      "원문 : bengaluru based trucking logistics startup parent company set raise around million offer working capital loans members platform startup reportedly looking valuation million post series round launched iit kanpur alumni vivek malhotra mandal currently around trucks fleet \n",
      "실제 요약 : startup to raise mn to enter lending services \n",
      "예측 요약 :  swiggy raises crore in bengaluru\n",
      "\n",
      "\n",
      "원문 : union railways minister piyush goyal monday said looking facilitate manufacturing units cheap bio sanitary napkins stations across india adding talks women child development minister maneka gandhi said railway stations work machines used purpose also expensive \n",
      "실제 요약 : railways will assist production of cheap sanitary pads min \n",
      "예측 요약 :  railways to introduce rail system for rail system\n",
      "\n",
      "\n",
      "원문 : jammu kashmir police monday arrested man belonging uttar pradesh muzaffarnagar area allegedly working lashkar taiba terrorist per reports man identified sandeep kumar sharma alias adil part three attacks security forces last month allegedly terrorists one place another \n",
      "실제 요약 : lashkar terrorist from up arrested in kashmir \n",
      "예측 요약 :  hizbul leader arrested for terror funding in hizbul\n",
      "\n",
      "\n",
      "원문 : indian institute technology kanpur conducting joint entrance examination exam may next year according official jee website earlier iit madras director joint admission board chairman professor bhaskar announced exam conducted completely online mode onwards \n",
      "실제 요약 : iit kanpur to conduct jee advanced exam on may next year \n",
      "예측 요약 :  cbse exam exam results exam exam\n",
      "\n",
      "\n",
      "원문 : challenging rbi argument maintaining high reserves emergencies finance minister arun jaitley said keeping reserves day generations people waiting rain surplus rbi reserves used poverty added central bank total reserves lakh crore june \n",
      "실제 요약 : rbi has day fund are waiting for rain jaitley \n",
      "예측 요약 :  rbi should not be allowed to rbi guv on rbi guv\n",
      "\n",
      "\n",
      "원문 : first announced budget government dhan yojana aims collect cattle solid waste farmers sale entrepreneurs convert bio cng mann ki baat address sunday pm narendra modi said scheme rolled april enable farmers use waste income source \n",
      "실제 요약 : what is government dhan \n",
      "예측 요약 :  govt to launch cr in year of tax on budget\n",
      "\n",
      "\n",
      "원문 : following india series defeat england ex cricketer virender sehwag said feels ms dhoni person age started catch used take responsibility take match till end added year old scored runs balls series \n",
      "실제 요약 : dhoni not the same person he was age catching up sehwag \n",
      "예측 요약 :  sehwag calls dhoni for his th time in pant\n",
      "\n",
      "\n",
      "원문 : unique identification authority india asked indian computer emergency response team google india act websites mobile apps providing unauthorised aadhaar related services apps said luring citizens share basic information aadhaar number pretext getting aadhaar cards \n",
      "실제 요약 : uidai asks google to act against unauthorised aadhaar apps \n",
      "예측 요약 :  uidai asks google to not allow aadhaar to indian aadhaar\n",
      "\n",
      "\n",
      "원문 : new york state supreme court judge crore email scam incident took place judge selling property purchasing new one scammers sent email judge posing attorney asking send money bank account \n",
      "실제 요약 : new york judge duped of crore through email scam \n",
      "예측 요약 :  us court allows lawyer to buy lawyer for cr\n",
      "\n",
      "\n",
      "원문 : dipa karmakar bronze vault event third day artistic gymnastics world cup germany saturday overwhelming compete best athletes world aaj ye bronze bhi gold lag raha hai karmakar tweeted win dipa thanked coach parents physio \n",
      "실제 요약 : dipa grabs bronze in event at gymnastics wc \n",
      "예측 요약 :  mary kom wins golds in world cup final for st time\n",
      "\n",
      "\n"
     ]
    }
   ],
   "source": [
    "for i in range(50, 100):\n",
    "    print(\"원문 :\", seq2text(encoder_input_test[i]))\n",
    "    print(\"실제 요약 :\", seq2headlines(decoder_input_test[i]))\n",
    "    print(\"예측 요약 :\", decode_sequence(encoder_input_test[i].reshape(1, text_max_len)))\n",
    "    print(\"\\n\")"
   ]
  },
  {
   "cell_type": "markdown",
   "id": "217ee90f",
   "metadata": {},
   "source": [
    "기존의 요약과는 다른 요약을 출력하면서도 원문의 내용을 담고 있는 의미 있는 요약들이 있음  \n",
    "심지어 일부 요약의 경우에는 원문에 없던 단어를 사용해서 요약을 하기도 함  \n",
    "그다지 좋지 않은 요약의 예도 꽤나 보임"
   ]
  },
  {
   "cell_type": "markdown",
   "id": "c09fc817",
   "metadata": {},
   "source": [
    "성능 개선방법  \n",
    "\n",
    "seq2seq와 어텐션의 자체의 조합을 좀 더 좋게 수정하는 방법  \n",
    "빔 서치(beam search)  \n",
    "사전 훈련된 워드 임베딩(pre-trained word embedding)  \n",
    "인코더 - 디코더 자체의 구조를 새로이 변경한 하는 트랜스포머(Transformer)"
   ]
  },
  {
   "cell_type": "markdown",
   "id": "040e3870",
   "metadata": {},
   "source": [
    "# step 6. Summa을 이용해서 추출적 요약해보기"
   ]
  },
  {
   "cell_type": "markdown",
   "id": "236107d3",
   "metadata": {},
   "source": [
    "본문에 존재하는 단어구, 문장을 뽑아서 요약으로 삼는 추출적 요약 방법  \n",
    "패키지 Summa에서는 추출적 요약을 위한 모듈인 summarize를 제공  "
   ]
  },
  {
   "cell_type": "code",
   "execution_count": 92,
   "id": "1652fcd6",
   "metadata": {},
   "outputs": [],
   "source": [
    "from summa.summarizer import summarize\n",
    "import urllib.request\n",
    "\n",
    "urllib.request.urlretrieve(\"https://raw.githubusercontent.com/sunnysai12345/News_Summary/master/news_summary_more.csv\", filename=\"news_summary_more.csv\")\n",
    "data = pd.read_csv('news_summary_more.csv', encoding='iso-8859-1')"
   ]
  },
  {
   "cell_type": "code",
   "execution_count": 93,
   "id": "4b867335",
   "metadata": {},
   "outputs": [
    {
     "data": {
      "text/html": [
       "<div>\n",
       "<style scoped>\n",
       "    .dataframe tbody tr th:only-of-type {\n",
       "        vertical-align: middle;\n",
       "    }\n",
       "\n",
       "    .dataframe tbody tr th {\n",
       "        vertical-align: top;\n",
       "    }\n",
       "\n",
       "    .dataframe thead th {\n",
       "        text-align: right;\n",
       "    }\n",
       "</style>\n",
       "<table border=\"1\" class=\"dataframe\">\n",
       "  <thead>\n",
       "    <tr style=\"text-align: right;\">\n",
       "      <th></th>\n",
       "      <th>headlines</th>\n",
       "      <th>text</th>\n",
       "    </tr>\n",
       "  </thead>\n",
       "  <tbody>\n",
       "    <tr>\n",
       "      <th>64272</th>\n",
       "      <td>Appointment of J&amp;K interlocutor wonÃ¢ÂÂt aff...</td>\n",
       "      <td>Army Chief General Bipin Rawat has said that t...</td>\n",
       "    </tr>\n",
       "    <tr>\n",
       "      <th>18367</th>\n",
       "      <td>I did what: Sara Tendulkar celebrates graduati...</td>\n",
       "      <td>Former Indian cricketer Sachin Tendulkar's dau...</td>\n",
       "    </tr>\n",
       "    <tr>\n",
       "      <th>59931</th>\n",
       "      <td>British Airways flyers who have paid least to ...</td>\n",
       "      <td>British Airways has announced a group boarding...</td>\n",
       "    </tr>\n",
       "    <tr>\n",
       "      <th>23532</th>\n",
       "      <td>Biopics not going to die anytime soon: 'Mary K...</td>\n",
       "      <td>Filmmaker Omung Kumar, who made his directoria...</td>\n",
       "    </tr>\n",
       "    <tr>\n",
       "      <th>9505</th>\n",
       "      <td>One person is doing all he wants: Bedi on Kohl...</td>\n",
       "      <td>Talking about the fallout between Team India c...</td>\n",
       "    </tr>\n",
       "    <tr>\n",
       "      <th>14982</th>\n",
       "      <td>Tribal man carries wife to hospital after she ...</td>\n",
       "      <td>A tribal man carried his wife on his shoulders...</td>\n",
       "    </tr>\n",
       "    <tr>\n",
       "      <th>87406</th>\n",
       "      <td>Terror alert in Delhi, Mumbai over possible Le...</td>\n",
       "      <td>Intelligence agencies have issued a terror ale...</td>\n",
       "    </tr>\n",
       "    <tr>\n",
       "      <th>29795</th>\n",
       "      <td>I don't want my son Taimur's life to be docume...</td>\n",
       "      <td>Actress Kareena Kapoor Khan has said that she ...</td>\n",
       "    </tr>\n",
       "    <tr>\n",
       "      <th>71886</th>\n",
       "      <td>Ground-to-air security cover in Delhi ahead of...</td>\n",
       "      <td>Delhi has been brought under a ground-to-air s...</td>\n",
       "    </tr>\n",
       "    <tr>\n",
       "      <th>71444</th>\n",
       "      <td>SL coach compares 'ruthless' India to New Zeal...</td>\n",
       "      <td>After India completed a 9-0 all-round whitewas...</td>\n",
       "    </tr>\n",
       "  </tbody>\n",
       "</table>\n",
       "</div>"
      ],
      "text/plain": [
       "                                               headlines  \\\n",
       "64272  Appointment of J&K interlocutor wonÃ¢ÂÂt aff...   \n",
       "18367  I did what: Sara Tendulkar celebrates graduati...   \n",
       "59931  British Airways flyers who have paid least to ...   \n",
       "23532  Biopics not going to die anytime soon: 'Mary K...   \n",
       "9505   One person is doing all he wants: Bedi on Kohl...   \n",
       "14982  Tribal man carries wife to hospital after she ...   \n",
       "87406  Terror alert in Delhi, Mumbai over possible Le...   \n",
       "29795  I don't want my son Taimur's life to be docume...   \n",
       "71886  Ground-to-air security cover in Delhi ahead of...   \n",
       "71444  SL coach compares 'ruthless' India to New Zeal...   \n",
       "\n",
       "                                                    text  \n",
       "64272  Army Chief General Bipin Rawat has said that t...  \n",
       "18367  Former Indian cricketer Sachin Tendulkar's dau...  \n",
       "59931  British Airways has announced a group boarding...  \n",
       "23532  Filmmaker Omung Kumar, who made his directoria...  \n",
       "9505   Talking about the fallout between Team India c...  \n",
       "14982  A tribal man carried his wife on his shoulders...  \n",
       "87406  Intelligence agencies have issued a terror ale...  \n",
       "29795  Actress Kareena Kapoor Khan has said that she ...  \n",
       "71886  Delhi has been brought under a ground-to-air s...  \n",
       "71444  After India completed a 9-0 all-round whitewas...  "
      ]
     },
     "execution_count": 93,
     "metadata": {},
     "output_type": "execute_result"
    }
   ],
   "source": [
    "data.sample(10)"
   ]
  },
  {
   "cell_type": "markdown",
   "id": "fa4f15d1",
   "metadata": {},
   "source": [
    "summarize 사용하기"
   ]
  },
  {
   "cell_type": "markdown",
   "id": "e97d0353",
   "metadata": {},
   "source": [
    "Summa의 summarize()의 인자로 사용되는 값  \n",
    "\n",
    "text (str) : 요약할 테스트.  \n",
    "ratio (float, optional) – 요약문에서 원본에서 선택되는 문장 비율. 0~1 사이값  \n",
    "words (int or None, optional) – 출력에 포함할 단어 수.  \n",
    "만약, ratio와 함께 두 파라미터가 모두 제공되는 경우 ratio는 무시  \n",
    "split (bool, optional) – True면 문장 list / False는 조인(join)된 문자열을 반환  \n",
    "\n",
    "summa의 summarize는 문장 토큰화를 별도로 하지 않더라도 내부적으로 문장 토큰화를 수행  \n",
    "문장 구분이 되어있지 않은 원문을 바로 입력으로 넣을 수 있다.  \n",
    "\n",
    "비율을 적게 주어서 요약문으로 선택되는 문장의 개수를 줄여본다. ( 원문의 0.005%만을 출력하도록 설정)  "
   ]
  },
  {
   "cell_type": "markdown",
   "id": "5e75c5ee",
   "metadata": {},
   "source": [
    "중복 샘플과 NULL 값이 존재하는 샘플 제거"
   ]
  },
  {
   "cell_type": "code",
   "execution_count": 96,
   "id": "35603b05",
   "metadata": {},
   "outputs": [
    {
     "name": "stdout",
     "output_type": "stream",
     "text": [
      "text 열에서 중복을 배제한 유일한 샘플의 수 : 98360\n",
      "headlines 열에서 중복을 배제한 유일한 샘플의 수 : 98280\n"
     ]
    }
   ],
   "source": [
    "# 데이터의 중복 샘플 유무 확인\n",
    "print('text 열에서 중복을 배제한 유일한 샘플의 수 :', data['text'].nunique())\n",
    "print('headlines 열에서 중복을 배제한 유일한 샘플의 수 :', data['headlines'].nunique())"
   ]
  },
  {
   "cell_type": "code",
   "execution_count": 97,
   "id": "e39aae1a",
   "metadata": {},
   "outputs": [
    {
     "name": "stdout",
     "output_type": "stream",
     "text": [
      "전체 샘플수 : 98360\n"
     ]
    }
   ],
   "source": [
    "# inplace=True 를 설정하면 DataFrame 타입 값을 return 하지 않고 data 내부를 직접적으로 바꿈\n",
    "data.drop_duplicates(subset = ['text'], inplace=True)\n",
    "print('전체 샘플수 :', (len(data)))"
   ]
  },
  {
   "cell_type": "code",
   "execution_count": 98,
   "id": "684e5141",
   "metadata": {},
   "outputs": [
    {
     "name": "stdout",
     "output_type": "stream",
     "text": [
      "headlines    0\n",
      "text         0\n",
      "dtype: int64\n"
     ]
    }
   ],
   "source": [
    "print(data.isnull().sum())"
   ]
  },
  {
   "cell_type": "code",
   "execution_count": 102,
   "id": "1053e0a5",
   "metadata": {},
   "outputs": [],
   "source": [
    "data['headlines_predict'] = data['text'].apply(lambda x: summarize(x, ratio=0.5))"
   ]
  },
  {
   "cell_type": "code",
   "execution_count": 103,
   "id": "66bb7524",
   "metadata": {},
   "outputs": [
    {
     "data": {
      "text/html": [
       "<div>\n",
       "<style scoped>\n",
       "    .dataframe tbody tr th:only-of-type {\n",
       "        vertical-align: middle;\n",
       "    }\n",
       "\n",
       "    .dataframe tbody tr th {\n",
       "        vertical-align: top;\n",
       "    }\n",
       "\n",
       "    .dataframe thead th {\n",
       "        text-align: right;\n",
       "    }\n",
       "</style>\n",
       "<table border=\"1\" class=\"dataframe\">\n",
       "  <thead>\n",
       "    <tr style=\"text-align: right;\">\n",
       "      <th></th>\n",
       "      <th>headlines</th>\n",
       "      <th>text</th>\n",
       "      <th>headlines_predict</th>\n",
       "    </tr>\n",
       "  </thead>\n",
       "  <tbody>\n",
       "    <tr>\n",
       "      <th>29007</th>\n",
       "      <td>Order for govt school teachers to take pic wit...</td>\n",
       "      <td>The Sitapur basic education department has wit...</td>\n",
       "      <td>The Sitapur basic education department has wit...</td>\n",
       "    </tr>\n",
       "    <tr>\n",
       "      <th>57436</th>\n",
       "      <td>X-Men director Bryan Singer accused of raping ...</td>\n",
       "      <td>Bryan Singer, who directed the 'X-Men' films, ...</td>\n",
       "      <td>Bryan Singer, who directed the 'X-Men' films, ...</td>\n",
       "    </tr>\n",
       "    <tr>\n",
       "      <th>29787</th>\n",
       "      <td>Drinking too much water may cause brain swelli...</td>\n",
       "      <td>Drinking too much water can cause excess fluid...</td>\n",
       "      <td>Drinking too much water can cause excess fluid...</td>\n",
       "    </tr>\n",
       "    <tr>\n",
       "      <th>88213</th>\n",
       "      <td>Free tools to unlock WannaCry without ransom r...</td>\n",
       "      <td>Researchers have released tools to help people...</td>\n",
       "      <td>Researchers have released tools to help people...</td>\n",
       "    </tr>\n",
       "    <tr>\n",
       "      <th>37027</th>\n",
       "      <td>Saqib Saleem to play villain in Salman's 'Daba...</td>\n",
       "      <td>Actor Saqib Saleem, who recently starred in Sa...</td>\n",
       "      <td>Actor Saqib Saleem, who recently starred in Sa...</td>\n",
       "    </tr>\n",
       "    <tr>\n",
       "      <th>57160</th>\n",
       "      <td>Dhoni 2nd wicketkeeper in history to score 16,...</td>\n",
       "      <td>Former Indian captain MS Dhoni became the seco...</td>\n",
       "      <td>Former Indian captain MS Dhoni became the seco...</td>\n",
       "    </tr>\n",
       "    <tr>\n",
       "      <th>85188</th>\n",
       "      <td>4 kg heroin, 3 kg smack seized from narcotics ...</td>\n",
       "      <td>The Punjab Police on Monday arrested inspector...</td>\n",
       "      <td>The Punjab Police on Monday arrested inspector...</td>\n",
       "    </tr>\n",
       "    <tr>\n",
       "      <th>16088</th>\n",
       "      <td>C'garh lake's floodgates opened after 10yrs am...</td>\n",
       "      <td>Two floodgates of Chandigarh's Sukhna Lake wer...</td>\n",
       "      <td>The gates were last opened in 2008.\\n\"If requi...</td>\n",
       "    </tr>\n",
       "    <tr>\n",
       "      <th>16474</th>\n",
       "      <td>I-T officials conducting survey since Sept 19:...</td>\n",
       "      <td>Jet Airways on Friday said that income tax off...</td>\n",
       "      <td>Jet Airways on Friday said that income tax off...</td>\n",
       "    </tr>\n",
       "    <tr>\n",
       "      <th>78714</th>\n",
       "      <td>Startup develops headphones which adjust to us...</td>\n",
       "      <td>Israel-based audio startup Even has designed B...</td>\n",
       "      <td>Israel-based audio startup Even has designed B...</td>\n",
       "    </tr>\n",
       "  </tbody>\n",
       "</table>\n",
       "</div>"
      ],
      "text/plain": [
       "                                               headlines  \\\n",
       "29007  Order for govt school teachers to take pic wit...   \n",
       "57436  X-Men director Bryan Singer accused of raping ...   \n",
       "29787  Drinking too much water may cause brain swelli...   \n",
       "88213  Free tools to unlock WannaCry without ransom r...   \n",
       "37027  Saqib Saleem to play villain in Salman's 'Daba...   \n",
       "57160  Dhoni 2nd wicketkeeper in history to score 16,...   \n",
       "85188  4 kg heroin, 3 kg smack seized from narcotics ...   \n",
       "16088  C'garh lake's floodgates opened after 10yrs am...   \n",
       "16474  I-T officials conducting survey since Sept 19:...   \n",
       "78714  Startup develops headphones which adjust to us...   \n",
       "\n",
       "                                                    text  \\\n",
       "29007  The Sitapur basic education department has wit...   \n",
       "57436  Bryan Singer, who directed the 'X-Men' films, ...   \n",
       "29787  Drinking too much water can cause excess fluid...   \n",
       "88213  Researchers have released tools to help people...   \n",
       "37027  Actor Saqib Saleem, who recently starred in Sa...   \n",
       "57160  Former Indian captain MS Dhoni became the seco...   \n",
       "85188  The Punjab Police on Monday arrested inspector...   \n",
       "16088  Two floodgates of Chandigarh's Sukhna Lake wer...   \n",
       "16474  Jet Airways on Friday said that income tax off...   \n",
       "78714  Israel-based audio startup Even has designed B...   \n",
       "\n",
       "                                       headlines_predict  \n",
       "29007  The Sitapur basic education department has wit...  \n",
       "57436  Bryan Singer, who directed the 'X-Men' films, ...  \n",
       "29787  Drinking too much water can cause excess fluid...  \n",
       "88213  Researchers have released tools to help people...  \n",
       "37027  Actor Saqib Saleem, who recently starred in Sa...  \n",
       "57160  Former Indian captain MS Dhoni became the seco...  \n",
       "85188  The Punjab Police on Monday arrested inspector...  \n",
       "16088  The gates were last opened in 2008.\\n\"If requi...  \n",
       "16474  Jet Airways on Friday said that income tax off...  \n",
       "78714  Israel-based audio startup Even has designed B...  "
      ]
     },
     "execution_count": 103,
     "metadata": {},
     "output_type": "execute_result"
    }
   ],
   "source": [
    "data.sample(10)"
   ]
  },
  {
   "cell_type": "code",
   "execution_count": 104,
   "id": "4774b89c",
   "metadata": {},
   "outputs": [
    {
     "name": "stdout",
     "output_type": "stream",
     "text": [
      "원문 : Former Finance Minister Yashwant Sinha on Tuesday demanded a probe into the alleged diversion of loans worth Ã¢ÂÂ¹31,000 crore by Dewan Housing Finance (DHFL). All agencies including regulators of the government have failed to track nefarious deals, he said. This comes after a media report on Tuesday accused DHFL's controlling shareholders of diverting funds to shell companies to buy assets.\n",
      "실제 요약 : Yashwant Sinha demands probe into alleged fund diversion by DHFL\n",
      "예측 요약 : Former Finance Minister Yashwant Sinha on Tuesday demanded a probe into the alleged diversion of loans worth Ã¢ÂÂ¹31,000 crore by Dewan Housing Finance (DHFL).\n",
      "\n",
      "\n",
      "원문 : US-based Boeing on Wednesday reported annual sales worth $101.12 billion in 2018, the first time the planemaker's sales crossed the $100-billion mark in its 102-year history. The company said it expects to deliver between 895 and 905 commercial aircraft in 2019. Boeing retained its position as the world's largest planemaker for the seventh straight year, delivering 806 aircraft in 2018. \n",
      "실제 요약 : Boeing sales cross $100bn for 1st time in its 102-yr history\n",
      "예측 요약 : Boeing retained its position as the world's largest planemaker for the seventh straight year, delivering 806 aircraft in 2018.\n",
      "\n",
      "\n",
      "원문 : text\n",
      "실제 요약 : headlines\n",
      "예측 요약 : \n",
      "\n",
      "\n",
      "원문 : OnePlus has emerged as India's best-selling premium smartphone brand of 2018, as per a report by Counterpoint. It captured 36% of the market share in the premium segment, in Q4 2018. Further, its OnePlus 6 emerged as the highest selling premium smartphone of 2018 followed by OnePlus 6T.\n",
      "실제 요약 : OnePlus named bestselling premium smartphone brand of 2018: Report\n",
      "예측 요약 : Further, its OnePlus 6 emerged as the highest selling premium smartphone of 2018 followed by OnePlus 6T.\n",
      "\n",
      "\n",
      "원문 : Filmmaker Pooja Bhatt, while talking about the presentation of women in her films, said, \"I can never look at a female body, even if it's naked, in a vulgar manner.\" \"Our audience can say...the women in my films are bold or sensual, but never ever vulgar,\" she added. Pooja further said her censor board is her \"own heart and mind\".\n",
      "실제 요약 : Can never look at female body, even if naked, in vulgar way: Pooja\n",
      "예측 요약 : Filmmaker Pooja Bhatt, while talking about the presentation of women in her films, said, \"I can never look at a female body, even if it's naked, in a vulgar manner.\" \"Our audience can say...the women in my films are bold or sensual, but never ever vulgar,\" she added.\n",
      "\n",
      "\n",
      "원문 : Actress Mishti, who has featured in 'Manikarnika: The Queen of Jhansi', has said the film's co-director Kangana Ranaut made false promises to the cast. \"Kangana had said, 'I want dates because all characters look jumbled up...I'm trying my best to give everybody a prominent space on screen.' After watching the movie, there is no scope for other characters,\" Mishti added. \n",
      "실제 요약 : Kangana made fake promises to cast: 'Manikarnika' actress Mishti\n",
      "예측 요약 : Actress Mishti, who has featured in 'Manikarnika: The Queen of Jhansi', has said the film's co-director Kangana Ranaut made false promises to the cast.\n",
      "\n",
      "\n",
      "원문 : The high-powered committee led by PM Narendra Modi to select the next CBI Director will meet again on February 1, Congress leader Mallikarjun Kharge has said. The panel consisting of Kharge and Chief Justice of India Ranjan Gogoi met on January 24, but the meeting ended \"inconclusively\" after Kharge cited lack of details in the list of 80 IPS officers. \n",
      "실제 요약 : PM-led panel to meet on Friday to pick new CBI chief: Kharge\n",
      "예측 요약 : The high-powered committee led by PM Narendra Modi to select the next CBI Director will meet again on February 1, Congress leader Mallikarjun Kharge has said.\n",
      "\n",
      "\n",
      "원문 : Nevada State Athletic Commission has banned MMA fighters Conor McGregor and Khabib Nurmagomedov for six months and nine months respectively over their roles in the mass brawl that occurred after their fight at UFC 229 last October. McGregor and Khabib have been fined $50,000 (Ã¢ÂÂ¹35 lakh) and $500,000 (Ã¢ÂÂ¹3.5 crore) respectively. The brawl occurred after Nurmagomedov confronted McGregor's teammate.\n",
      "실제 요약 : McGregor fined Ã¢ÂÂ¹35 lakh, Khabib Ã¢ÂÂ¹3.5 crore for brawl; both banned\n",
      "예측 요약 : Nevada State Athletic Commission has banned MMA fighters Conor McGregor and Khabib Nurmagomedov for six months and nine months respectively over their roles in the mass brawl that occurred after their fight at UFC 229 last October.\n",
      "\n",
      "\n",
      "원문 : Pakistan captain Sarfaraz Ahmed, who has been banned for four matches over racist remarks, took an apparent dig at his critics by sharing a video of a child reciting 'log hai na' poem on Twitter. \"Pyaar karna hai to khud se kar...dushmani karne ke liye log hai na,\" the poem read. \"This is how the world is,\" Sarfaraz wrote.\n",
      "실제 요약 : Banned for 4 matches, Sarfaraz shares 'log hai na' poem for critics\n",
      "예측 요약 : Pakistan captain Sarfaraz Ahmed, who has been banned for four matches over racist remarks, took an apparent dig at his critics by sharing a video of a child reciting 'log hai na' poem on Twitter.\n",
      "\n",
      "\n",
      "원문 : Banned cricketer Sreesanth has told Supreme Court he initially confessed to Delhi Police about his alleged involvement in 2013 IPL spot-fixing scandal to escape continuous police torture. Sreesanth further said the bookie tried dragging him into spot-fixing but he didn't fall for it. Citing Sreesanth not informing BCCI about fixing approach, the apex court said Sreesanth's conduct \"wasn't good\".\n",
      "실제 요약 : Confessed to spot-fixing to escape police torture: Sreesanth to SC\n",
      "예측 요약 : Sreesanth further said the bookie tried dragging him into spot-fixing but he didn't fall for it.\n",
      "\n",
      "\n",
      "원문 : The Finance Ministry on Wednesday said the government will present an Interim Budget on February 1. The clarification came amid speculations that a full Budget may be presented during the session. The government recently assigned Piyush Goyal temporary additional charge of the Finance and Corporate Affairs ministries in the absence of Arun Jaitley, who is in the US for treatment.\n",
      "실제 요약 : Govt to present Interim Budget, not full Budget on February 1\n",
      "예측 요약 : The Finance Ministry on Wednesday said the government will present an Interim Budget on February 1.\n",
      "\n",
      "\n",
      "원문 : US President Donald Trump on Wednesday called his country's top intelligence chiefs \"naive\" and \"wrong\" on Iran and added that they should perhaps \"go back to school\". Trump claimed Iran is testing rockets, calling the country \"a source of potential danger and conflict\". Top US intelligence officials on Tuesday said that Iran isn't currently taking steps towards building nuclear weapons.\n",
      "실제 요약 : US intelligence naive and wrong, should go back to school: Trump\n",
      "예측 요약 : US President Donald Trump on Wednesday called his country's top intelligence chiefs \"naive\" and \"wrong\" on Iran and added that they should perhaps \"go back to school\".\n",
      "\n",
      "\n",
      "원문 : A senior priest at the Vatican who handled cases of sexual abuse has quit after being accused of sexual abuse by a former nun. The accused priest claimed he is innocent and said he would consider taking legal action. The Vatican said in a statement that a Church investigation of the case was underway.\n",
      "실제 요약 : Vatican priest handling sex abuse cases quits over alleged sex abuse\n",
      "예측 요약 : A senior priest at the Vatican who handled cases of sexual abuse has quit after being accused of sexual abuse by a former nun.\n",
      "\n",
      "\n",
      "원문 : A 22-year-old writer turned down a job offer, claiming she was bullied to the point of tears during her two-hour interview by a UK company's CEO. Olivia Bland added the \"brutal\" interview brought back painful memories of her abusive relationship. \"I am so sorry that anyone has been hurt, it is never my intent,\" Web Applications CEO Craig Dean replied. \n",
      "실제 요약 : Woman rejects job after CEO bullies her in interview; he apologises\n",
      "예측 요약 : A 22-year-old writer turned down a job offer, claiming she was bullied to the point of tears during her two-hour interview by a UK company's CEO.\n",
      "\n",
      "\n",
      "원문 : Noida Police has arrested Sector 20 station in-charge Manoj Pant and three journalists for allegedly extorting money from a call centre owner for removing his name from an FIR. The four were caught while taking bribe money of Ã¢ÂÂ¹8 lakh, police said. Pant was the lead investigator in the Paytm extortion case involving Founder Vijay Shekhar Sharma's secretary Sonia Dhawan.\n",
      "실제 요약 : Police officer probing Paytm extortion case arrested for extortion\n",
      "예측 요약 : Noida Police has arrested Sector 20 station in-charge Manoj Pant and three journalists for allegedly extorting money from a call centre owner for removing his name from an FIR.\n",
      "\n",
      "\n",
      "원문 : Airtel on Wednesday said that Qatar's sovereign wealth fund Qatar Investment Authority will invest $200 million through a primary equity issuance in Airtel Africa. India's second-largest telecom operator's Africa unit recently raised $1.25 billion from six investors. Airtel Africa, the holding company for Airtel's operations in 14 African countries, is preparing for an initial public offering.\n",
      "실제 요약 : Qatar to invest $200 million in Airtel Africa\n",
      "예측 요약 : Airtel Africa, the holding company for Airtel's operations in 14 African countries, is preparing for an initial public offering.\n",
      "\n",
      "\n",
      "원문 : Actor Shreyas Talpade said that 'Golmaal' filmmaker Rohit Shetty is still working on the script for the fifth instalment of the 'Golmaal' film franchise. \"He was telling us the other day that he...cracked some story. Once he's done with the...scripting, he'll take a call,Ã¢ÂÂ the actor added. The series features Shreyas along with Ajay Devgn, Arshad Warsi and Tusshar Kapoor.\n",
      "실제 요약 : Rohit Shetty still working on script for Golmaal 5: Shreyas\n",
      "예측 요약 : Actor Shreyas Talpade said that 'Golmaal' filmmaker Rohit Shetty is still working on the script for the fifth instalment of the 'Golmaal' film franchise.\n",
      "Once he's done with the...scripting, he'll take a call,Ã¢ÂÂ the actor added.\n",
      "\n",
      "\n",
      "원문 : A 72-year-old man named Terry Sanderson has sued 'Avengers' actress Gwyneth Paltrow for allegedly crashing into him while skiing, and is seeking $3.1 million (over Ã¢ÂÂ¹22 crore) in damages. The lawsuit states the actress got up and skied away after knocking the man down, leaving him with broken ribs. The incident reportedly took place in 2016 in Utah, US. \n",
      "실제 요약 : Man sues Avengers actress Gwyneth for Ã¢ÂÂ¹22 crore over ski crash\n",
      "예측 요약 : A 72-year-old man named Terry Sanderson has sued 'Avengers' actress Gwyneth Paltrow for allegedly crashing into him while skiing, and is seeking $3.1 million (over Ã¢ÂÂ¹22 crore) in damages.\n",
      "\n",
      "\n",
      "원문 : Yami Gautam was felicitated by Border Security Force (BSF) in Amritsar for her performance in 'Uri: The Surgical Strike'. \"BSF is the first line of defence of our country and it gives me...pride to have met them,\" Yami said. The film, which also stars Vicky Kaushal, is based on the Indian Army's surgical strike operation which took place in 2016.\n",
      "실제 요약 : Yami Gautam felicitated by BSF for performance in 'Uri...'\n",
      "예측 요약 : Yami Gautam was felicitated by Border Security Force (BSF) in Amritsar for her performance in 'Uri: The Surgical Strike'.\n",
      "\n",
      "\n",
      "원문 : Social media giant Facebook has hired privacy critic Nate Cardozo, formerly the top legal counsel for US privacy watchdog EFF, as a privacy policy manager for WhatsApp. Cardozo had called Facebook a \"faceless corporation\" whose business model depends on user's confusion and indifference about privacy, in October 2015. Facebook has also hired attorney Robyn Greene as its privacy policy manager.\n",
      "실제 요약 : Facebook hires its privacy critic as privacy policy manager\n",
      "예측 요약 : Social media giant Facebook has hired privacy critic Nate Cardozo, formerly the top legal counsel for US privacy watchdog EFF, as a privacy policy manager for WhatsApp. Cardozo had called Facebook a \"faceless corporation\" whose business model depends on user's confusion and indifference about privacy, in October 2015.\n",
      "\n",
      "\n",
      "원문 : Apple CEO Tim Cook said the company plans to lower some iPhones' prices in markets with currencies that weakened against the US dollar in the past year. \"WeÃ¢ÂÂve decided to go back to (iPhone prices) more commensurate with...local prices...a year ago,\" Cook added. The price cuts, in hopes of increasing sales, are reportedly occurring for second time in 12 years.\n",
      "실제 요약 : Apple to cut some iPhones' prices outside US over strong dollar\n",
      "예측 요약 : \"WeÃ¢ÂÂve decided to go back to (iPhone prices) more commensurate with...local prices...a year ago,\" Cook added.\n",
      "\n",
      "\n",
      "원문 : Scientists in Australia's Flinders University are testing a wetsuit prototype that could protect its wearer after a shark attack. The suit, made of synthetic material similar to the material used in bulletproof vests, could help reduce blood loss after a shark attack. \"The majority of fatalities from shark bites is due to blood loss...shock from blood loss,\" a scientist said.\n",
      "실제 요약 : Scientists test wetsuit to protect wearer after shark attack\n",
      "예측 요약 : \"The majority of fatalities from shark bites is due to blood loss...shock from blood loss,\" a scientist said.\n",
      "\n",
      "\n",
      "원문 : BJP National Secretary Rahul Sinha on Wednesday asked the party workers in West Bengal to come armed with sticks to PM Narendra Modi's rally in the state on February 2. His statement came a day after clashes broke out following BJP chief Amit Shah's WB rally. Sinha added the TMC is indulged in violence as they're afraid of BJP's strength.\n",
      "실제 요약 : Come armed with sticks for PM Modi's rally in WB: BJP leader\n",
      "예측 요약 : BJP National Secretary Rahul Sinha on Wednesday asked the party workers in West Bengal to come armed with sticks to PM Narendra Modi's rally in the state on February 2.\n",
      "\n",
      "\n",
      "원문 : BJP President Amit Shah on Wednesday took a dig at the Opposition parties saying that the 'mahagathbandhan' for the Opposition is 4B - \"Bua-Bhatija-Bhai-Behen\". He added that 4B for the BJP meant \"Badhta Bharat, Banta Bharat\". He said Opposition's government cannot take the country ahead and \"only Modiji can provide a 'mazboot' (strong) government\".\n",
      "실제 요약 : '4B' for Opposition is 'Bua-Bhatija-Bhai-Behen': Amit Shah\n",
      "예측 요약 : BJP President Amit Shah on Wednesday took a dig at the Opposition parties saying that the 'mahagathbandhan' for the Opposition is 4B - \"Bua-Bhatija-Bhai-Behen\".\n",
      "\n",
      "\n",
      "원문 : German automaker Volkswagen Group has retained the car industry's top spot in global sales, beating its Japanese rival Toyota. Volkswagen's sales, including its MAN and Scania heavy trucks and buses, rose 0.9% to 10.83 million in 2018, the company had said. Toyota came second with around 10.6 million deliveries, including its affiliated brands Daihatsu and Hino, in 2018.\n",
      "실제 요약 : Volkswagen retains top spot in global sales, beats Toyota\n",
      "예측 요약 : Volkswagen's sales, including its MAN and Scania heavy trucks and buses, rose 0.9% to 10.83 million in 2018, the company had said.\n",
      "\n",
      "\n",
      "원문 : Ousted Nissan Chairman Carlos Ghosn has said his arrest over alleged financial misconduct was led by \"plot and treason\" by the Japanese carmaker's executives who opposed its deeper integration with Renault and Mitsubishi. Ghosn added he had discussed the integration plans with Nissan's CEO in September, a month before his arrest. He further said he wouldn't flee if granted bail.\n",
      "실제 요약 : Plot, treason by Nissan executives led to my arrest: Ghosn\n",
      "예측 요약 : Ousted Nissan Chairman Carlos Ghosn has said his arrest over alleged financial misconduct was led by \"plot and treason\" by the Japanese carmaker's executives who opposed its deeper integration with Renault and Mitsubishi.\n",
      "\n",
      "\n",
      "원문 : The government has cut down customs duty on import of parts and components for electric vehicles to 10-15%, down from the previous 15-30%. The Central Board of Indirect Taxes and Customs said disassembled parts will attract 10% duty, whereas 15% will be levied on pre-assembled packs. However, fully built electric vehicles will continue to attract 25% import duty.\n",
      "실제 요약 : Govt cuts customs duty on electric vehicle parts to 10-15%\n",
      "예측 요약 : The government has cut down customs duty on import of parts and components for electric vehicles to 10-15%, down from the previous 15-30%.\n",
      "\n",
      "\n",
      "원문 : Government officials on Wednesday said that a swine flu outbreak has killed 76 people this year in Rajasthan. Colder weather has worsened the seasonal outbreak of the H1N1 virus in the country, officials added. Rajasthan recorded more than a third of all swine flu deaths in India with Jodhpur being the worst affected area in the state, officials said.\n",
      "실제 요약 : Swine flu outbreak kills 76 in Rajasthan\n",
      "예측 요약 : Government officials on Wednesday said that a swine flu outbreak has killed 76 people this year in Rajasthan.\n",
      "\n",
      "\n",
      "원문 : North Korea is \"unlikely to completely give up its nuclear weapons and production capabilities\", Director of US' National Intelligence, Daniel Coats, said. \"North Korean leaders view nuclear arms as critical to regime survival,\" he added. His statements come despite North Korea's agreement with the US at the Singapore summit last year to denuclearise the Korean Peninsula. \n",
      "실제 요약 : N Korea unlikely to give up nuclear weapons: US intelligence chief\n",
      "예측 요약 : \"North Korean leaders view nuclear arms as critical to regime survival,\" he added.\n",
      "\n",
      "\n",
      "원문 : Jet Airways on Wednesday denied it was directed by GE Capital Aviation Services to ground its aircraft due to non-payment of dues. The airline said it's in the process of delivering three aircraft to lessors due to the expiry of lease terms. Further, three aircraft have been temporarily grounded to carry out an engine normalisation exercise, it added.\n",
      "실제 요약 : Jet Airways denies being told to ground aircraft\n",
      "예측 요약 : Further, three aircraft have been temporarily grounded to carry out an engine normalisation exercise, it added.\n",
      "\n",
      "\n",
      "원문 : Retired Justice Srikrishna's enquiry panel has found that ex-CEO Chanda Kochhar violated ICICI Bank's code of conduct. The bank said it'll treat Kochhar's exit as termination and will take back all bonuses paid to her from April 2009 until March 2018. The CBI recently filed a case against Kochhar, her husband, and Videocon MD in the ICICI-Videocon loan case.\n",
      "실제 요약 : ICICI fires Chanda Kochhar, to take back bonuses paid in last 9 yrs\n",
      "예측 요약 : Retired Justice Srikrishna's enquiry panel has found that ex-CEO Chanda Kochhar violated ICICI Bank's code of conduct.\n",
      "\n",
      "\n",
      "원문 : Ex-India cricketer Jacob Martin has been shifted to general ward from the ICU after being on a ventilator for nearly a month following a road accident, wherein he severely injured his lungs. Martin's wife Khyati mentioned there are chances that Jacob will be in hospital for two more months. BCCI, CSK and various cricketers provided financial assistance for Martin's treatment.\n",
      "실제 요약 : Ex-cricketer Martin out of ICU after being on ventilator for a month\n",
      "예측 요약 : Ex-India cricketer Jacob Martin has been shifted to general ward from the ICU after being on a ventilator for nearly a month following a road accident, wherein he severely injured his lungs.\n",
      "\n",
      "\n",
      "원문 : Sri Lanka all-rounder Thisara Perera has written to Sri Lanka Cricket CEO Ashley de Silva, asking the board to intervene after ODI captain Lasith Malinga's wife Tanya targeted him on Facebook. Tanya accused Perera of meeting country's Sports Minister to secure his place in the team. \"We've become laughing stock of whole country...because of one person's personal vendetta,\" Perera wrote.\n",
      "실제 요약 : Malinga's wife targets Perera on Facebook, he seeks board's help\n",
      "예측 요약 : Tanya accused Perera of meeting country's Sports Minister to secure his place in the team.\n",
      "\n",
      "\n",
      "원문 : Goa CM and ex-Defence Minister Manohar Parrikar has written a letter to Congress President Rahul Gandhi over his claim that Parrikar told him he has nothing to do with new Rafale deal. Parrikar wrote, \"Kindly do not use your visit to an ailing person to feed political opportunism.\" In their five-minute meeting, they didn't discuss anything about Rafale, he added.\n",
      "실제 요약 : Don't use visit to ailing man for political gains: Goa CM to Rahul\n",
      "예측 요약 : Goa CM and ex-Defence Minister Manohar Parrikar has written a letter to Congress President Rahul Gandhi over his claim that Parrikar told him he has nothing to do with new Rafale deal.\n",
      "\n",
      "\n",
      "원문 : Prime Minister Narendra Modi stopped his speech at the inauguration of the new terminal building at Surat airport after observing that a cameraman had fainted. PM Modi then asked his officers to urgently arrange for an ambulance for the cameraman. \"It's good that PM was paying attention to his surroundings during his speech,\" the cameraman later said from a hospital. \n",
      "실제 요약 : PM Modi stops speech after cameraman faints, asks officers to help\n",
      "예측 요약 : PM Modi then asked his officers to urgently arrange for an ambulance for the cameraman.\n",
      "\n",
      "\n",
      "원문 : A couple got divorced minutes after their wedding ceremony got over in Gujarat's Gondal as a disagreement broke out and relatives from both sides started throwing dishes at each other during lunch. The advocates representing both sides arrived at the marriage hall and got the couple divorced within minutes. The couple even reportedly returned the gifts exchanged during the ceremony.\n",
      "실제 요약 : Couple divorces minutes after marriage as families fight over lunch\n",
      "예측 요약 : A couple got divorced minutes after their wedding ceremony got over in Gujarat's Gondal as a disagreement broke out and relatives from both sides started throwing dishes at each other during lunch.\n",
      "\n",
      "\n",
      "원문 : Gujarat Education Minister Bhupendrasinh Chudasma has written a congratulatory message to a yoga ashram run by rape-convict Asaram's organisation for observing February 14 as \"Matru-Pitru Pujan Divas\" (Mother-Father worship day). After the Congress termed the letter as \"unfortunate\", saying it \"shows the nexus between BJP and godman\", Chudasma clarified, \"All I have done is sent best wishes.\" \n",
      "실제 요약 : Minister praises rape-convict Asaram over Matru-Pitru Divas\n",
      "예측 요약 : Gujarat Education Minister Bhupendrasinh Chudasma has written a congratulatory message to a yoga ashram run by rape-convict Asaram's organisation for observing February 14 as \"Matru-Pitru Pujan Divas\" (Mother-Father worship day).\n",
      "\n",
      "\n",
      "원문 : Venezuelan President NicolÃÂ¡s Maduro has claimed that his American counterpart Donald Trump ordered the Colombian government and the Colombian mafia to kill him. \"If something happens to me, Trump and Colombian President IvÃÂ¡n MÃÂ¡rquez will bear responsibility,\" he added. The US has blamed Maduro for the economic crisis in Venezuela and recognised opposition leader Juan GuaidÃÂ³ as interim President.\n",
      "실제 요약 : Trump ordered to kill me: Venezuela President Maduro\n",
      "예측 요약 : Venezuelan President NicolÃÂ¡s Maduro has claimed that his American counterpart Donald Trump ordered the Colombian government and the Colombian mafia to kill him.\n",
      "\n",
      "\n",
      "원문 : Eight Asian billionaires aged 90 or above on the Bloomberg Billionaires Index of world's 500 richest people have a combined net worth of $125 billion. The richest among them is Hong Kong's Li Ka Shing with a net worth of $30.5 billion. India's 90-year-old Pallonji Mistry, who controls 18.3% of Tata Sons through Shapoorji Pallonji Group, is worth $20.1 billion.\n",
      "실제 요약 : 8 Asian billionaires aged over 90, including Mistry, control $125bn\n",
      "예측 요약 : The richest among them is Hong Kong's Li Ka Shing with a net worth of $30.5 billion.\n",
      "\n",
      "\n",
      "원문 : Tamil Nadu food safety officials on Wednesday raided and seized 1,000 kgs of banned plastic items from Hotel Saravana Bhavan in Chennai's Vadapalani. Officials began a surprise check in the branch at 8 am. The state government had banned single-use plastics from January 1 and said the banned items should be handed over at the offices of the city corporation.\n",
      "실제 요약 : 1,000 kg banned plastic seized from Saravana Bhavan in Chennai\n",
      "예측 요약 : Tamil Nadu food safety officials on Wednesday raided and seized 1,000 kgs of banned plastic items from Hotel Saravana Bhavan in Chennai's Vadapalani.\n",
      "\n",
      "\n",
      "원문 : Actress Shamita Shetty was verbally abused and her driver was slapped in an incident of road rage in Mumbai on Tuesday, as per reports. The incident reportedly took place after a motorist who was accompanied by two friends, rammed his vehicle into Shamita's car. The men allegedly manhandled and threatened Shamita's driver when he stepped out to inspect the damage. \n",
      "실제 요약 : Shamita Shetty abused, driver slapped after accident: Report\n",
      "예측 요약 : Actress Shamita Shetty was verbally abused and her driver was slapped in an incident of road rage in Mumbai on Tuesday, as per reports.\n",
      "\n",
      "\n",
      "원문 : Actress Vaani Kapoor said that trolling has become a norm on social media, adding, \"There's no one who hasn't got trolled on social media.\" \"Everybody is out there to pull the other person down but it'll only bother [you] if you let it bother you,\" Vaani added. She further said, social media offers a platform \"where people enjoy belittling everybody\". \n",
      "실제 요약 : Trolling has become the norm on social media: Vaani\n",
      "예측 요약 : Actress Vaani Kapoor said that trolling has become a norm on social media, adding, \"There's no one who hasn't got trolled on social media.\" \"Everybody is out there to pull the other person down but it'll only bother [you] if you let it bother you,\" Vaani added.\n",
      "\n",
      "\n",
      "원문 : Actress Sushmita Sen took to Instagram to share a joke on the subject of marriage. \"Whoever invented marriage was creepy as hell. Like I love you so much IÃ¢ÂÂm gonna get the government involved so you canÃ¢ÂÂt leave,\" Sushmita's post read. \"This is an insult to [the] beauty of marriage,\" an Instagram user commented on her post.\n",
      "실제 요약 : Whoever invented marriage was creepy as hell: Sushmita posts joke\n",
      "예측 요약 : Actress Sushmita Sen took to Instagram to share a joke on the subject of marriage.\n",
      "\"This is an insult to [the] beauty of marriage,\" an Instagram user commented on her post.\n",
      "\n",
      "\n",
      "원문 : Television actor Karanvir Bohra, who flew to Russia on Tuesday to attend a film festival, has been detained in Moscow due to passport damage. \"They [are] contemplating to deport me back to India,\" the actor wrote on Twitter. The Indian embassy in Russia's capital responded to his tweet and said that they were looking into the issue. \n",
      "실제 요약 : Actor Karanvir Bohra detained in Russia over passport damage\n",
      "예측 요약 : Television actor Karanvir Bohra, who flew to Russia on Tuesday to attend a film festival, has been detained in Moscow due to passport damage.\n",
      "\n",
      "\n",
      "원문 : While speaking about winning awards for his films, Shah Rukh Khan said, \"If I don't get an award, that award is at a loss.\" \"Sometimes, the prestige of an award increases when I receive it,\" the actor jokingly added. Shah Rukh further said that he was \"extremely ambitious\" but in a \"fair manner\". \n",
      "실제 요약 : If I don't get an award, that award is at loss: SRK\n",
      "예측 요약 : While speaking about winning awards for his films, Shah Rukh Khan said, \"If I don't get an award, that award is at a loss.\" \"Sometimes, the prestige of an award increases when I receive it,\" the actor jokingly added.\n",
      "\n",
      "\n",
      "원문 : Actress Patralekhaa will make her debut in the Kannada film industry with the action-comedy film 'Where is my Kannadaka?' \"I can definitely say that itÃ¢ÂÂs a kind of role that I havenÃ¢ÂÂt portrayed on screen so far and that makes it special for me,\" the actress said in a statement. Shooting for the film will reportedly begin in April.\n",
      "실제 요약 : Actress Patralekhaa to make her Kannada film debut \n",
      "예측 요약 : Actress Patralekhaa will make her debut in the Kannada film industry with the action-comedy film 'Where is my Kannadaka?' \"I can definitely say that itÃ¢ÂÂs a kind of role that I havenÃ¢ÂÂt portrayed on screen so far and that makes it special for me,\" the actress said in a statement.\n",
      "\n",
      "\n",
      "원문 : Gmail on Tuesday faced a global outage, which also affected India, wherein certain users complained they faced a '404 error' message while trying to sign-in to their accounts. The error message read: \"The requested URL was not found on this server. That's all we know.\" Google responded saying \"problem with Gmail should be resolved (now). We apologise for the inconvenience\".\n",
      "실제 요약 : Gmail faces temporary global outage, users face '404 error'\n",
      "예측 요약 : Gmail on Tuesday faced a global outage, which also affected India, wherein certain users complained they faced a '404 error' message while trying to sign-in to their accounts.\n",
      "The error message read: \"The requested URL was not found on this server.\n",
      "\n",
      "\n",
      "원문 : Shiv Sena chief Uddhav Thackeray has asked the BJP to decide about the alliance with the Sena within 15 days and said the BJP should make a concrete proposal on the alliance. Thackeray added that only if the BJP agrees to Sena's terms and conditions, the party will agree for an alliance. Sena is free to fight independently, he said. \n",
      "실제 요약 : Decide about an alliance within 15 days: Uddhav to BJP\n",
      "예측 요약 : Shiv Sena chief Uddhav Thackeray has asked the BJP to decide about the alliance with the Sena within 15 days and said the BJP should make a concrete proposal on the alliance.\n",
      "\n",
      "\n",
      "원문 : BJP President Amit Shah on Wednesday took a dig at the Opposition's proposed grand alliance saying if the \"mahagathbandhan comes to power, each opposition leader will be a Prime Minister every day of the week\". He added, \"[The] country will go on...holiday on Sunday\". He said the Opposition is thinking about leading the country but does not have a leader.\n",
      "실제 요약 : Grand alliance, if wins, will see a new PM every day: Shah\n",
      "예측 요약 : He said the Opposition is thinking about leading the country but does not have a leader.\n",
      "\n",
      "\n",
      "원문 : Prime Minister Narendra Modi on Wednesday said his government's demonetisation decision made houses affordable for the aspiring youth. He added decisions like demonetisation and RERA have put a check on black money that used to be \"parked in the real estate sector\". He said 'UDAN' (Ude Desh ka Aam Nagrik) scheme has boosted the development of the country's aviation sector.\n",
      "실제 요약 : Demonetisation made homes affordable for youth: PM Modi\n",
      "예측 요약 : He added decisions like demonetisation and RERA have put a check on black money that used to be \"parked in the real estate sector\".\n",
      "\n",
      "\n"
     ]
    }
   ],
   "source": [
    "for i in range(50, 100):\n",
    "    print(\"원문 :\", data['text'][i])\n",
    "    print(\"실제 요약 :\", data['headlines'][i])\n",
    "    print(\"예측 요약 :\", data['headlines_predict'][i])\n",
    "    print(\"\\n\")"
   ]
  },
  {
   "cell_type": "markdown",
   "id": "887733c8",
   "metadata": {},
   "source": [
    "# step 7. 회고"
   ]
  },
  {
   "cell_type": "markdown",
   "id": "ba20c77f",
   "metadata": {},
   "source": [
    "네이버에서나 보던 뉴스봇의 요약기능을 직접 만들어 보는 즐거운 경험을 해 보았다.  \n",
    "실제 뉴스기사 데이터를 가지고 추상적 요약과 추출적 요약을 통해, 각각의 장단점을 파악할 수 있었다. \n",
    "\n",
    "추상적 요약은 키워드를 찾아서 그것을 요약할 수 있는 새로운 단어를 만들어 내기도 하여 매끄러운 요약을 하지만  \n",
    "원문과는 동떨어진 요약을 하는 경우가 많이 보였다.  \n",
    "\n",
    "추출적 요약은 연관성이 높은 요약을 한다. 하지만 문장이 매끄럽지 못하고 순서가 뒤죽박죽인 문장을 만들기도 한다  \n",
    "\n",
    "직접 LMS의 내용을 보며 공부를 하여 완성을 했지만, 깊이 있는 내용은 아직 이해가 부족하여 왜 이런 코딩을 했는지에 대한 추가적인  \n",
    "공부가 필요할 듯 하다.  "
   ]
  }
 ],
 "metadata": {
  "kernelspec": {
   "display_name": "Python 3 (ipykernel)",
   "language": "python",
   "name": "python3"
  },
  "language_info": {
   "codemirror_mode": {
    "name": "ipython",
    "version": 3
   },
   "file_extension": ".py",
   "mimetype": "text/x-python",
   "name": "python",
   "nbconvert_exporter": "python",
   "pygments_lexer": "ipython3",
   "version": "3.9.7"
  }
 },
 "nbformat": 4,
 "nbformat_minor": 5
}
